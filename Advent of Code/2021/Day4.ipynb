{
 "cells": [
  {
   "cell_type": "markdown",
   "source": [
    "# Advent of Code 2021 - Day 4"
   ],
   "metadata": {}
  },
  {
   "cell_type": "code",
   "execution_count": 177,
   "source": [
    "typealias Board = List<List<Int>>\r\n",
    "data class Bingo(val draws: List<Int>, val boards: List<Board>)"
   ],
   "outputs": [],
   "metadata": {}
  },
  {
   "cell_type": "code",
   "execution_count": 178,
   "source": [
    "import java.io.File\r\n",
    "import java.util.Scanner\r\n",
    "\r\n",
    "val regex = Regex(\"\"\"(\\d+)\"\"\")\r\n",
    "\r\n",
    "val bingo: Bingo = Scanner(File(\"Day4.input.txt\"))\r\n",
    "    .apply { useDelimiter(\"${System.lineSeparator()}${System.lineSeparator()}\") }\r\n",
    "    .use { scanner ->\r\n",
    "        generateSequence { if(scanner.hasNext()) scanner.next() else null }\r\n",
    "            .toList()\r\n",
    "            .let {\r\n",
    "                Bingo(\r\n",
    "                    draws = regex.findAll(it[0]).map(MatchResult::value).map(String::toInt).toList(),\r\n",
    "                    boards = it.drop(1).map { it.split(\"\\n\").map { regex.findAll(it).map(MatchResult::value).map(String::toInt).toList() } }\r\n",
    "                )\r\n",
    "            }\r\n",
    "    }"
   ],
   "outputs": [],
   "metadata": {}
  },
  {
   "cell_type": "markdown",
   "source": [
    "## Part 1\r\n",
    "\r\n",
    "Draw numbers until one of the `Bingo` `boards` win. A win is if all numbers in a board's rows or columns are marked."
   ],
   "metadata": {}
  },
  {
   "cell_type": "code",
   "execution_count": 179,
   "source": [
    "class MarkableBoard(val board: Board) {\r\n",
    "    private val _marks: MutableMap<Int, Boolean> = board.flatMap { row -> row.map { it to false } }.toMap().toMutableMap()\r\n",
    "    val marks: Map<Int, Boolean> = _marks\r\n",
    "\r\n",
    "    var lastMark: Int? = null\r\n",
    "        private set\r\n",
    "\r\n",
    "    val rowWinCondition: List<List<() -> Boolean>> = board.map { row -> row.map { { marks[it]!! } } }\r\n",
    "    val columnWinCondition: List<List<() -> Boolean>> = (0 until board.size).map { index -> board.map { { marks[it[index]]!! } } }\r\n",
    "    \r\n",
    "    fun checkWin(): Boolean = (rowWinCondition + columnWinCondition).any { row -> row.all { it() } }\r\n",
    "\r\n",
    "    fun mark(number: Int): Boolean? = \r\n",
    "        if (_marks.containsKey(number)) \r\n",
    "            _marks.put(number, true).also { lastMark = number }\r\n",
    "        else \r\n",
    "            false\r\n",
    "\r\n",
    "    fun score(): Int = lastMark?.let { last -> marks.entries.filter { it.value == false }.sumOf { it.key } * last } ?: 0\r\n",
    "}\r\n",
    "\r\n",
    "fun Bingo.winner(): MarkableBoard? {\r\n",
    "    val markableBoards = bingo.boards.map(::MarkableBoard)\r\n",
    "\r\n",
    "    bingo.draws.forEach { draw ->\r\n",
    "        markableBoards.forEach { \r\n",
    "            it.mark(draw) \r\n",
    "            if (it.checkWin()) return it\r\n",
    "        }\r\n",
    "    }\r\n",
    "    \r\n",
    "    return null\r\n",
    "}\r\n",
    "\r\n",
    "bingo.winner()?.score()"
   ],
   "outputs": [
    {
     "output_type": "execute_result",
     "data": {
      "text/plain": [
       "8442"
      ]
     },
     "metadata": {},
     "execution_count": 179
    }
   ],
   "metadata": {}
  },
  {
   "cell_type": "markdown",
   "source": [
    "### Notes\r\n",
    "\r\n",
    "This problem was quite fun, I'm pretty happy with the use of lambdas for this solution. This solution is more imperative than my other solutions, but I like that it highlights Kotlin's treatment of functions as first-class citizens.\r\n",
    "\r\n",
    "The idea here is to first build a map that can tell us which numbers have been marked. To check the win conditions, we can save a list of functions that are positionally tied to the appropriate rows / columns that when executed will retrieve their values from the map. Thus, whenever we need to check the winner, each list of win condition functions can fetch their \"status.\" The logic for checking a win is trivial, since we can just check if any one list is all true. "
   ],
   "metadata": {}
  },
  {
   "cell_type": "markdown",
   "source": [
    "## Part 2\r\n",
    "\r\n",
    "What is the final score of the last board that will win?"
   ],
   "metadata": {}
  },
  {
   "cell_type": "code",
   "execution_count": 180,
   "source": [
    "fun Bingo.lastWinner(): MarkableBoard? {\r\n",
    "    var markableBoards = bingo.boards.map(::MarkableBoard)\r\n",
    "\r\n",
    "    bingo.draws.forEach { draw ->\r\n",
    "        markableBoards = markableBoards.filterNot {\r\n",
    "            it.mark(draw)\r\n",
    "            val won = it.checkWin()\r\n",
    "            if (markableBoards.size == 1 && won) return it else won\r\n",
    "        }\r\n",
    "    }\r\n",
    "\r\n",
    "    return null\r\n",
    "}\r\n",
    "\r\n",
    "bingo.lastWinner()?.score()"
   ],
   "outputs": [
    {
     "output_type": "execute_result",
     "data": {
      "text/plain": [
       "4590"
      ]
     },
     "metadata": {},
     "execution_count": 180
    }
   ],
   "metadata": {}
  },
  {
   "cell_type": "markdown",
   "source": [
    "### Notes\r\n",
    "\r\n",
    "Satisfying problem! The setup from the last part made this part fairly easy. Again, more imperative than I normally write, but it works!"
   ],
   "metadata": {}
  }
 ],
 "metadata": {
  "kernelspec": {
   "display_name": "Kotlin",
   "language": "kotlin",
   "name": "python374jvsc74a57bd01005f71a2f2c9f7da6acb75e9bc0247674183f6cab85bd2a339bd069fc0cd207"
  },
  "language_info": {
   "codemirror_mode": "text/x-kotlin",
   "file_extension": ".kt",
   "mimetype": "text/x-kotlin",
   "name": "kotlin",
   "nbconvert_exporter": "",
   "pygments_lexer": "kotlin",
   "version": "1.6.0-dev-3567"
  }
 },
 "nbformat": 4,
 "nbformat_minor": 5
}