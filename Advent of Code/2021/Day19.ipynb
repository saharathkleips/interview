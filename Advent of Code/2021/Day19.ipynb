{
 "cells": [
  {
   "cell_type": "markdown",
   "id": "85bd3f13",
   "metadata": {},
   "source": [
    "# Advent of Code 2021 - Day 19"
   ]
  },
  {
   "cell_type": "code",
   "execution_count": 457,
   "id": "4fca8055",
   "metadata": {},
   "outputs": [],
   "source": [
    "data class Rotation(\n",
    "    val x1: Int, val y1: Int, val z1: Int,\n",
    "    val x2: Int, val y2: Int, val z2: Int,\n",
    "    val x3: Int, val y3: Int, val z3: Int,\n",
    ")\n",
    "\n",
    "object Rotations : Set<Rotation> by setOf(\n",
    "    Rotation(1,0,0, 0,1,0, 0,0,1),\n",
    "    Rotation(-1,0,0, 0,-1,0, 0,0,1),\n",
    "    Rotation(-1,0,0, 0,1,0, 0,0,-1),\n",
    "    Rotation(1,0,0, 0,-1,0, 0,0,-1),\n",
    "\n",
    "    Rotation(0,0,-1, 0,-1,0, -1,0,0),\n",
    "    Rotation(0,0,1, 0,1,0, -1,0,0),\n",
    "    Rotation(0,0,1, 0,-1,0, 1,0,0),\n",
    "    Rotation(0,0,-1, 0,1,0, 1,0,0),\n",
    "\n",
    "    Rotation(0,1,0, 0,0,1, 1,0,0),\n",
    "    Rotation(0,-1,0, 0,0,1, -1,0,0),\n",
    "    Rotation(0,1,0, 0,0,-1, -1,0,0),\n",
    "    Rotation(0,-1,0, 0,0,-1, 1,0,0),\n",
    "\n",
    "    Rotation(0,-1,0, -1,0,0, 0,0,-1),\n",
    "    Rotation(0,1,0, -1,0,0, 0,0,1),\n",
    "    Rotation(0,-1,0, 1,0,0, 0,0,1),\n",
    "    Rotation(0,1,0, 1,0,0, 0,0,-1),\n",
    "\n",
    "    Rotation(0,0,1, 1,0,0, 0,1,0),\n",
    "    Rotation(0,0,1, -1,0,0, 0,-1,0),\n",
    "    Rotation(0,0,-1, -1,0,0, 0,1,0),\n",
    "    Rotation(0,0,-1, 1,0,0, 0,-1,0),\n",
    "\n",
    "    Rotation(-1,0,0, 0,0,-1, 0,-1,0),\n",
    "    Rotation(-1,0,0, 0,0,1, 0,1,0),\n",
    "    Rotation(1,0,0, 0,0,1, 0,-1,0),\n",
    "    Rotation(1,0,0, 0,0,-1, 0,1,0),\n",
    ")\n",
    "\n",
    "data class Beacon(val x: Int, val y: Int, val z: Int)\n",
    "\n",
    "fun Beacon.rotateBy(rotation: Rotation) = Beacon(\n",
    "    x = (rotation.x1 * x) + (rotation.y1 * y) + (rotation.z1 * z),\n",
    "    y = (rotation.x2 * x) + (rotation.y2 * y) + (rotation.z2 * z),\n",
    "    z = (rotation.x3 * x) + (rotation.y3 * y) + (rotation.z3 * z),\n",
    ")\n",
    "\n",
    "fun Beacon.rotateBy(rotations: Collection<Rotation>) = rotations.map { rotateBy(it) }\n",
    "\n",
    "data class Scanner(val beacons: Set<Beacon>)"
   ]
  },
  {
   "cell_type": "code",
   "execution_count": 458,
   "id": "992b0144",
   "metadata": {},
   "outputs": [],
   "source": [
    "import java.io.File\n",
    "import java.util.Scanner\n",
    "import kotlin.sequences.generateSequence\n",
    "\n",
    "val regex = Regex(\"\"\"(-?\\d+),(-?\\d+),(-?\\d+)\"\"\")\n",
    "\n",
    "val scanners: List<Scanner> = Scanner(File(\"Day19.input.txt\"))\n",
    "    .apply { useDelimiter(\"${System.lineSeparator()}${System.lineSeparator()}\") }\n",
    "    .use { scanner ->\n",
    "        generateSequence { if(scanner.hasNext()) scanner.next() else null }\n",
    "            .map {\n",
    "                it.lineSequence().drop(1)\n",
    "                    .map { regex.find(it)!!.destructured }\n",
    "                    .map { (x, y, z) -> Beacon(x = x.toInt(), y = y.toInt(), z = z.toInt()) }\n",
    "            }\n",
    "            .map { Scanner(it.toSet()) }\n",
    "            .toList()\n",
    "    }"
   ]
  },
  {
   "cell_type": "markdown",
   "id": "9dbc4d21",
   "metadata": {},
   "source": [
    "## Part 1\n",
    "\n",
    "Given a list of `scanners` find all of the unique `Beacon`s. Each `Scanner` can be randomly orientated in 90 degree increments. Two scanners overlap when at least 12 of their beacons overlap."
   ]
  },
  {
   "cell_type": "code",
   "execution_count": 459,
   "id": "8ecaf344",
   "metadata": {},
   "outputs": [
    {
     "data": {
      "text/plain": [
       "483"
      ]
     },
     "execution_count": 459,
     "metadata": {},
     "output_type": "execute_result"
    }
   ],
   "source": [
    "import kotlin.collections.ArrayDeque\n",
    "\n",
    "val MIN_MATCHING = 12\n",
    "\n",
    "inline fun <A,B> Iterable<A>.mapToSet(fn: (A) -> B): Set<B> = mapTo(mutableSetOf(), fn)\n",
    "\n",
    "fun Scanner.rotateBy(rotation: Rotation) = Scanner(beacons.mapToSet { it.rotateBy(rotation) })\n",
    "fun Scanner.rotateBy(rotations: Collection<Rotation>): List<Scanner> = rotations.map { rotateBy(it) }\n",
    "\n",
    "data class Translation(val dx: Int, val dy: Int, val dz: Int)\n",
    "fun Beacon.translateBy(translation: Translation) = Beacon(x = x + translation.dx, y = y + translation.dy, z = z + translation.dz)\n",
    "fun Scanner.translateBy(translation: Translation) = Scanner(beacons.mapToSet { it.translateBy(translation) })\n",
    "\n",
    "operator fun Beacon.minus(other: Beacon) = Translation(dx = x - other.x, dy = y - other.y, dz = z - other.z)\n",
    "\n",
    "fun Scanner.overlaps(other: Scanner): Int = other.beacons.count { it in beacons }\n",
    "\n",
    "operator fun Scanner.plus(other: Scanner) = Scanner(beacons + other.beacons)\n",
    "\n",
    "fun Scanner.correlate(other: Scanner): Pair<Scanner, Translation>? {\n",
    "    other.rotateBy(Rotations).forEach { rotated ->\n",
    "        beacons.flatMap { beacon -> rotated.beacons.map { beacon - it } }\n",
    "            .forEach { translation ->\n",
    "                val translated = rotated.translateBy(translation)\n",
    "                if (overlaps(translated) >= MIN_MATCHING)\n",
    "                    return (this + translated) to translation\n",
    "            }\n",
    "    }\n",
    "    return null\n",
    "}\n",
    "\n",
    "tailrec fun Scanner.correlateAll(other: List<Scanner>, translations: List<Translation> = listOf()): Pair<Scanner, List<Translation>> =\n",
    "    if (other.isEmpty()) this to translations\n",
    "    else other.first().let {\n",
    "        correlate(it)\n",
    "            ?.let { it.first.correlateAll(other.drop(1), translations + it.second) } \n",
    "            ?: correlateAll(other.drop(1) + it, translations)\n",
    "    }\n",
    "\n",
    "val (scanner, translations) = scanners[0].correlateAll(scanners.drop(1))\n",
    "scanner.beacons.size"
   ]
  },
  {
   "cell_type": "markdown",
   "id": "a9aa6953",
   "metadata": {},
   "source": [
    "### Notes\n",
    "\n",
    "Since I took a computer graphics course in college, the first thought here was matrix operations for rotating and translating. Then I broke down each operation piece by piece. The core logic here is to anchor yourself against a single \"correct\" orientation (any one orientation is equally valid), so we can just choose the first one. To find if two `Scanner`s overlap, we need to first check all rotational orientations. Within each rotation, we translate each `Beacon` to each \"anchor\" `Beacon` and then count all of the matches. If we have twelve or more then we can combine all of the `Beacon`s into a single `Scanner`. We can then just repeat this process until we have a single fully merged `Scanner`.\n",
    "\n",
    "I think I ended up being pretty happy with the code, however the execution ended up being quite slow (22s on my MacBook Pro). Without a significant deviation from the core logic, a big performance benefit would be to utilize more mutations rather than having each operation return new objects."
   ]
  },
  {
   "cell_type": "markdown",
   "id": "12ea84f0",
   "metadata": {},
   "source": [
    "## Part 2\n",
    "\n",
    "Calculate the largest `Manhattan Distance` between all of the `Scanner`s."
   ]
  },
  {
   "cell_type": "code",
   "execution_count": 460,
   "id": "ee443493",
   "metadata": {},
   "outputs": [
    {
     "data": {
      "text/plain": [
       "14804"
      ]
     },
     "execution_count": 460,
     "metadata": {},
     "output_type": "execute_result"
    }
   ],
   "source": [
    "fun Translation.manhattanDistance(other: Translation): Int = abs(dx - other.dx) + abs(dy - other.dy) + abs(dz - other.dz)\n",
    "\n",
    "translations.maxOfOrNull { outer ->\n",
    "    translations.maxOfOrNull { outer.manhattanDistance(it) } ?: 0\n",
    "}"
   ]
  },
  {
   "cell_type": "markdown",
   "id": "be835384",
   "metadata": {},
   "source": [
    "### Notes\n",
    "\n",
    "I actually had already implemented `Translation` for part 1, so not much needed to change. Since we were translating each `Scanner` to the first `Scanner` as \"0,0\" we can just treat each translation as the location of a `Scanner`. I had to modify the `Scanner::correlate` and `Scanner::correlateAll` functions to return the `Translation` as well as the `Scanner`. I think this makes the API messier, but I didn't want to put more effort into this problem."
   ]
  }
 ],
 "metadata": {
  "kernelspec": {
   "display_name": "Kotlin",
   "language": "kotlin",
   "name": "kotlin"
  },
  "language_info": {
   "codemirror_mode": "text/x-kotlin",
   "file_extension": ".kt",
   "mimetype": "text/x-kotlin",
   "name": "kotlin",
   "nbconvert_exporter": "",
   "pygments_lexer": "kotlin",
   "version": "1.6.20-dev-6372"
  }
 },
 "nbformat": 4,
 "nbformat_minor": 5
}
