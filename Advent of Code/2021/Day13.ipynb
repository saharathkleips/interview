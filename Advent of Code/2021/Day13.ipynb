{
 "cells": [
  {
   "cell_type": "markdown",
   "id": "0cf1c903",
   "metadata": {},
   "source": [
    "# Advent of Code 2021 - Day 13"
   ]
  },
  {
   "cell_type": "code",
   "execution_count": 1,
   "id": "83cc7689",
   "metadata": {},
   "outputs": [],
   "source": [
    "typealias Dot = Pair<Int, Int>\n",
    "\n",
    "data class Instruction(val direction: Direction, val across: Int)\n",
    "\n",
    "enum class Direction(val id: String) { \n",
    "    UP(\"y\"),\n",
    "    LEFT(\"x\"),\n",
    "    ;\n",
    "    companion object {\n",
    "        private val idMap: Map<String, Direction> = Direction.values().associateBy(Direction::id)\n",
    "        fun fromId(id: String): Direction = idMap[id]!!\n",
    "    }\n",
    "}\n",
    "\n",
    "data class Input(val dots: Set<Dot>, val instructions: List<Instruction>)"
   ]
  },
  {
   "cell_type": "code",
   "execution_count": 2,
   "id": "073a3a8b",
   "metadata": {},
   "outputs": [],
   "source": [
    "import java.io.File\n",
    "import java.util.Scanner\n",
    "import kotlin.sequences.generateSequence\n",
    "\n",
    "val input: Input = Scanner(File(\"Day13.input.txt\"))\n",
    "    .apply { useDelimiter(\"\\n\\n\") }\n",
    "    .use { scanner ->\n",
    "        generateSequence { if(scanner.hasNext()) scanner.next() else null }\n",
    "            .toList()\n",
    "            .let {\n",
    "                val dotsRegex = Regex(\"\"\"(\\d+),(\\d+)\"\"\")\n",
    "                val instructionRegex = Regex(\"\"\"(x|y)=(\\d+)\"\"\")\n",
    "                Input(\n",
    "                    dots = it.first().lineSequence()\n",
    "                        .map { dotsRegex.find(it)!!.destructured }\n",
    "                        .map { (x, y) -> x.toInt() to y.toInt() }\n",
    "                        .toSet(),\n",
    "                    instructions = it.last().lineSequence()\n",
    "                        .map { instructionRegex.find(it)!!.destructured }\n",
    "                        .map { (direction, at) -> Instruction(Direction.fromId(direction), at.toInt())}\n",
    "                        .toList()\n",
    "                )\n",
    "            }\n",
    "    }"
   ]
  },
  {
   "cell_type": "markdown",
   "id": "f7808e6a",
   "metadata": {},
   "source": [
    "## Part 1\n",
    "\n",
    "The set of `Input::dots` corresponds to locations on a grid. Fold the grid according to the first `Input::instructions` where the `Instruction::across` represents the horizontal or vertical line to mirror the dot across. How many dots are visible after the first fold?"
   ]
  },
  {
   "cell_type": "code",
   "execution_count": 3,
   "id": "976799d5",
   "metadata": {},
   "outputs": [
    {
     "data": {
      "text/plain": [
       "664"
      ]
     },
     "execution_count": 3,
     "metadata": {},
     "output_type": "execute_result"
    }
   ],
   "source": [
    "fun Dot.fold(inst: Instruction): Dot =\n",
    "    when (inst.direction) {\n",
    "        Direction.UP -> if (second < inst.across) this else first to (second - ((second - inst.across) * 2))\n",
    "        Direction.LEFT -> if (first < inst.across) this else (first - ((first - inst.across) * 2)) to second\n",
    "    }\n",
    "\n",
    "fun Set<Dot>.fold(inst: Instruction): Set<Dot> = map { it.fold(inst) }.toSet()\n",
    "\n",
    "input.dots.fold(input.instructions[0]).size"
   ]
  },
  {
   "cell_type": "markdown",
   "id": "313d9139",
   "metadata": {},
   "source": [
    "### Notes\n",
    "\n",
    "The trick here is to figure out how to \"fold\" or \"mirror\" an individual dot across the line. To fold it across a horizontal line, subtract the y position of the dot by 2 times the difference between the dot and the line. The rule is similar for folding left except with the x position. "
   ]
  },
  {
   "cell_type": "markdown",
   "id": "db267339",
   "metadata": {},
   "source": [
    "## Part 2\n",
    "\n",
    "Fold the `Input::dots` through all of the `Input::instructions`. Find the final 8 capital letter code."
   ]
  },
  {
   "cell_type": "code",
   "execution_count": 4,
   "id": "fc3cb168",
   "metadata": {},
   "outputs": [
    {
     "name": "stdout",
     "output_type": "stream",
     "text": [
      "🇹🇭🇹🇭🇹🇭🇹🇭🏴🇹🇭🇹🇭🇹🇭🇹🇭🏴🏴🏴🇹🇭🇹🇭🏴🇹🇭🏴🏴🇹🇭🏴🇹🇭🇹🇭🇹🇭🇹🇭🏴🇹🇭🏴🏴🏴🏴🇹🇭🇹🇭🇹🇭🏴🏴🇹🇭🏴🏴🏴\n",
      "🇹🇭🏴🏴🏴🏴🇹🇭🏴🏴🏴🏴🏴🏴🏴🇹🇭🏴🇹🇭🏴🇹🇭🏴🏴🏴🏴🏴🇹🇭🏴🇹🇭🏴🏴🏴🏴🇹🇭🏴🏴🇹🇭🏴🇹🇭🏴🏴🏴\n",
      "🇹🇭🇹🇭🇹🇭🏴🏴🇹🇭🇹🇭🇹🇭🏴🏴🏴🏴🏴🇹🇭🏴🇹🇭🇹🇭🏴🏴🏴🏴🏴🇹🇭🏴🏴🇹🇭🏴🏴🏴🏴🇹🇭🇹🇭🇹🇭🏴🏴🇹🇭🏴🏴🏴\n",
      "🇹🇭🏴🏴🏴🏴🇹🇭🏴🏴🏴🏴🏴🏴🏴🇹🇭🏴🇹🇭🏴🇹🇭🏴🏴🏴🇹🇭🏴🏴🏴🇹🇭🏴🏴🏴🏴🇹🇭🏴🏴🇹🇭🏴🇹🇭🏴🏴🏴\n",
      "🇹🇭🏴🏴🏴🏴🇹🇭🏴🏴🏴🏴🇹🇭🏴🏴🇹🇭🏴🇹🇭🏴🇹🇭🏴🏴🇹🇭🏴🏴🏴🏴🇹🇭🏴🏴🏴🏴🇹🇭🏴🏴🇹🇭🏴🇹🇭🏴🏴🏴\n",
      "🇹🇭🇹🇭🇹🇭🇹🇭🏴🇹🇭🏴🏴🏴🏴🏴🇹🇭🇹🇭🏴🏴🇹🇭🏴🏴🇹🇭🏴🇹🇭🇹🇭🇹🇭🇹🇭🏴🇹🇭🇹🇭🇹🇭🇹🇭🏴🇹🇭🇹🇭🇹🇭🏴🏴🇹🇭🇹🇭🇹🇭🇹🇭\n"
     ]
    }
   ],
   "source": [
    "fun Set<Dot>.display(mark: String = \"#\", empty: String = \".\"): Unit {\n",
    "    (0..maxOf { it.second }).forEach { y ->\n",
    "        (0..maxOf { it.first }).forEach { x ->\n",
    "            print(if ((x to y) in this) mark else empty)\n",
    "        }\n",
    "        println()\n",
    "    }\n",
    "}\n",
    "\n",
    "input.instructions.fold(input.dots) { previous, instruction -> previous.fold(instruction) }\n",
    "    .display(\"🇹🇭\", \"🏴\")"
   ]
  },
  {
   "cell_type": "markdown",
   "id": "7fae89c7",
   "metadata": {},
   "source": [
    "### Notes\n",
    "\n",
    "This one was really fun / satisfying to solve. The folding logic still works from part 1, so now we just need to figure out how to display the dots. To do so, we can just iteratively go through a grid and print a unique symbol every time the index was a dot."
   ]
  }
 ],
 "metadata": {
  "kernelspec": {
   "display_name": "Kotlin",
   "language": "kotlin",
   "name": "kotlin"
  },
  "language_info": {
   "codemirror_mode": "text/x-kotlin",
   "file_extension": ".kt",
   "mimetype": "text/x-kotlin",
   "name": "kotlin",
   "nbconvert_exporter": "",
   "pygments_lexer": "kotlin",
   "version": "1.6.20-dev-6372"
  }
 },
 "nbformat": 4,
 "nbformat_minor": 5
}
