{
 "cells": [
  {
   "cell_type": "markdown",
   "id": "fc9825cd",
   "metadata": {},
   "source": [
    "# Advent of Code 2021 - Day 24"
   ]
  },
  {
   "cell_type": "code",
   "execution_count": 151,
   "id": "27d7a31e",
   "metadata": {},
   "outputs": [],
   "source": [
    "data class ALU(val w: Int, val x: Int, val y: Int, val z: Int) {\n",
    "    enum class Register { W, X, Y, Z }\n",
    "}\n",
    "\n",
    "sealed interface Instruction { val lhs: Value.Register }\n",
    "data class Input(override val lhs: Value.Register) : Instruction\n",
    "\n",
    "sealed interface Operation : Instruction { val rhs: Value }\n",
    "data class Add(override val lhs: Value.Register, override val rhs: Value) : Operation\n",
    "data class Multiply(override val lhs: Value.Register, override val rhs: Value) : Operation\n",
    "data class Divide(override val lhs: Value.Register, override val rhs: Value) : Operation\n",
    "data class Modulo(override val lhs: Value.Register, override val rhs: Value) : Operation\n",
    "data class Equal(override val lhs: Value.Register, override val rhs: Value) : Operation\n",
    "\n",
    "sealed interface Value {\n",
    "    @JvmInline value class Register(val value: ALU.Register) : Value\n",
    "    @JvmInline value class Integer(val value: Int) : Value\n",
    "}"
   ]
  },
  {
   "cell_type": "code",
   "execution_count": 152,
   "id": "890546ec",
   "metadata": {},
   "outputs": [],
   "source": [
    "import java.io.File\n",
    "\n",
    "fun String.toValue(): Value = when (this) {\n",
    "    \"w\" -> Value.Register(ALU.Register.W)\n",
    "    \"x\" -> Value.Register(ALU.Register.X)\n",
    "    \"y\" -> Value.Register(ALU.Register.Y)\n",
    "    \"z\" -> Value.Register(ALU.Register.Z)\n",
    "    else -> Value.Integer(toInt())\n",
    "}\n",
    "fun String.toRegister(): Value.Register = (toValue() as? Value.Register) ?: TODO()\n",
    "\n",
    "val regex = Regex(\"\"\"([a-z]{3}) ([wxyz])\\s*([wxyz]|-?\\d+)?\"\"\")\n",
    "\n",
    "val instructions: List<Instruction> = File(\"Day24.input.txt\")\n",
    "    .bufferedReader()\n",
    "    .readLines()\n",
    "    .map { regex.find(it)!!.destructured }\n",
    "    .map { (instruction, lhs, rhs) ->\n",
    "        if (instruction == \"inp\") Input(lhs.toRegister())\n",
    "        else if (instruction == \"add\") Add(lhs.toRegister(), rhs.toValue())\n",
    "        else if (instruction == \"mul\") Multiply(lhs.toRegister(), rhs.toValue())\n",
    "        else if (instruction == \"div\") Divide(lhs.toRegister(), rhs.toValue())\n",
    "        else if (instruction == \"mod\") Modulo(lhs.toRegister(), rhs.toValue())\n",
    "        else if (instruction == \"eql\") Equal(lhs.toRegister(), rhs.toValue())\n",
    "        else TODO()\n",
    "    }"
   ]
  },
  {
   "cell_type": "markdown",
   "id": "cdaf1c76",
   "metadata": {},
   "source": [
    "## Part 1\n",
    "\n",
    "Decode the input and determine the largest model number."
   ]
  },
  {
   "cell_type": "code",
   "execution_count": 153,
   "id": "9f058885",
   "metadata": {},
   "outputs": [],
   "source": [
    "operator fun ALU.get(register: ALU.Register): Int = when (register) {\n",
    "    ALU.Register.W -> w\n",
    "    ALU.Register.X -> x\n",
    "    ALU.Register.Y -> y\n",
    "    ALU.Register.Z -> z\n",
    "}\n",
    "\n",
    "operator fun ALU.get(value: Value): Int = when (value) {\n",
    "    is Value.Register -> get(value.value)\n",
    "    is Value.Integer -> value.value\n",
    "}\n",
    "\n",
    "fun ALU.set(register: ALU.Register, value: Int): ALU = when (register) {\n",
    "    ALU.Register.W -> copy(w = value)\n",
    "    ALU.Register.X -> copy(x = value)\n",
    "    ALU.Register.Y -> copy(y = value)\n",
    "    ALU.Register.Z -> copy(z = value)\n",
    "}\n",
    "\n",
    "fun ALU.set(register: Value.Register, value: Int): ALU = set(register.value, value)"
   ]
  },
  {
   "cell_type": "code",
   "execution_count": 154,
   "id": "1218dd79",
   "metadata": {},
   "outputs": [],
   "source": [
    "fun ALU.process(instruction: Instruction): ALU = when (instruction) {\n",
    "    is Add -> set(instruction.lhs, get(instruction.lhs) + get(instruction.rhs))\n",
    "    is Multiply -> set(instruction.lhs, get(instruction.lhs) * get(instruction.rhs))\n",
    "    is Divide -> set(instruction.lhs, get(instruction.lhs) / get(instruction.rhs))\n",
    "    is Modulo -> set(instruction.lhs, get(instruction.lhs) % get(instruction.rhs))\n",
    "    is Equal -> set(instruction.lhs, if (get(instruction.lhs) == get(instruction.rhs)) 1 else 0)\n",
    "    is Input -> this\n",
    "    else -> TODO()\n",
    "}\n",
    "\n",
    "fun ALU.process(instructions: List<Instruction>): ALU = instructions.fold(this) { prev, it -> prev.process(it) }"
   ]
  },
  {
   "cell_type": "code",
   "execution_count": 155,
   "id": "8478648e",
   "metadata": {},
   "outputs": [
    {
     "data": {
      "text/plain": [
       "92969593497992"
      ]
     },
     "execution_count": 155,
     "metadata": {},
     "output_type": "execute_result"
    }
   ],
   "source": [
    "fun <T> List<T>.partitionStart(condition: (T) -> Boolean): List<List<T>> =\n",
    "    buildList<MutableList<T>> {\n",
    "        var index = -1\n",
    "        this@partitionStart.forEach { element ->\n",
    "            if (condition(element)) add(mutableListOf(element)).also { index++ }\n",
    "            else getOrNull(index)?.let { it.add(element) }\n",
    "        }\n",
    "    }\n",
    "\n",
    "fun List<List<Instruction>>.modelNumber(smallest: Boolean = false): String {\n",
    "    val modelNumber = mutableListOf(0,0, 0,0,0, 0,0,0, 0,0,0, 0,0,0)\n",
    "    val stack = mutableListOf<Pair<Int, Int>>()\n",
    "\n",
    "    (0..13).forEach {\n",
    "        val addX = ((this[it][5] as? Add)?.rhs as? Value.Integer)?.value ?: TODO()\n",
    "        if (addX > 0) {\n",
    "            val addY = ((this[it][15] as? Add)?.rhs as? Value.Integer)?.value ?: TODO()\n",
    "            stack.add(0, addY to it)\n",
    "        } else {\n",
    "            val (addY, digit) = stack.removeFirst()\n",
    "            val current = if (smallest) generateSequence(1) { it + 1 }.first { it + addY + addX >= 1 }\n",
    "                else generateSequence(9) { it - 1 }.first { it + addY + addX <= 9 }\n",
    "            modelNumber[digit] = current\n",
    "            modelNumber[it] = current + addY + addX\n",
    "        }\n",
    "    }\n",
    "    return modelNumber.joinToString(\"\")\n",
    "}\n",
    "\n",
    "instructions.partitionStart { it is Input }.modelNumber()"
   ]
  },
  {
   "cell_type": "markdown",
   "id": "f2511df3",
   "metadata": {},
   "source": [
    "### Notes\n",
    "\n",
    "After running the program for 10 minutes, figured I needed to do the \"You'll need to figure out what MONAD does some other way.\" part of the problem.\n",
    "\n",
    "Some initial things I noticed is that each subdivided instruction has a similar pattern:\n",
    "- 18 instructions long, starts with `w` input.\n",
    "- sets the value of `x` to `z`. -- `x` is dependent on calculation from the previous `z` (`0` if valid)\n",
    "- mod value of `x` by `26` -- this might represent a character, `0` if previous was valid\n",
    "- divide `z` -- `0` if previous was valid\n",
    "  - [1,2,3,4,7,9,11] by `1` -- `z` is unchanged\n",
    "  - [5,6,8,10,12,13,14] by `26` -- `z`'s remainder is `x`\n",
    "- add `x` -- the rhs value or `z`'s remainder added by the following\n",
    "  - [1,2,4,7] by `11`\n",
    "  - [3,11] by `14`\n",
    "  - [5,14] by `-8`\n",
    "  - [6,12] by `-5`\n",
    "  - [8] by `-13`\n",
    "  - [9] by `12`\n",
    "  - [10] by `-1`\n",
    "  - [13] by `-4`\n",
    "- check if `x` DOES NOT equal to `w` -- `1` (does not) or `0` (does)\n",
    "- set `y` to `25` -- introduce y\n",
    "- multiply `y` by `x` -- `0` if `x == w` else `25`\n",
    "- add `y` by `1` -- `1` if `x == w` else `26`\n",
    "- multiply `z` by `y` -- `0` if previous was valid, unchanged if `x == w`\n",
    "- set `y` to `w`\n",
    "- add `y` -- add the input by the following value\n",
    "  - [1,3,12] by `1`\n",
    "  - [2,4,8] by `11`\n",
    "  - [5] by `2`\n",
    "  - [6] by `9`\n",
    "  - [7,11] by `7`\n",
    "  - [9,14] by `6`\n",
    "  - [10] by `15`\n",
    "  - [13] by `8`\n",
    "- multiply `y` by `x` -- `0` if `x == w`, unchanged if `x != w`\n",
    "- add `z` by `y` -- unchanged if `x == w`\n",
    "\n",
    "After walking through the program, it looks like the program is a stack and I can code out just the variables that change 🤔.\n",
    "\n",
    "---\n",
    "\n",
    "I felt pretty betrayed by this problem since its \"trick\" was reading and understanding the underlying input. I spent a ton of time walking through it by hand before realizing what it was. Basically all the code for the ALU was useless and only a small portion of the input was \"required.\" This was a scenario in which the problem statement was actually the input. Ultimately, breaking down the input enables you to write the \"code\" version of the input."
   ]
  },
  {
   "cell_type": "markdown",
   "id": "a6c99408",
   "metadata": {},
   "source": [
    "## Part 2\n",
    "\n",
    "Find the smallest model number."
   ]
  },
  {
   "cell_type": "code",
   "execution_count": 156,
   "id": "0e14cdda",
   "metadata": {},
   "outputs": [
    {
     "data": {
      "text/plain": [
       "81514171161381"
      ]
     },
     "execution_count": 156,
     "metadata": {},
     "output_type": "execute_result"
    }
   ],
   "source": [
    "instructions.partitionStart { it is Input }.modelNumber(smallest = true)"
   ]
  },
  {
   "cell_type": "markdown",
   "id": "6587e0f2",
   "metadata": {},
   "source": [
    "### Notes\n",
    "\n",
    "Ended up making a small change to the function written in part 1 to find this."
   ]
  }
 ],
 "metadata": {
  "kernelspec": {
   "display_name": "Kotlin",
   "language": "kotlin",
   "name": "kotlin"
  },
  "language_info": {
   "codemirror_mode": "text/x-kotlin",
   "file_extension": ".kt",
   "mimetype": "text/x-kotlin",
   "name": "kotlin",
   "nbconvert_exporter": "",
   "pygments_lexer": "kotlin",
   "version": "1.6.20-dev-6372"
  }
 },
 "nbformat": 4,
 "nbformat_minor": 5
}
