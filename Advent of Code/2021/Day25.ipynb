{
 "cells": [
  {
   "cell_type": "markdown",
   "id": "373a5f5f",
   "metadata": {},
   "source": [
    "# Advent of Code 2021 - Day 25"
   ]
  },
  {
   "cell_type": "code",
   "execution_count": 141,
   "id": "f3d2c67a",
   "metadata": {},
   "outputs": [],
   "source": [
    "sealed interface Tile {\n",
    "    val character: String\n",
    "    object Empty : Tile { override val character = \".\" }\n",
    "    sealed interface Cucumber : Tile {\n",
    "        object East : Cucumber { override val character = \">\" }\n",
    "        object South : Cucumber { override val character = \"v\" }\n",
    "    }\n",
    "}\n",
    "\n",
    "fun Char.toTile(): Tile = when(this) {\n",
    "    '>' -> Tile.Cucumber.East\n",
    "    'v' -> Tile.Cucumber.South\n",
    "    else -> Tile.Empty\n",
    "}\n",
    "\n",
    "typealias Ocean = List<List<Tile>>\n",
    "typealias MutableOcean = MutableList<MutableList<Tile>>\n",
    "fun Ocean.toMutableOcean(): MutableOcean = map(List<Tile>::toMutableList).toMutableList()\n",
    "\n",
    "data class Index(val row: Int, val col: Int)"
   ]
  },
  {
   "cell_type": "code",
   "execution_count": 142,
   "id": "04bee193",
   "metadata": {},
   "outputs": [],
   "source": [
    "import java.io.File\n",
    "\n",
    "val input: Ocean = File(\"Day25.input.txt\")\n",
    "    .bufferedReader()\n",
    "    .lineSequence()\n",
    "    .map { row -> row.map { it.toTile() } }\n",
    "    .toList()"
   ]
  },
  {
   "cell_type": "markdown",
   "id": "bf92bddf",
   "metadata": {},
   "source": [
    "## Part 1\n",
    "\n"
   ]
  },
  {
   "cell_type": "code",
   "execution_count": 143,
   "id": "56b8f3ee",
   "metadata": {},
   "outputs": [
    {
     "data": {
      "text/plain": [
       "482"
      ]
     },
     "execution_count": 143,
     "metadata": {},
     "output_type": "execute_result"
    }
   ],
   "source": [
    "operator fun Ocean.get(index: Index): Tile = this[index.row][index.col]\n",
    "operator fun MutableOcean.set(index: Index, tile: Tile) { this[index.row][index.col] = tile }\n",
    "\n",
    "fun Index.right(ocean: Ocean): Index = if (col + 1 < ocean[row].size) Index(row, col + 1) else Index(row, 0)\n",
    "fun Index.down(ocean: Ocean): Index = if (row + 1 < ocean.size) Index(row + 1, col) else Index(0, col)\n",
    "\n",
    "fun Index.move(ocean: Ocean): Index? = when (ocean[row][col]) {\n",
    "    Tile.Empty -> null\n",
    "    Tile.Cucumber.East -> right(ocean).let { if (ocean[it] == Tile.Empty) it else null }\n",
    "    Tile.Cucumber.South -> down(ocean).let { if (ocean[it] == Tile.Empty) it else null }\n",
    "}\n",
    "\n",
    "data class Move(val current: Index, val next: Index)\n",
    "fun Ocean.moves(tile: Tile): List<Move> = foldIndexed(mutableListOf()) { r, outer, row ->\n",
    "    row.foldIndexed(outer) { c, inner, it ->\n",
    "        val current = Index(r, c)\n",
    "        if (it == tile) current.move(this)?.let { inner.add(Move(current, it)) }\n",
    "        inner\n",
    "    }\n",
    "}\n",
    "\n",
    "fun Ocean.move(tile: Tile): Ocean = moves(tile).fold(toMutableOcean()) { acc, (current, next) ->\n",
    "    acc.apply {\n",
    "        set(current, Tile.Empty)\n",
    "        set(next, tile)\n",
    "    }\n",
    "}\n",
    "\n",
    "fun Ocean.moveWhile(condition: (Ocean) -> Boolean, step: Int = 0): Pair<Ocean, Int> =\n",
    "    if (!condition(this)) this to step\n",
    "    else move(Tile.Cucumber.East).move(Tile.Cucumber.South).moveWhile(condition, step + 1)\n",
    "\n",
    "input.moveWhile({ (it.moves(Tile.Cucumber.East) + it.moves(Tile.Cucumber.South)).isNotEmpty() }).second + 1"
   ]
  },
  {
   "cell_type": "markdown",
   "id": "c926f940",
   "metadata": {},
   "source": [
    "### Notes\n",
    "\n"
   ]
  },
  {
   "cell_type": "markdown",
   "id": "12f5dc94",
   "metadata": {},
   "source": [
    "## Part 2\n",
    "\n"
   ]
  },
  {
   "cell_type": "code",
   "execution_count": 144,
   "id": "66f42e39",
   "metadata": {},
   "outputs": [],
   "source": [
    "// Part 2"
   ]
  },
  {
   "cell_type": "markdown",
   "id": "60717fd2",
   "metadata": {},
   "source": [
    "### Notes\n",
    "\n"
   ]
  }
 ],
 "metadata": {
  "kernelspec": {
   "display_name": "Kotlin",
   "language": "kotlin",
   "name": "kotlin"
  },
  "language_info": {
   "codemirror_mode": "text/x-kotlin",
   "file_extension": ".kt",
   "mimetype": "text/x-kotlin",
   "name": "kotlin",
   "nbconvert_exporter": "",
   "pygments_lexer": "kotlin",
   "version": "1.6.20-dev-6372"
  }
 },
 "nbformat": 4,
 "nbformat_minor": 5
}
