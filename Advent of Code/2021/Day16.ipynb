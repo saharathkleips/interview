{
 "cells": [
  {
   "cell_type": "markdown",
   "metadata": {},
   "source": [
    "# Advent of Code 2021 - Day 16"
   ]
  },
  {
   "cell_type": "code",
   "execution_count": 202,
   "metadata": {},
   "outputs": [],
   "source": [
    "sealed interface Packet {\n",
    "    val version: Binary\n",
    "    val type: Binary\n",
    "}\n",
    "data class HeaderPacket(override val version: Binary, override val type: Binary, val rest: String) : Packet\n",
    "\n",
    "sealed interface ConcretePacket : Packet\n",
    "data class LiteralPacket(override val version: Binary, override val type: Binary, val value: Binary) : ConcretePacket\n",
    "data class OperatorPacket(override val version: Binary, override val type: Binary, val packets: List<ConcretePacket>) : ConcretePacket\n",
    "\n",
    "data class Binary(val bits: String) : CharSequence by bits {\n",
    "    val int: Long = bits.toLong(2)\n",
    "    override fun toString() = \"Binary($int:$bits)\"\n",
    "}"
   ]
  },
  {
   "cell_type": "code",
   "execution_count": 203,
   "metadata": {},
   "outputs": [],
   "source": [
    "import java.io.File\n",
    "import java.util.Scanner\n",
    "import kotlin.sequences.generateSequence\n",
    "\n",
    "val input: List<String> = File(\"Day16.input.txt\")\n",
    "    .bufferedReader()\n",
    "    .lineSequence()\n",
    "    .map(String::asSequence)\n",
    "    .map { line -> line.joinToString(\"\") { it.digitToInt(16).toString(2).padStart(4, '0') } }\n",
    "    .toList()"
   ]
  },
  {
   "cell_type": "markdown",
   "metadata": {},
   "source": [
    "## Part 1\n",
    "\n",
    "This problem is way too long to attempt to summarize. Visit the site for the problem statement."
   ]
  },
  {
   "cell_type": "code",
   "execution_count": 204,
   "metadata": {},
   "outputs": [
    {
     "data": {
      "text/plain": [
       "Binary(923:1110011011)"
      ]
     },
     "execution_count": 204,
     "metadata": {},
     "output_type": "execute_result"
    }
   ],
   "source": [
    "fun HeaderPacket.drop(n: Int): HeaderPacket = copy(rest = rest.drop(n))\n",
    "operator fun Binary.minus(value: Int): Binary = Binary((int - value).toString(2))\n",
    "operator fun Binary.plus(value: Long): Binary = Binary((int + value).toString(2))\n",
    "\n",
    "fun String.headerPacket(): HeaderPacket? = chunked(3).let {\n",
    "    if (it.size < 3) null\n",
    "    else HeaderPacket(\n",
    "        version = Binary(it[0]),\n",
    "        type = Binary(it[1]),\n",
    "        rest = it.drop(2).joinToString(\"\")\n",
    "    )\n",
    "}\n",
    "\n",
    "fun HeaderPacket.process(): Pair<ConcretePacket, String> = when (type.int) {\n",
    "    4L -> literal()\n",
    "    else -> operator()\n",
    "}\n",
    "\n",
    "fun HeaderPacket.literal(): Pair<LiteralPacket, String> {\n",
    "    require(type.int == 4L)\n",
    "    var end = false\n",
    "    return rest.chunked(5)\n",
    "        .takeWhile { window -> !end.also { end = window[0] == '0' } }\n",
    "        .map { it.drop(1) }\n",
    "        .let {\n",
    "            LiteralPacket(\n",
    "                version = version,\n",
    "                type = type,\n",
    "                value = Binary(it.joinToString(\"\")), \n",
    "            ) to rest.drop(5 * it.size)\n",
    "         }\n",
    "}\n",
    "\n",
    "fun HeaderPacket.operator(): Pair<OperatorPacket, String> {\n",
    "    require(type.int != 4L)\n",
    "    fun HeaderPacket.operatorZero(): Pair<OperatorPacket, String> {\n",
    "        var length = Binary(rest.take(15))\n",
    "        var processing = rest.drop(15)\n",
    "        val packets = mutableListOf<ConcretePacket>()\n",
    "        while (length.int > 0) {\n",
    "            processing.headerPacket()?.process()?.let {\n",
    "                packets.add(it.first)\n",
    "                length -= processing.removeSuffix(it.second).length\n",
    "                processing = it.second\n",
    "            } ?: TODO()\n",
    "        }\n",
    "        \n",
    "        return OperatorPacket(\n",
    "            version = version,\n",
    "            type = type,\n",
    "            packets = packets,\n",
    "        ) to processing\n",
    "    }\n",
    "\n",
    "    fun HeaderPacket.operatorOne(): Pair<OperatorPacket, String> {\n",
    "        var length = Binary(rest.take(11))\n",
    "        var processing = rest.drop(11)\n",
    "        val packets = mutableListOf<ConcretePacket>()\n",
    "        while (length.int > 0) {\n",
    "            processing.headerPacket()?.process()?.let {\n",
    "                packets.add(it.first)\n",
    "                length -= 1\n",
    "                processing = it.second\n",
    "            } ?: TODO()\n",
    "        }\n",
    "        \n",
    "        return OperatorPacket(\n",
    "            version = version,\n",
    "            type = type,\n",
    "            packets = packets,\n",
    "        ) to processing\n",
    "    }\n",
    "\n",
    "    return when (rest[0]) {\n",
    "        '0' -> drop(1).operatorZero()\n",
    "        '1' -> drop(1).operatorOne()\n",
    "        else -> TODO()\n",
    "    }\n",
    "}\n",
    "\n",
    "fun String.toPacket(): Packet = headerPacket()?.process()?.first ?: TODO()\n",
    "\n",
    "fun Packet.sum(getValue: Packet.() -> Binary): Binary {\n",
    "    return when (this) {\n",
    "        is OperatorPacket -> this.getValue() + packets.sumOf { it.sum(getValue).int }\n",
    "        else -> this.getValue()\n",
    "    }\n",
    "}\n",
    "\n",
    "input[0].toPacket().sum(Packet::version)"
   ]
  },
  {
   "cell_type": "markdown",
   "metadata": {},
   "source": [
    "### Notes\n",
    "\n",
    "This was really, really, tedious. It was also really confusing to try to figure out exactly what I was supposed to do since I misinterpreted a few critical points. I was initially thinking a recursive approach, but it enough work to just read the problem. I was thinking that maybe I could do something with `Flow` or `Sequence` since it seems like you might be able to process each bit sequentially, but also gave up on that. Lastly, I tried to implement some abstractions / guardrails and it went through a bunch of different iterations, so it could definitely use one last refactor, but this problem isn't fun."
   ]
  },
  {
   "cell_type": "markdown",
   "metadata": {},
   "source": [
    "## Part 2\n",
    "\n"
   ]
  },
  {
   "cell_type": "code",
   "execution_count": 205,
   "id": "8e30a205",
   "metadata": {},
   "outputs": [
    {
     "data": {
      "text/plain": [
       "258888628940"
      ]
     },
     "execution_count": 205,
     "metadata": {},
     "output_type": "execute_result"
    }
   ],
   "source": [
    "fun Packet.operate(): Long {\n",
    "    return when (type.int) {\n",
    "        0L -> with(this as OperatorPacket) {\n",
    "            packets.sumOf { it.operate() }\n",
    "        }\n",
    "        1L -> with(this as OperatorPacket) {\n",
    "            packets.fold(1L) { acc, curr -> curr.operate() * acc }\n",
    "        }\n",
    "        2L -> with(this as OperatorPacket) {\n",
    "            packets.map { it.operate() }.minByOrNull { it }!!\n",
    "        }\n",
    "        3L -> with(this as OperatorPacket) {\n",
    "            packets.map { it.operate() }.maxByOrNull { it }!!\n",
    "        }\n",
    "        4L -> with(this as LiteralPacket) {\n",
    "            value.int\n",
    "        }\n",
    "        5L -> with(this as OperatorPacket) {\n",
    "            if (packets[0].operate() > packets[1].operate()) 1L else 0L \n",
    "        }\n",
    "        6L -> with(this as OperatorPacket) {\n",
    "            if (packets[0].operate() < packets[1].operate()) 1L else 0L \n",
    "        }\n",
    "        7L -> with(this as OperatorPacket) {\n",
    "            if (packets[0].operate() == packets[1].operate()) 1L else 0L \n",
    "        }\n",
    "        else -> TODO()\n",
    "    }\n",
    "}\n",
    "\n",
    "input[0].toPacket().operate()"
   ]
  },
  {
   "cell_type": "markdown",
   "metadata": {},
   "source": [
    "### Notes\n",
    "\n",
    "In an ideal scenario, I'd probably go back and refactor once again with this new requirement. I would probably have specific implementation for each `OperatorPacket` like `SumOperatorPacket`, `Product...`, etc. I'd probably make sure that each class implements their own `operate` function. But again, the problem wasn't a lot of fun."
   ]
  }
 ],
 "metadata": {
  "kernelspec": {
   "display_name": "Kotlin",
   "language": "kotlin",
   "name": "kotlin"
  },
  "language_info": {
   "codemirror_mode": "text/x-kotlin",
   "file_extension": ".kt",
   "mimetype": "text/x-kotlin",
   "name": "kotlin",
   "nbconvert_exporter": "",
   "pygments_lexer": "kotlin",
   "version": "1.6.20-dev-6372"
  }
 },
 "nbformat": 4,
 "nbformat_minor": 5
}
