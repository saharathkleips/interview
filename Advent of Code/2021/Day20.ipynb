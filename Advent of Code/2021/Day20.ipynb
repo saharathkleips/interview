{
 "cells": [
  {
   "cell_type": "markdown",
   "id": "3ee7970c",
   "metadata": {},
   "source": [
    "# Advent of Code 2021 - Day 20"
   ]
  },
  {
   "cell_type": "code",
   "execution_count": 280,
   "id": "276d4502",
   "metadata": {},
   "outputs": [],
   "source": [
    "enum class Pixel(val id: Char, val value: Int) {\n",
    "    Dark('.', 0),\n",
    "    Light('#', 1),\n",
    "    ;\n",
    "    companion object {\n",
    "        private val idMap: Map<Char, Pixel> = Pixel.values().associateBy(Pixel::id)\n",
    "        fun fromId(id: Char): Pixel = idMap[id]!!\n",
    "    }\n",
    "}\n",
    "\n",
    "@JvmInline value class Algorithm(val pixels: List<Pixel>) {\n",
    "    @JvmInline value class Index(val at: List<Pixel>)\n",
    "}\n",
    "\n",
    "typealias Image = List<List<Pixel>>\n",
    "\n",
    "data class Index(val row: Int, val col: Int)"
   ]
  },
  {
   "cell_type": "code",
   "execution_count": 281,
   "id": "19056a0c",
   "metadata": {},
   "outputs": [],
   "source": [
    "import java.io.File\n",
    "\n",
    "val (algorithm: Algorithm, image: Image) = File(\"Day20.input.txt\")\n",
    "    .bufferedReader()\n",
    "    .readLines()\n",
    "    .let {\n",
    "        Algorithm(it.first().map { Pixel.fromId(it) }) to\n",
    "            it.drop(2).map { it.map { Pixel.fromId(it) } }\n",
    "    }"
   ]
  },
  {
   "cell_type": "markdown",
   "id": "9bf85d7c",
   "metadata": {},
   "source": [
    "## Part 1\n",
    "\n",
    "Given an `image`, enhance it by finding each `Pixel`'s new `Pixel` within the given `algorithm`. A `Pixel`'s enhanced pixel can be found by taking all surrounding `Pixel`s from top-down to left-right and interpreting their joined `Pixel::value` as a binary integer. This binary integer can then be used as the index of the enhanced pixel within an `Algorithm`. All `Pixel`s within an `Image` must be enhanced simultaneously. How many `Pixel.Light`s are there after two enhancements?"
   ]
  },
  {
   "cell_type": "code",
   "execution_count": 282,
   "id": "5dcfeca0",
   "metadata": {},
   "outputs": [],
   "source": [
    "fun Algorithm.Index.toInt(): Int = at.joinToString(\"\") { it.value.toString() }.toInt(2)\n",
    "\n",
    "fun Algorithm.pixelAt(index: Algorithm.Index): Pixel = pixels[index.toInt()]"
   ]
  },
  {
   "cell_type": "code",
   "execution_count": 283,
   "id": "af9df4d9",
   "metadata": {},
   "outputs": [],
   "source": [
    "class LightPixels(indices: Set<Index>) : Set<Index> by indices\n",
    "\n",
    "fun Image.lightPixels() = LightPixels(\n",
    "    image.foldIndexed(mutableSetOf()) { r, outer, row ->\n",
    "        row.foldIndexed(outer) { c, inner, it -> \n",
    "            inner.apply { if (it == Pixel.Light) inner.add(Index(r,c)) }\n",
    "        }\n",
    "    }\n",
    ")\n",
    "\n",
    "fun LightPixels.affects(): Set<Index> {\n",
    "    return fold(mutableSetOf<Index>()) { acc, index ->\n",
    "        (-2..2).forEach { r -> (-2..2).forEach { c->\n",
    "            acc.add(Index(index.row + r, index.col + c))\n",
    "        } }\n",
    "        acc\n",
    "    }\n",
    "}\n",
    "\n",
    "fun LightPixels.enhanceBy(algorithm: Algorithm): LightPixels {\n",
    "    fun Index.toAlgorithmIndex() = Algorithm.Index(\n",
    "        (-1..1).flatMap { r -> (-1..1).map { c -> \n",
    "            if (Index(this.row + r, this.col + c) in this@enhanceBy) Pixel.Light\n",
    "            else Pixel.Dark \n",
    "        } }\n",
    "    )\n",
    "\n",
    "    return LightPixels(\n",
    "        affects().fold(mutableSetOf<Index>()) { acc, it ->\n",
    "            if (algorithm.pixelAt(it.toAlgorithmIndex()) == Pixel.Light) acc.add(it)\n",
    "            acc\n",
    "        }\n",
    "    )\n",
    "}\n",
    "\n",
    "fun LightPixels.enhanceBy(algorithm: Algorithm, times: Int): LightPixels {\n",
    "    return (1..times).fold(this) { acc, _ ->\n",
    "        acc.enhanceBy(algorithm)\n",
    "    }\n",
    "}\n",
    "\n",
    "fun LightPixels.print(): LightPixels {\n",
    "    val minRow = minOf { it.row }; val maxRow = maxOf { it.row }\n",
    "    val minCol = minOf { it.col }; val maxCol = maxOf { it.col }\n",
    "    \n",
    "    (minRow..maxRow).forEach { r ->\n",
    "        (minCol..maxCol).forEach { c ->\n",
    "            if (Index(r, c) in this) print(Pixel.Light.id)\n",
    "            else print(Pixel.Dark.id)\n",
    "        }\n",
    "        println()\n",
    "    }\n",
    "    println()\n",
    "    return this\n",
    "}"
   ]
  },
  {
   "cell_type": "markdown",
   "id": "2520ca01",
   "metadata": {},
   "source": [
    "### Notes\n",
    "\n",
    "So I originally was thinking that the \"infinite\" nature of this problem meant that the image would be large and sparely \"lit\". This meant that I should only keep track of only `Pixel.Light`s since if it's not lit, then it was a `Pixel.Dark`. I could then figure out which pixels to process by taking a 5x5 box around the pixel. However this made some assumptions that did not hold true in the actual input. The actual input's zeroth index was lit and the last index was dark. This meant that \"infinite\" part of the problem would actually flip back and forth rather than staying dark until it was \"affected\" by a lit pixel. This took me a long time to figure out."
   ]
  },
  {
   "cell_type": "markdown",
   "id": "6cab27ba",
   "metadata": {},
   "source": [
    "## Part 1 - Round 2"
   ]
  },
  {
   "cell_type": "code",
   "execution_count": 284,
   "id": "1483d37b",
   "metadata": {},
   "outputs": [
    {
     "data": {
      "text/plain": [
       "5597"
      ]
     },
     "execution_count": 284,
     "metadata": {},
     "output_type": "execute_result"
    }
   ],
   "source": [
    "fun Image.print(): Image = also {\n",
    "    forEach { it.map(Pixel::id).forEach(::print).also { println() } }\n",
    "}\n",
    "\n",
    "operator fun Image.contains(index: Index): Boolean = index.row in indices && index.col in this[index.row].indices\n",
    "\n",
    "fun Image.getOrDefault(index: Index, default: Pixel) =\n",
    "    if (index in this) this[index.row][index.col] else default\n",
    "\n",
    "fun Image.enhanceBy(algorithm: Algorithm, default: Pixel): Image {\n",
    "    fun Index.toAlgorithmIndex() = Algorithm.Index(\n",
    "        (-1..1).flatMap { r -> (-1..1).map { c ->  getOrDefault(Index(row + r, col + c), default) } }\n",
    "    )\n",
    "    \n",
    "    return (-1..size).map { row ->\n",
    "        (-1..this[0].size).map { col ->\n",
    "            algorithm.pixelAt(Index(row, col).toAlgorithmIndex())\n",
    "        }\n",
    "    }\n",
    "}\n",
    "\n",
    "fun Image.enhanceBy(algorithm: Algorithm, times: Int): Image =\n",
    "    (1..times).fold(this) { acc, it ->\n",
    "        acc.enhanceBy(\n",
    "            algorithm,\n",
    "            if (it % 2 == 1) algorithm.pixels.last() \n",
    "            else algorithm.pixels.first()\n",
    "        )\n",
    "    }\n",
    "\n",
    "fun Image.count(pixel: Pixel) = sumOf { row -> row.count { it == pixel } }\n",
    "\n",
    "image.enhanceBy(algorithm, 2).count(Pixel.Light)"
   ]
  },
  {
   "cell_type": "markdown",
   "id": "63e8fc06",
   "metadata": {},
   "source": [
    "### Notes\n",
    "\n",
    "This approach was a lot more straight forward. We can \"expand\" the area around our image by mapping an extra row and extra column on each side of the image. To deal with the \"infinite\" nature of the `Image` we can pass in a default value to `Image::getOrDefault` to allow us to threat how \"unmapped\" values should be handled. The flipping is resolved by using the last algorithm pixel on every odd enhancement and the first algorithm pixel on every even enhancement."
   ]
  },
  {
   "cell_type": "markdown",
   "id": "90b07bbd",
   "metadata": {},
   "source": [
    "## Part 2\n",
    "\n",
    "How many `Pixel.Light`s in an `image` enhanced 50 times?"
   ]
  },
  {
   "cell_type": "code",
   "execution_count": 285,
   "id": "4cba55a3",
   "metadata": {},
   "outputs": [
    {
     "data": {
      "text/plain": [
       "18723"
      ]
     },
     "execution_count": 285,
     "metadata": {},
     "output_type": "execute_result"
    }
   ],
   "source": [
    "image.enhanceBy(algorithm, 50).count(Pixel.Light)"
   ]
  },
  {
   "cell_type": "markdown",
   "id": "e6c4a5dd",
   "metadata": {},
   "source": [
    "### Notes\n",
    "\n",
    "Same algorithm, just 50 times."
   ]
  }
 ],
 "metadata": {
  "kernelspec": {
   "display_name": "Kotlin",
   "language": "kotlin",
   "name": "kotlin"
  },
  "language_info": {
   "codemirror_mode": "text/x-kotlin",
   "file_extension": ".kt",
   "mimetype": "text/x-kotlin",
   "name": "kotlin",
   "nbconvert_exporter": "",
   "pygments_lexer": "kotlin",
   "version": "1.6.20-dev-6372"
  }
 },
 "nbformat": 4,
 "nbformat_minor": 5
}
