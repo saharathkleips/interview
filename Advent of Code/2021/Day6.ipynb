{
 "cells": [
  {
   "cell_type": "markdown",
   "source": [
    "# Advent of Code 2021 - Day 6"
   ],
   "metadata": {}
  },
  {
   "cell_type": "code",
   "execution_count": 67,
   "source": [
    "import java.io.File\r\n",
    "import java.util.Scanner\r\n",
    "\r\n",
    "val regex = Regex(\"\"\"(\\d+)\"\"\")\r\n",
    "\r\n",
    "val fishes: List<Int> = Scanner(File(\"Day6.input.txt\"))\r\n",
    "    .apply { useDelimiter(\",\") }\r\n",
    "    .use { scanner ->\r\n",
    "        generateSequence { if(scanner.hasNext()) scanner.next() else null }\r\n",
    "            .map(String::toInt)\r\n",
    "            .toList()\r\n",
    "    }"
   ],
   "outputs": [],
   "metadata": {}
  },
  {
   "cell_type": "markdown",
   "source": [
    "## Part 1\r\n",
    "\r\n",
    "Each fish in `fishes` represents the number of days until it creates a new fish. When it reaches 0, its timer resets to 6 and a new fish with a timer of 8 is created. Note that 0 is included as a valid timer and a newly added fish does not count down until the next day. How many fish exist after 80 days?"
   ],
   "metadata": {}
  },
  {
   "cell_type": "code",
   "execution_count": 68,
   "source": [
    "fun List<Int>.decrement(): List<Int> = map { if (it == 0) 6 else it - 1 }\r\n",
    "\r\n",
    "fun List<Int>.spawn(): List<Int> = fold(toMutableList()) { acc, it -> if (it == 0) acc.apply { add(9) } else acc }\r\n",
    "\r\n",
    "fun List<Int>.simulateDay(): List<Int> = spawn().decrement()\r\n",
    "\r\n",
    "tailrec fun List<Int>.simulate(days: Int): List<Int> = if (days != 0) simulateDay().simulate(days - 1) else this\r\n",
    "\r\n",
    "fishes.simulate(80).size"
   ],
   "outputs": [
    {
     "output_type": "execute_result",
     "data": {
      "text/plain": [
       "354564"
      ]
     },
     "metadata": {},
     "execution_count": 68
    }
   ],
   "metadata": {}
  },
  {
   "cell_type": "markdown",
   "source": [
    "### Notes\r\n",
    "\r\n",
    "This approach takes the problem statement pretty literally, by \"simulating\" each fish. Each fish decrements its internal counter, and new fish are added when appropriate."
   ],
   "metadata": {}
  },
  {
   "cell_type": "markdown",
   "source": [
    "## Part 2\r\n",
    "\r\n",
    "Same as party 1, but how many fish exist after 256 days?"
   ],
   "metadata": {}
  },
  {
   "cell_type": "code",
   "execution_count": 69,
   "source": [
    "import java.util.Collections\r\n",
    "\r\n",
    "fun MutableList<Long>.simulateDay(): MutableList<Long> = apply {\r\n",
    "    this[7] = this[7] + this[0]\r\n",
    "    Collections.rotate(this, -1)\r\n",
    "}\r\n",
    "\r\n",
    "fun List<Int>.initialize(): MutableList<Long> {\r\n",
    "    val counts: MutableList<Long> = (0..8).map { 0L }.toMutableList()\r\n",
    "    forEach { counts[it] = counts[it] + 1 }\r\n",
    "    return counts\r\n",
    "}\r\n",
    "\r\n",
    "tailrec fun MutableList<Long>.numberOfFishesAfter(days: Int): MutableList<Long> = \r\n",
    "    if (days != 0) simulateDay().numberOfFishesAfter(days - 1) else this\r\n",
    "\r\n",
    "fishes.initialize().numberOfFishesAfter(256).sum()"
   ],
   "outputs": [
    {
     "output_type": "execute_result",
     "data": {
      "text/plain": [
       "1609058859115"
      ]
     },
     "metadata": {},
     "execution_count": 69
    }
   ],
   "metadata": {}
  },
  {
   "cell_type": "markdown",
   "source": [
    "### Notes\r\n",
    "\r\n",
    "The solution in part 1 quickly grows too large, so a different approach is needed. Instead, we can notice that each fish's \"spot\" in the list is irrelevant. What's important is the number of fishes for each possible \"days left.\" For instance, 5 fish with 3 days left will always create 5 fish with 2 days left at the end of the day so we can stop simulating each fish. Now we can notice that the current number of fishes for each day is always the previous day's number at day + 1. This is basically a \"rotation\": [3,2,4] -> [2,4,3]. To model the spawning, we can \"insert\" day 0's fishes into the 6th day."
   ],
   "metadata": {}
  }
 ],
 "metadata": {
  "kernelspec": {
   "display_name": "Kotlin",
   "language": "kotlin",
   "name": "python374jvsc74a57bd01005f71a2f2c9f7da6acb75e9bc0247674183f6cab85bd2a339bd069fc0cd207"
  },
  "language_info": {
   "codemirror_mode": "text/x-kotlin",
   "file_extension": ".kt",
   "mimetype": "text/x-kotlin",
   "name": "kotlin",
   "nbconvert_exporter": "",
   "pygments_lexer": "kotlin",
   "version": "1.6.0-dev-3567"
  }
 },
 "nbformat": 4,
 "nbformat_minor": 5
}