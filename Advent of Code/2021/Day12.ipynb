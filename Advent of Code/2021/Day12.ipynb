{
 "cells": [
  {
   "cell_type": "markdown",
   "metadata": {},
   "source": [
    "# Advent of Code 2021 - Day 12"
   ]
  },
  {
   "cell_type": "code",
   "execution_count": 334,
   "metadata": {},
   "outputs": [],
   "source": [
    "import java.io.File\n",
    "\n",
    "sealed interface Cave { val id: String }\n",
    "@JvmInline value class BigCave(override val id: String) : Cave\n",
    "@JvmInline value class SmallCave(override val id: String) : Cave\n",
    "\n",
    "fun String.toCave(): Cave = if (all { it.isUpperCase() }) BigCave(this) else SmallCave(this)\n",
    "\n",
    "class CaveSystem(block: CaveSystem.() -> Unit) {\n",
    "    private var _paths: MutableMap<Cave, MutableList<Cave>> = mutableMapOf()\n",
    "    val paths: Map<Cave, List<Cave>> = _paths\n",
    "\n",
    "    infix fun String.pathTo(to: String) {\n",
    "        _paths\n",
    "            .getOrPut(this.toCave()) { mutableListOf() }\n",
    "            .let { it.add(to.toCave()) }\n",
    "    }\n",
    "\n",
    "    init { block() }\n",
    "}\n",
    "\n",
    "val regex = Regex(\"\"\"(\\w+)-(\\w+)\"\"\")\n",
    "val caveSystem = File(\"Day12.input.txt\")\n",
    "    .bufferedReader()\n",
    "    .readLines()\n",
    "    .map { regex.find(it)!!.destructured }\n",
    "    .let {\n",
    "        CaveSystem { \n",
    "            it.forEach { (a, b) -> \n",
    "                a pathTo b\n",
    "                b pathTo a \n",
    "            } \n",
    "        }\n",
    "    }"
   ]
  },
  {
   "cell_type": "markdown",
   "metadata": {},
   "source": [
    "## Part 1\n",
    "\n",
    "The `caveSystem` defines all `paths` between traversable between `Cave`s. Find all the distinct routes between the \"start\" and \"end\" caves that visit `SmallCave`s only once."
   ]
  },
  {
   "cell_type": "code",
   "execution_count": 335,
   "metadata": {},
   "outputs": [
    {
     "data": {
      "text/plain": [
       "5212"
      ]
     },
     "execution_count": 335,
     "metadata": {},
     "output_type": "execute_result"
    }
   ],
   "source": [
    "fun CaveSystem.routes(\n",
    "    start: Cave = SmallCave(\"start\"), \n",
    "    end: Cave = SmallCave(\"end\"), \n",
    "    visited: List<Cave> = listOf(),\n",
    "    routesFilter: List<Cave>.(List<Cave>) -> List<Cave>,\n",
    "): List<List<Cave>> {\n",
    "    fun CaveSystem.routeTo(start: Cave, visited: List<Cave>): List<List<Cave>> =\n",
    "            if (start == end) listOf(visited)\n",
    "            else routes(start = start, end = end, visited = visited, routesFilter)\n",
    "\n",
    "    return if (listOf(start).routesFilter(visited).isEmpty()) listOf()\n",
    "    else paths[start]\n",
    "        ?.routesFilter(visited)\n",
    "        ?.flatMap { routeTo(start = it, visited = visited + start) }\n",
    "        ?: listOf()\n",
    "}\n",
    "\n",
    "caveSystem.routes { visited -> filterNot { it is SmallCave && it in visited } }.size"
   ]
  },
  {
   "cell_type": "markdown",
   "metadata": {},
   "source": [
    "### Notes\n",
    "\n",
    "This is another graph traversal problem. The idea is to recursively route to each (valid) connection and track the `visited` route along the way. Once we reach the end we can return it as a distinct route. To enforce that we visit `SmallCave`s only once, we can just check if it has been `visited` and ignore the check for `BigCave`s."
   ]
  },
  {
   "cell_type": "markdown",
   "metadata": {},
   "source": [
    "## Part 2\n",
    "\n",
    "Find all the distinct routes where a single `SmallCave` can be visited twice. The \"start\" cave can only be visited once."
   ]
  },
  {
   "cell_type": "code",
   "execution_count": 336,
   "metadata": {},
   "outputs": [
    {
     "data": {
      "text/plain": [
       "134862"
      ]
     },
     "execution_count": 336,
     "metadata": {},
     "output_type": "execute_result"
    }
   ],
   "source": [
    "fun SmallCave.canRoute(visited: List<Cave>): Boolean =\n",
    "    visited\n",
    "        .filter { it is SmallCave }\n",
    "        .groupingBy { it }.eachCount()\n",
    "        .let { it.getOrDefault(this, 0) < 1 || (it.maxOfOrNull { it.value } ?: 0) < 2 }\n",
    "\n",
    "caveSystem.routes { visited ->\n",
    "    filterNot { cave -> (cave is SmallCave && !cave.canRoute(visited)) }\n",
    "    .filterNot { cave -> (cave == SmallCave(\"start\") && cave in visited) }\n",
    "}.size"
   ]
  },
  {
   "cell_type": "markdown",
   "metadata": {},
   "source": [
    "### Notes\n",
    "\n",
    "This one is kind of annoying and there's probably a more efficient way to do this, but to best reuse the implementation of part 1, we can just change what is a \"valid\" route. In part 1 `SmallCaves` can only be visited once. I went back to add a `routesFilter` so that way we can add a more complex `SmallCave::canRoute` function. The function just checks whether the current `SmallCave` has only been added once, or if it can be added twice."
   ]
  }
 ],
 "metadata": {
  "kernelspec": {
   "display_name": "Kotlin",
   "language": "kotlin",
   "name": "kotlin"
  },
  "language_info": {
   "codemirror_mode": "text/x-kotlin",
   "file_extension": ".kt",
   "mimetype": "text/x-kotlin",
   "name": "kotlin",
   "nbconvert_exporter": "",
   "pygments_lexer": "kotlin",
   "version": "1.6.20-dev-6372"
  }
 },
 "nbformat": 4,
 "nbformat_minor": 5
}
