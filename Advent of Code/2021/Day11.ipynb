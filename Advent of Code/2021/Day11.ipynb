{
 "cells": [
  {
   "cell_type": "markdown",
   "id": "1a622202",
   "metadata": {},
   "source": [
    "# Advent of Code 2021 - Day 11"
   ]
  },
  {
   "cell_type": "code",
   "execution_count": 21,
   "id": "06e3a58a",
   "metadata": {},
   "outputs": [],
   "source": [
    "typealias Octopuses = List<List<Int>>\n",
    "typealias Index = Pair<Int, Int>\n",
    "val ENERGY_RANGE = (0..9)"
   ]
  },
  {
   "cell_type": "code",
   "execution_count": 22,
   "id": "f76e97fc",
   "metadata": {},
   "outputs": [],
   "source": [
    "import java.io.File\n",
    "\n",
    "val octopuses: List<List<Int>> = File(\"Day11.input.txt\")\n",
    "  .bufferedReader()\n",
    "  .readLines()\n",
    "  .map { row -> row.map(Char::digitToInt) }"
   ]
  },
  {
   "cell_type": "markdown",
   "id": "ea74bbb2",
   "metadata": {},
   "source": [
    "## Part 1\n",
    "\n",
    "Simulate the `octopuses` over the course of multiple steps. In a single step the following occurs:\n",
    "- Increase the `energy` of all `octopuses` by 1.\n",
    "- If any octopus has an energy level greater than 9, increase the energy level of all adjacent (including diagonals) octopus by 1. This repeats until no other octopus is flashing. Each octopus can only flash once per step.\n",
    "- Any octopus that flashed previously sets its `energy` level to 0.\n",
    "Count the total number of flashes after 100 steps."
   ]
  },
  {
   "cell_type": "code",
   "execution_count": 23,
   "id": "fc0bcf4d",
   "metadata": {},
   "outputs": [
    {
     "data": {
      "text/plain": [
       "1700"
      ]
     },
     "execution_count": 23,
     "metadata": {},
     "output_type": "execute_result"
    }
   ],
   "source": [
    "operator fun List<List<*>>.contains(index: Index): Boolean = index.first in indices && index.second in this[index.first].indices\n",
    "\n",
    "fun Octopuses.map2D(fn: (Int) -> Int): Octopuses = map { row -> row.map { fn(it) } }\n",
    "\n",
    "fun <T> Octopuses.foldIndexed2D(acc: T, fn: (Index, T, Int) -> T): T = \n",
    "    foldIndexed(acc) { r, outer, row -> \n",
    "        row.foldIndexed(outer) { c, inner, it -> fn(r to c, inner, it) } \n",
    "    }\n",
    "\n",
    "fun Octopuses.powerUp(): Octopuses = map2D { it + 1 }\n",
    "\n",
    "fun Octopuses.exhaust(): Octopuses = map2D { if (it > ENERGY_RANGE.endInclusive) ENERGY_RANGE.start else it }\n",
    "\n",
    "fun Octopuses.flash(): Pair<Octopuses, Set<Index>> {\n",
    "    val completed: MutableSet<Index> = mutableSetOf()\n",
    "    val processing = flashing().toMutableSet()\n",
    "    val state: MutableList<MutableList<Int>> = map { it.toMutableList() }.toMutableList()\n",
    "\n",
    "    while (processing.isNotEmpty()) {\n",
    "        processing.first().also{ processing.remove(it) }.let { index -> \n",
    "            completed.add(index)\n",
    "            flashRange(index).onEach { inRange ->\n",
    "                state[inRange.first][inRange.second] += 1\n",
    "                processing.addAll(state.flashing().filter { it !in completed })\n",
    "            }\n",
    "        }\n",
    "    }\n",
    "\n",
    "    return state to completed\n",
    "}\n",
    "\n",
    "fun Octopuses.flashing(): Set<Index> = foldIndexed2D(mutableSetOf()) { index, acc, it ->\n",
    "    if (it > ENERGY_RANGE.endInclusive) acc.apply { add(index) }\n",
    "    else acc\n",
    "}\n",
    "\n",
    "fun Octopuses.flashRange(index: Index): List<Index> = (-1..1)\n",
    "    .flatMap { row -> (-1..1).map { col -> (index.first + row) to (index.second + col) } }\n",
    "    .filter { it in this && it != index }\n",
    "\n",
    "tailrec fun Octopuses.step(times: Int = 1, flashes: Int = 0): Pair<Octopuses, Int> = \n",
    "    if (times == 0) this to flashes\n",
    "    else powerUp().flash().let {\n",
    "        it.first.exhaust().step(times - 1, flashes + it.second.size)\n",
    "    }\n",
    "\n",
    "octopuses.step(100).second"
   ]
  },
  {
   "cell_type": "markdown",
   "id": "eade7c82",
   "metadata": {},
   "source": [
    "### Notes\n",
    "\n",
    "The complex part of this problem is related to the `flashing` logic. We need to keep track of which index needs to flash and which have already flashed (in order to not double up) on flashing. To do this, we can keep track of the indices via a `Set`. I couldn't really figure out a good way to implement `Octopuses::flash` without keeping a copy of the `state` and the `completed` / `processing` sets."
   ]
  },
  {
   "cell_type": "markdown",
   "id": "f2dc835e",
   "metadata": {},
   "source": [
    "## Part 2\n",
    "\n",
    "At what step do all `octopuses` flash?"
   ]
  },
  {
   "cell_type": "code",
   "execution_count": 24,
   "id": "28c5aaa3",
   "metadata": {},
   "outputs": [
    {
     "data": {
      "text/plain": [
       "273"
      ]
     },
     "execution_count": 24,
     "metadata": {},
     "output_type": "execute_result"
    }
   ],
   "source": [
    "fun Octopuses.allFlashing() = all { row -> row.all { it == 0 } }\n",
    "\n",
    "fun Octopuses.stepsUntil(condition: (Octopuses) -> Boolean): Int {\n",
    "    var octopuses = this\n",
    "    var count = 0\n",
    "    while (!condition(octopuses)) {\n",
    "        octopuses = octopuses.step().first\n",
    "        count++\n",
    "    }\n",
    "    return count\n",
    "}\n",
    "\n",
    "octopuses.stepsUntil { it.allFlashing() }"
   ]
  },
  {
   "cell_type": "markdown",
   "id": "4d1a476b",
   "metadata": {},
   "source": [
    "### Notes\n",
    "\n",
    "We can reuse most of the logic from part 1 and just step until all the `octopuses` are flashing. I think a cleaner way to do this might have been with an infinite `generateSequence` but couldn't figure it out. Ideally the sequence would keep stepping from the previous element."
   ]
  }
 ],
 "metadata": {
  "kernelspec": {
   "display_name": "Kotlin",
   "language": "kotlin",
   "name": "python380jvsc74a57bd03219ab493a3f8d42e53fcf63f19bf84b391cf543dbdc91032927d64571a48c4c"
  },
  "language_info": {
   "codemirror_mode": "text/x-kotlin",
   "file_extension": ".kt",
   "mimetype": "text/x-kotlin",
   "name": "kotlin",
   "nbconvert_exporter": "",
   "pygments_lexer": "kotlin",
   "version": "1.6.20-dev-6372"
  }
 },
 "nbformat": 4,
 "nbformat_minor": 5
}
