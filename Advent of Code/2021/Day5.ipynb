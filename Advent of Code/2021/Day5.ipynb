{
 "cells": [
  {
   "cell_type": "markdown",
   "source": [
    "# Advent of Code 2021 - Day 5"
   ],
   "metadata": {}
  },
  {
   "cell_type": "code",
   "execution_count": 13,
   "source": [
    "data class Point(val x: Int, val y: Int)\r\n",
    "data class LineSegment(val from: Point, val to: Point)"
   ],
   "outputs": [],
   "metadata": {}
  },
  {
   "cell_type": "code",
   "execution_count": 14,
   "source": [
    "import java.io.File\r\n",
    "import java.util.Scanner\r\n",
    "\r\n",
    "val regex = Regex(\"\"\"(\\d+),(\\d+) -> (\\d+),(\\d+)\"\"\")\r\n",
    "\r\n",
    "val lineSegments: List<LineSegment> = File(\"Day5.input.txt\")\r\n",
    "    .bufferedReader()\r\n",
    "    .readLines()\r\n",
    "    .map { regex.find(it)!!.destructured.toList() }\r\n",
    "    .map { it.map(String::toInt) }\r\n",
    "    .map { (x1, y1, x2, y2) -> LineSegment(from = Point(x = x1, y = y1), to = Point(x = x2, y = y2)) }"
   ],
   "outputs": [],
   "metadata": {}
  },
  {
   "cell_type": "markdown",
   "source": [
    "## Part 1\r\n",
    "\r\n",
    "Calculate the number of points at least two lines overlap. Consider only horizontal and vertical lines."
   ],
   "metadata": {}
  },
  {
   "cell_type": "code",
   "execution_count": 15,
   "source": [
    "fun LineSegment.points(): Set<Point> {\r\n",
    "    val x = from.x - to.x\r\n",
    "    val y = from.y - to.y\r\n",
    "    val length = max(abs(x), abs(y))\r\n",
    "    val dx = x / length * -1\r\n",
    "    val dy = y / length * -1\r\n",
    "    \r\n",
    "    return (1..length).fold(mutableListOf(from)) { acc, index -> \r\n",
    "        acc.apply { add(Point(x = from.x + (dx * index), y = from.y + (dy * index))) }\r\n",
    "    }.toSet()\r\n",
    "}\r\n",
    "\r\n",
    "fun LineSegment.intersect(other: LineSegment): Set<Point> = points().intersect(other.points())\r\n",
    "\r\n",
    "fun List<LineSegment>.intersections(): Set<Point> =\r\n",
    "    fold(mutableSetOf<Point>()) { acc1, line1 ->\r\n",
    "        fold(acc1) { acc2, line2 ->\r\n",
    "            if (line1 != line2) acc2.apply { addAll(line1.intersect(line2)) } else acc2\r\n",
    "        }\r\n",
    "    }\r\n",
    "\r\n",
    "lineSegments\r\n",
    "    .filter { it.from.x == it.to.x || it.from.y == it.to.y }\r\n",
    "    .intersections()\r\n",
    "    .size"
   ],
   "outputs": [
    {
     "output_type": "execute_result",
     "data": {
      "text/plain": [
       "4745"
      ]
     },
     "metadata": {},
     "execution_count": 15
    }
   ],
   "metadata": {}
  },
  {
   "cell_type": "markdown",
   "source": [
    "### Notes\r\n",
    "\r\n",
    "There's probably a mathematical solution to this, but I don't know it. A similar algorithm I would consider as well is to put all of the `LineSegment::points` into a grid, and then count the number of times a cell was updated (2+ would be an intersection). However, I decided to `intersect` since I felt like it was neat way to solve it (and it uses `Set::intersect` and we're looking for line intersections, so that's fun).\r\n",
    "\r\n",
    "Basically, figure out the discrete points for each `LineSegment` and then intersect all of them. I suspect you could probably do some optimizations by omitting `LineSegment::intersect` calls that you can quickly determine will never intersect. Maybe with a bounding box?"
   ],
   "metadata": {}
  },
  {
   "cell_type": "markdown",
   "source": [
    "## Part 2\r\n",
    "\r\n",
    "Same as part 1 but consider all lines (diagonals)."
   ],
   "metadata": {}
  },
  {
   "cell_type": "code",
   "execution_count": 16,
   "source": [
    "lineSegments\r\n",
    "    .intersections()\r\n",
    "    .size"
   ],
   "outputs": [
    {
     "output_type": "execute_result",
     "data": {
      "text/plain": [
       "18442"
      ]
     },
     "metadata": {},
     "execution_count": 16
    }
   ],
   "metadata": {}
  },
  {
   "cell_type": "markdown",
   "source": [
    "### Notes\r\n",
    "\r\n",
    "The `LineSegment::points` function already calculated diagonals, so we just didn't filter them out this time."
   ],
   "metadata": {}
  }
 ],
 "metadata": {
  "kernelspec": {
   "display_name": "Kotlin",
   "language": "kotlin",
   "name": "python374jvsc74a57bd01005f71a2f2c9f7da6acb75e9bc0247674183f6cab85bd2a339bd069fc0cd207"
  },
  "language_info": {
   "codemirror_mode": "text/x-kotlin",
   "file_extension": ".kt",
   "mimetype": "text/x-kotlin",
   "name": "kotlin",
   "nbconvert_exporter": "",
   "pygments_lexer": "kotlin",
   "version": "1.6.0-dev-3567"
  }
 },
 "nbformat": 4,
 "nbformat_minor": 5
}