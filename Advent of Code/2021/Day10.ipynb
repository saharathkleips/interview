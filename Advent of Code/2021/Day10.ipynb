{
 "cells": [
  {
   "cell_type": "markdown",
   "id": "415059d4",
   "metadata": {},
   "source": [
    "# Advent of Code 2021 - Day 10"
   ]
  },
  {
   "cell_type": "code",
   "execution_count": 1,
   "id": "237391fd",
   "metadata": {},
   "outputs": [],
   "source": [
    "enum class Bracket(val opening: Char, val closing: Char, val exceptionScore: Int, val successScore: Int) {\n",
    "    PAREN('(', ')', 3, 1),\n",
    "    SQUARE('[', ']', 57, 2),\n",
    "    CURLY('{', '}', 1197, 3),\n",
    "    ANGLE('<', '>', 25137, 4),\n",
    "    ;\n",
    "\n",
    "    companion object {\n",
    "        private val openingMap: Map<Char, Bracket> = Bracket.values().associateBy(Bracket::opening)\n",
    "        private val closingMap: Map<Char, Bracket> = Bracket.values().associateBy(Bracket::closing)\n",
    "\n",
    "        fun fromOpening(char: Char): Bracket? = openingMap[char]\n",
    "        fun fromClosing(char: Char): Bracket? = closingMap[char]\n",
    "        fun from(char: Char): Bracket? = fromOpening(char) ?: fromClosing(char)\n",
    "    }\n",
    "}"
   ]
  },
  {
   "cell_type": "code",
   "execution_count": null,
   "id": "245f2143",
   "metadata": {},
   "outputs": [],
   "source": [
    "import java.io.File\n",
    "\n",
    "val chunks: List<String> = File(\"Day10.input.txt\")\n",
    "  .bufferedReader()\n",
    "  .readLines()"
   ]
  },
  {
   "cell_type": "markdown",
   "id": "7e051758",
   "metadata": {},
   "source": [
    "## Part 1\n",
    "\n",
    "Every line of `chunks` contains zero or more other chunks. Every chunk must open and close with their respective `Bracket`. Legal chunks include: `([])`, `{()()()}`, `[<>({})[]]`, etc. Find all of the lines where a chunk closes with the wrong character. Incomplete chunks do not count. i.e. `(]`, `{()()()>`, etc. Take the first illegal character of every line and sum them by their `Bracket::exceptionScore`. What was the total score?"
   ]
  },
  {
   "cell_type": "code",
   "execution_count": null,
   "id": "15546544",
   "metadata": {},
   "outputs": [
    {
     "data": {
      "text/plain": [
       "268845"
      ]
     },
     "execution_count": 98,
     "metadata": {},
     "output_type": "execute_result"
    }
   ],
   "source": [
    "sealed interface ParseResult\n",
    "\n",
    "data class ParseSuccess(val stack: ArrayDeque<Bracket>) : ParseResult\n",
    "data class ParseException(val expected: Char, val found: Char) : ParseResult\n",
    "\n",
    "fun String.parse(): ParseResult {\n",
    "    val stack = ArrayDeque<Bracket>()\n",
    "    \n",
    "    forEach {\n",
    "        val opening = Bracket.fromOpening(it)\n",
    "        if (opening != null) stack.addFirst(opening)\n",
    "        else {\n",
    "            val closing = Bracket.fromClosing(it)\n",
    "            if (closing != null && closing == stack.first()) stack.removeFirst()\n",
    "            else return ParseException(expected = stack.first().closing, found = closing?.closing ?: it)\n",
    "        }\n",
    "    }\n",
    "\n",
    "    return ParseSuccess(stack)\n",
    "}\n",
    "\n",
    "chunks\n",
    "    .map { it.parse() }\n",
    "    .filterIsInstance<ParseException>()\n",
    "    .mapNotNull { Bracket.from(it.found) }\n",
    "    .sumOf(Bracket::exceptionScore)"
   ]
  },
  {
   "cell_type": "markdown",
   "id": "0df8febd",
   "metadata": {},
   "source": [
    "### Notes\n",
    "\n",
    "The problem is very closely modeled to a stack. The idea is to push opening brackets to the top of the stack, and when you encounter a closing bracket, check if the top of the stack can be closed with the current character. If it can't then it's an illegal character."
   ]
  },
  {
   "cell_type": "markdown",
   "id": "89b606e6",
   "metadata": {},
   "source": [
    "## Part 2\n",
    "\n",
    "Complete any incomplete chunks by matching closing out any open `Bracket`s. For each line, calculate the score by the following: Start with a total score of 0, then for each added bracket, multiply the total score by 5 then increase the score by its respective `Bracket::successScore`. Sort the score and find the middle score."
   ]
  },
  {
   "cell_type": "code",
   "execution_count": null,
   "id": "aff30baf",
   "metadata": {},
   "outputs": [
    {
     "data": {
      "text/plain": [
       "4038824534"
      ]
     },
     "execution_count": 99,
     "metadata": {},
     "output_type": "execute_result"
    }
   ],
   "source": [
    "fun Iterable<Bracket>.score(): Long = fold(0L) { acc, it -> acc * 5 + it.successScore }\n",
    "\n",
    "chunks\n",
    "    .map { it.parse() }\n",
    "    .filterIsInstance<ParseSuccess>()\n",
    "    .map { it.stack.score() }\n",
    "    .sorted()\n",
    "    .let { it[it.size / 2] }"
   ]
  },
  {
   "cell_type": "markdown",
   "id": "128b19b1",
   "metadata": {},
   "source": [
    "### Notes\n",
    "\n",
    "Since we've modeled the problem as a stack, any elements still remaining on the stack tells us what still need to be added in order, with this the score is just a simple fold.\n",
    "\n",
    "I went back and modified `String::parse` from part 1 to return a `sealed interface` and was really happy with how it turned out, it originally only had `ParseException`. It meant that I could just use the original parsing logic without any changes and simply return either the exception (for part 1) or the state of the stack (part 2)."
   ]
  }
 ],
 "metadata": {
  "kernelspec": {
   "display_name": "Kotlin",
   "language": "kotlin",
   "name": "python380jvsc74a57bd03219ab493a3f8d42e53fcf63f19bf84b391cf543dbdc91032927d64571a48c4c"
  },
  "language_info": {
   "codemirror_mode": "text/x-kotlin",
   "file_extension": ".kt",
   "mimetype": "text/x-kotlin",
   "name": "kotlin",
   "nbconvert_exporter": "",
   "pygments_lexer": "kotlin",
   "version": "1.6.20-dev-6372"
  }
 },
 "nbformat": 4,
 "nbformat_minor": 5
}
