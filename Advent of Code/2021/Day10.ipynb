{
 "cells": [
  {
   "cell_type": "markdown",
   "source": [
    "# Advent of Code 20XX - Day X"
   ],
   "metadata": {}
  },
  {
   "cell_type": "code",
   "execution_count": 96,
   "source": [
    "enum class Bracket(val opening: Char, val closing: Char, val exceptionScore: Int, val successScore: Int) {\r\n",
    "    PAREN('(', ')', 3, 1),\r\n",
    "    SQUARE('[', ']', 57, 2),\r\n",
    "    CURLY('{', '}', 1197, 3),\r\n",
    "    ANGLE('<', '>', 25137, 4),\r\n",
    "    ;\r\n",
    "\r\n",
    "    companion object {\r\n",
    "        private val openingMap: Map<Char, Bracket> = Bracket.values().associateBy(Bracket::opening)\r\n",
    "        private val closingMap: Map<Char, Bracket> = Bracket.values().associateBy(Bracket::closing)\r\n",
    "\r\n",
    "        fun fromOpening(char: Char): Bracket? = openingMap[char]\r\n",
    "        fun fromClosing(char: Char): Bracket? = closingMap[char]\r\n",
    "        fun from(char: Char): Bracket? = fromOpening(char) ?: fromClosing(char)\r\n",
    "    }\r\n",
    "}"
   ],
   "outputs": [],
   "metadata": {}
  },
  {
   "cell_type": "code",
   "execution_count": 97,
   "source": [
    "import java.io.File\r\n",
    "\r\n",
    "val chunks: List<String> = File(\"Day10.input.txt\")\r\n",
    "  .bufferedReader()\r\n",
    "  .readLines()"
   ],
   "outputs": [],
   "metadata": {}
  },
  {
   "cell_type": "markdown",
   "source": [
    "## Part 1\r\n",
    "\r\n",
    "Every line of `chunks` contains zero or more other chunks. Every chunk must open and close with their respective `Bracket`. Legal chunks include: `([])`, `{()()()}`, `[<>({})[]]`, etc. Find all of the lines where a chunk closes with the wrong character. Incomplete chunks do not count. i.e. `(]`, `{()()()>`, etc. Take the first illegal character of every line and sum them by their `Bracket::exceptionScore`. What was the total score?"
   ],
   "metadata": {}
  },
  {
   "cell_type": "code",
   "execution_count": 98,
   "source": [
    "sealed interface ParseResult\r\n",
    "\r\n",
    "data class ParseSuccess(val stack: ArrayDeque<Bracket>) : ParseResult\r\n",
    "data class ParseException(val expected: Char, val found: Char) : ParseResult\r\n",
    "\r\n",
    "fun String.parse(): ParseResult {\r\n",
    "    val stack = ArrayDeque<Bracket>()\r\n",
    "    \r\n",
    "    forEach {\r\n",
    "        val opening = Bracket.fromOpening(it)\r\n",
    "        if (opening != null) stack.addFirst(opening)\r\n",
    "        else {\r\n",
    "            val closing = Bracket.fromClosing(it)\r\n",
    "            if (closing != null && closing == stack.first()) stack.removeFirst()\r\n",
    "            else return ParseException(expected = stack.first().closing, found = closing?.closing ?: it)\r\n",
    "        }\r\n",
    "    }\r\n",
    "\r\n",
    "    return ParseSuccess(stack)\r\n",
    "}\r\n",
    "\r\n",
    "chunks\r\n",
    "    .map { it.parse() }\r\n",
    "    .filterIsInstance<ParseException>()\r\n",
    "    .mapNotNull { Bracket.from(it.found) }\r\n",
    "    .sumOf(Bracket::exceptionScore)"
   ],
   "outputs": [
    {
     "output_type": "execute_result",
     "data": {
      "text/plain": [
       "268845"
      ]
     },
     "metadata": {},
     "execution_count": 98
    }
   ],
   "metadata": {}
  },
  {
   "cell_type": "markdown",
   "source": [
    "### Notes\r\n",
    "\r\n",
    "The problem is very closely modeled to a stack. The idea is to push opening brackets to the top of the stack, and when you encounter a closing bracket, check if the top of the stack can be closed with the current character. If it can't then it's an illegal character."
   ],
   "metadata": {}
  },
  {
   "cell_type": "markdown",
   "source": [
    "## Part 2\r\n",
    "\r\n",
    "Complete any incomplete chunks by matching closing out any open `Bracket`s. For each line, calculate the score by the following: Start with a total score of 0, then for each added bracket, multiply the total score by 5 then increase the score by its respective `Bracket::successScore`. Sort the score and find the middle score."
   ],
   "metadata": {}
  },
  {
   "cell_type": "code",
   "execution_count": 99,
   "source": [
    "fun Iterable<Bracket>.score(): Long = fold(0L) { acc, it -> acc * 5 + it.successScore }\r\n",
    "\r\n",
    "chunks\r\n",
    "    .map { it.parse() }\r\n",
    "    .filterIsInstance<ParseSuccess>()\r\n",
    "    .map { it.stack.score() }\r\n",
    "    .sorted()\r\n",
    "    .let { it[it.size / 2] }"
   ],
   "outputs": [
    {
     "output_type": "execute_result",
     "data": {
      "text/plain": [
       "4038824534"
      ]
     },
     "metadata": {},
     "execution_count": 99
    }
   ],
   "metadata": {}
  },
  {
   "cell_type": "markdown",
   "source": [
    "### Notes\r\n",
    "\r\n",
    "Since we've modeled the problem as a stack, any elements still remaining on the stack tells us what still need to be added in order, with this the score is just a simple fold.\r\n",
    "\r\n",
    "I went back and modified `String::parse` from part 1 to return a `sealed interface` and was really happy with how it turned out, it originally only had `ParseException`. It meant that I could just use the original parsing logic without any changes and simply return either the exception (for part 1) or the state of the stack (part 2)."
   ],
   "metadata": {}
  }
 ],
 "metadata": {
  "kernelspec": {
   "display_name": "Kotlin",
   "language": "kotlin",
   "name": "python374jvsc74a57bd01005f71a2f2c9f7da6acb75e9bc0247674183f6cab85bd2a339bd069fc0cd207"
  },
  "language_info": {
   "codemirror_mode": "text/x-kotlin",
   "file_extension": ".kt",
   "mimetype": "text/x-kotlin",
   "name": "kotlin",
   "nbconvert_exporter": "",
   "pygments_lexer": "kotlin",
   "version": "1.6.0-dev-3567"
  }
 },
 "nbformat": 4,
 "nbformat_minor": 5
}