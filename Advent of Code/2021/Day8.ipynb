{
 "cells": [
  {
   "cell_type": "markdown",
   "source": [
    "# Advent of Code 2021 - Day 7"
   ],
   "metadata": {}
  },
  {
   "cell_type": "code",
   "execution_count": 7,
   "source": [
    "typealias Segments = List<String>\r\n",
    "data class Input(val signalPatterns: Segments, val outputs: Segments)"
   ],
   "outputs": [],
   "metadata": {}
  },
  {
   "cell_type": "code",
   "execution_count": 8,
   "source": [
    "import java.io.File\r\n",
    "import java.util.Scanner\r\n",
    "\r\n",
    "val regex = Regex(\"\"\"(\\w+) (\\w+) (\\w+) (\\w+) (\\w+) (\\w+) (\\w+) (\\w+) (\\w+) (\\w+) \\| (\\w+) (\\w+) (\\w+) (\\w+)\"\"\")\r\n",
    "\r\n",
    "val inputs: List<Input> = File(\"Day8.input.txt\")\r\n",
    "    .bufferedReader()\r\n",
    "    .readLines()\r\n",
    "    .map { regex.find(it)!!.destructured.toList() }\r\n",
    "    .map { Input(signalPatterns = it.slice(0..9), outputs = it.slice(10..13)) }"
   ],
   "outputs": [],
   "metadata": {}
  },
  {
   "cell_type": "markdown",
   "source": [
    "## Part 1\r\n",
    "\r\n",
    "Given an `Input`, each `signalPatterns` and `outputs` `Segments` represents a digit in a seven-segment display. For instance to render `1` a segment could contain `c` and `f`. The `signalPatterns` for a given `Input` contain the `Segments` for all nine digits, however, the specific segments are mixed up from input to input. `outputs` contains four digits derived from the signal patterns. In all the `outputs` how many times do digits `1`, `4`, `7`, or `8` appear? "
   ],
   "metadata": {}
  },
  {
   "cell_type": "code",
   "execution_count": 9,
   "source": [
    "inputs.sumOf { it.outputs.count { it.length == 7 || it.length == 4 || it.length == 3 || it.length == 2 } }"
   ],
   "outputs": [
    {
     "output_type": "execute_result",
     "data": {
      "text/plain": [
       "476"
      ]
     },
     "metadata": {},
     "execution_count": 9
    }
   ],
   "metadata": {}
  },
  {
   "cell_type": "markdown",
   "source": [
    "### Notes\r\n",
    "\r\n",
    "This is pretty trivial, but it primes us to think about the characteristics of a seven-segment display. The key here is that, digits 1, 4, 7, and 8 all only use a specific number of segments (2, 3, 4, 7 respectively) so we can just check the lengths to determine what digit they belong to."
   ],
   "metadata": {}
  },
  {
   "cell_type": "markdown",
   "source": [
    "## Part 2\r\n",
    "\r\n",
    "Decode each `Input`'s `signalPatterns` given that all ten digits are encoded, e.g. figure out which string belongs to which digit. Use the decoded values to match each `outputs`' segments to a digit. Sum all the decoded outputs."
   ],
   "metadata": {}
  },
  {
   "cell_type": "code",
   "execution_count": 10,
   "source": [
    "fun Segments.filterLength(length: Int) = filter { it.length == length }\r\n",
    "\r\n",
    "fun Segments.findOne(): String = first { it.length == 2 }\r\n",
    "fun Segments.findFour(): String = first { it.length == 4 }\r\n",
    "fun Segments.findSeven(): String = first { it.length == 3 }\r\n",
    "fun Segments.findEight(): String = first { it.length == 7 }\r\n",
    "\r\n",
    "fun Segments.findZero(): String = (findFour() to findSeven()).let { (four, seven) ->\r\n",
    "    filterLength(6).first { pattern -> !four.all { it in pattern } && seven.all { it in pattern } }\r\n",
    "}\r\n",
    "\r\n",
    "fun Segments.findSix(): String = findSeven().let { seven ->\r\n",
    "    filterLength(6).first { pattern -> !seven.all { it in pattern } }\r\n",
    "}\r\n",
    "\r\n",
    "fun Segments.findNine(): String = findFour().let { four ->\r\n",
    "    filterLength(6).first { pattern -> four.all { it in pattern } }\r\n",
    "}\r\n",
    "\r\n",
    "fun Segments.findTwo(): String = (findFour() to findEight())\r\n",
    "    .let { (four, eight) -> eight.filterNot { it in four } }\r\n",
    "    .let { diff ->\r\n",
    "        filterLength(5).first { pattern -> diff.all { it in pattern } }\r\n",
    "    }\r\n",
    "\r\n",
    "fun Segments.findThree(): String = (findOne()).let { one -> \r\n",
    "    filterLength(5).first { pattern -> one.all { it in pattern } }\r\n",
    "}\r\n",
    "\r\n",
    "fun Segments.findFive(): String = (findOne() to findFour())\r\n",
    "    .let { (one, four) -> four.filterNot { it in one } }\r\n",
    "    .let { diff ->\r\n",
    "        filterLength(5).first { pattern -> diff.all { it in pattern } }\r\n",
    "    }\r\n",
    "\r\n",
    "fun Segments.findNumbers(): Segments = listOf(findZero(),findOne(),findTwo(),\r\n",
    "    findThree(),findFour(),findFive(),findSix(),findSeven(),findEight(),findNine())\r\n",
    "\r\n",
    "fun Segments.decode(outputs: Segments): Int {\r\n",
    "    val numbers = findNumbers()\r\n",
    "\r\n",
    "    return outputs.joinToString(\"\") { output ->\r\n",
    "        numbers.indexOfFirst { number -> output.length == number.length && output.all { it in number } }.toString()\r\n",
    "    }.toInt()\r\n",
    "}\r\n",
    "\r\n",
    "inputs.sumOf { it.signalPatterns.decode(it.outputs) }"
   ],
   "outputs": [
    {
     "output_type": "execute_result",
     "data": {
      "text/plain": [
       "1011823"
      ]
     },
     "metadata": {},
     "execution_count": 10
    }
   ],
   "metadata": {}
  },
  {
   "cell_type": "markdown",
   "source": [
    "### Notes\r\n",
    "\r\n",
    "This one was pretty tough for me and I only started making progress when I started to physically draw the problem out. \r\n",
    "\r\n",
    "The key here is to notice the patterns when you \"add\" or \"subtract\" digits (physically, not numerically). For instance, if you combine the segments for `4` and `7` it actually makes the segment `9`. In other words, segments `4` and `7` overlap to make `9`. Since we know `4` and `7` automatically, we can find `9` by just checking if it contains all of the segments from `4` and `7`.\r\n",
    "\r\n",
    "Unfortunately, I could not figure out how to \"compose\" digits to create all of the numbers, or find uniqueness among all of the numbers. The next key point for me to notice that rather than finding out, for instance, what makes `6` unique among all digits, you only need to find out what makes `6` unique vs `0` and `9` - because those are the only other digits that are the same length. This is similar for `2`, `3`, and `5`. The rules I found are as follows:\r\n",
    "\r\n",
    "- `0`: Does not contain `4`, contains `7`.\r\n",
    "- `6`: Does not contain `7`.\r\n",
    "- `9`: Contains `4`.\r\n",
    "- `2`: Contains _the difference_ of `4` and `8`.\r\n",
    "- `3`: Contains `1`.\r\n",
    "- `5`: Contains _the difference_ of `4` and `1`.\r\n",
    "\r\n",
    "The code could be better, but I just want to move on from this problem as soon as possible."
   ],
   "metadata": {}
  }
 ],
 "metadata": {
  "kernelspec": {
   "display_name": "Kotlin",
   "language": "kotlin",
   "name": "python374jvsc74a57bd01005f71a2f2c9f7da6acb75e9bc0247674183f6cab85bd2a339bd069fc0cd207"
  },
  "language_info": {
   "codemirror_mode": "text/x-kotlin",
   "file_extension": ".kt",
   "mimetype": "text/x-kotlin",
   "name": "kotlin",
   "nbconvert_exporter": "",
   "pygments_lexer": "kotlin",
   "version": "1.6.0-dev-3567"
  }
 },
 "nbformat": 4,
 "nbformat_minor": 5
}