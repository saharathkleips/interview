{
 "cells": [
  {
   "cell_type": "markdown",
   "metadata": {},
   "source": [
    "# Advent of Code 2021 - Day 18"
   ]
  },
  {
   "cell_type": "code",
   "execution_count": 291,
   "metadata": {},
   "outputs": [],
   "source": [
    "import java.io.File\n",
    "\n",
    "val input: List<String> = File(\"Day18.input.txt\")\n",
    "    .bufferedReader()\n",
    "    .readLines()"
   ]
  },
  {
   "cell_type": "markdown",
   "metadata": {},
   "source": [
    "## Part 1\n",
    "\n",
    "Difficult to simplify, read the problem on the site."
   ]
  },
  {
   "cell_type": "code",
   "execution_count": 292,
   "metadata": {},
   "outputs": [],
   "source": [
    "// import kotlin.collections.ArrayDeque\n",
    "\n",
    "sealed interface Node\n",
    "object Comma : Node\n",
    "object LeftBracket : Node\n",
    "object RightBracket : Node\n",
    "@JvmInline value class Literal(val value: Int) : Node\n",
    "\n",
    "// sealed interface SnailfishNumber : Node\n",
    "// @JvmInline value class SnailfishLiteral(val value: Int) : SnailfishNumber {\n",
    "//     override fun toString() = \"$value\"\n",
    "// }\n",
    "// data class SnailfishPair(val left: SnailfishNumber, val right: SnailfishNumber) : SnailfishNumber {\n",
    "//     override fun toString() = \"[$left,$right]\"\n",
    "// }\n",
    "\n",
    "fun String.nodeIterator() = object : Iterator<Node> {\n",
    "    private var iterator = this@nodeIterator.toList().listIterator()\n",
    "\n",
    "    override fun hasNext(): Boolean = iterator.hasNext()\n",
    "\n",
    "    override fun next(): Node = iterator.next().let { char ->\n",
    "        when {\n",
    "            char == ',' -> Comma\n",
    "            char == '[' -> LeftBracket\n",
    "            char == ']' -> RightBracket\n",
    "            // char.isDigit() -> SnailfishLiteral((char + takeWhileDigit()).toInt())\n",
    "            char.isDigit() -> Literal((char + takeWhileDigit()).toInt())\n",
    "            else -> TODO()\n",
    "        }\n",
    "    }\n",
    "\n",
    "    private fun takeWhileDigit(): String {\n",
    "        if (!iterator.hasNext()) return \"\"\n",
    "\n",
    "        var digits = \"\"\n",
    "        var next = iterator.next()\n",
    "        while (next.isDigit()) {\n",
    "            digits += next\n",
    "            next = iterator.next()\n",
    "        }\n",
    "        iterator.previous() \n",
    "        \n",
    "        return digits\n",
    "    }\n",
    "}\n",
    "\n",
    "// fun String.toSnailfishPair(): SnailfishPair =\n",
    "//     ArrayDeque<Node>()\n",
    "//         .apply {\n",
    "//             var iterator = nodeIterator()\n",
    "//             while (iterator.hasNext()) {\n",
    "//                 val node = iterator.next()\n",
    "//                 when (node) {\n",
    "//                     Comma, LeftBracket, is SnailfishLiteral -> addFirst(node)\n",
    "//                     RightBracket -> {\n",
    "//                         val right = removeFirst() as SnailfishNumber\n",
    "//                         val comma = removeFirst() as Comma\n",
    "//                         val left = removeFirst() as SnailfishNumber\n",
    "//                         val bracket = removeFirst() as LeftBracket\n",
    "//                         addFirst(SnailfishPair(left, right))\n",
    "//                     }\n",
    "//                 }\n",
    "//             }\n",
    "//         }\n",
    "//         .first() as SnailfishPair\n",
    "\n",
    "// operator fun SnailfishPair.plus(other: SnailfishPair): SnailfishPair = SnailfishPair(this,other)\n",
    "\n",
    "// input.map { it.toSnailfishPair() }"
   ]
  },
  {
   "cell_type": "markdown",
   "metadata": {},
   "source": [
    "### Notes\n",
    "\n",
    "Tried for a really long time to parse the number using recursion before giving up and doing it iteratively. The lack of proper union types was also pretty frustrating since `SnailfishNumber` needed to implement `Node` to safely parse despite them ideally existing independently.\n",
    "\n",
    "So after finally getting through parsing and creating the final `SnailfishPair`, implementing explode ended up being really complicated as it was difficult to first identify what you needed to modify and then to subsequently \"explode\" it. I recognized really (really, really) late that this structure was actually just a binary tree.\n",
    "\n",
    "Since this is a binary tree, a `LinkedList` might make this problem more manageable, or maybe just modifying it is the raw string..."
   ]
  },
  {
   "cell_type": "markdown",
   "metadata": {},
   "source": [
    "## Part 1 - Round 2\n",
    "\n",
    "Some parts from my first attempt were still useful (fortunately) so to keep a record of my efforts, the parts I don't use are commented out."
   ]
  },
  {
   "cell_type": "code",
   "execution_count": 293,
   "id": "a0a791e6",
   "metadata": {},
   "outputs": [
    {
     "data": {
      "text/plain": [
       "4088"
      ]
     },
     "execution_count": 293,
     "metadata": {},
     "output_type": "execute_result"
    }
   ],
   "source": [
    "import java.util.ArrayDeque\n",
    "import java.util.LinkedList\n",
    "\n",
    "fun Iterator<Node>.toLinkedList() = LinkedList<Node>().apply {\n",
    "    this@toLinkedList.forEachRemaining { add(it) }\n",
    "}\n",
    "\n",
    "fun LinkedList<Node>.asString() = joinToString(\"\") {\n",
    "    when (it) {\n",
    "        Comma -> \",\"\n",
    "        LeftBracket -> \"[\"\n",
    "        RightBracket -> \"]\"\n",
    "        is Literal -> it.value.toString()\n",
    "        else -> TODO()\n",
    "    }\n",
    "}\n",
    "\n",
    "data class LiteralPair(\n",
    "    val leftBracket: LeftBracket = LeftBracket, \n",
    "    val left: Literal, \n",
    "    val comma: Comma = Comma, \n",
    "    val right: Literal, \n",
    "    val rightBracket: RightBracket = RightBracket,\n",
    "    val at: IntRange = 0..0,\n",
    ") : List<Node> by listOf(leftBracket, left, comma, right, rightBracket)\n",
    "\n",
    "fun LinkedList<Node>.literalPairAt(i: Int) = \n",
    "    LiteralPair(get(i) as LeftBracket, get(i + 1) as Literal, get(i + 2) as Comma, get(i +3) as Literal, get(i + 4) as RightBracket, i..i+4)\n",
    "\n",
    "operator fun Literal.plus(other: Literal) = Literal(value + other.value)\n",
    "operator fun Literal.times(other: Literal) = Literal(value * other.value)\n",
    "\n",
    "fun LinkedList<Node>.explode(pair: LiteralPair): LinkedList<Node> = apply {\n",
    "    for (index in pair.at.start downTo 0) {\n",
    "        when (val node = get(index)) { is Literal -> { set(index, node + pair.left); break } }\n",
    "    }\n",
    "    for (index in pair.at.endInclusive..size - 1) {\n",
    "        when (val node = get(index)) { is Literal -> { set(index, node + pair.right); break } }\n",
    "    }\n",
    "    for (index in pair.at) { removeAt(pair.at.start) }\n",
    "    add(pair.at.start, Literal(0))\n",
    "}\n",
    "\n",
    "fun LinkedList<Node>.split(at: Int): LinkedList<Node> = apply {\n",
    "    (get(at) as Literal).let {\n",
    "        removeAt(at)\n",
    "        addAll(at, LiteralPair(left = Literal(it.value / 2), right = Literal(it.value - (it.value / 2))))\n",
    "    }\n",
    "}\n",
    "\n",
    "fun LinkedList<Node>.explode(): Boolean {\n",
    "    var depth = 0\n",
    "    forEachIndexed { index, node ->\n",
    "        when (node) {\n",
    "            LeftBracket -> depth++\n",
    "            RightBracket -> depth--\n",
    "            else -> Unit\n",
    "        }\n",
    "\n",
    "        if (depth == 5) {\n",
    "            explode(literalPairAt(index))\n",
    "            return true\n",
    "        }\n",
    "    }\n",
    "    return false\n",
    "}\n",
    "\n",
    "fun LinkedList<Node>.split(): Boolean {\n",
    "    forEachIndexed { index, node -> \n",
    "        if (node is Literal && node.value >= 10) {\n",
    "            split(index)\n",
    "            return true\n",
    "        }\n",
    "    }\n",
    "    return false\n",
    "}\n",
    "\n",
    "operator fun LinkedList<Node>.plus(other: LinkedList<Node>) = apply {\n",
    "    addFirst(LeftBracket)\n",
    "    add(Comma)\n",
    "    addAll(other)\n",
    "    add(RightBracket)\n",
    "    while (explode() || split()) Unit\n",
    "}\n",
    "\n",
    "fun LinkedList<Node>.magnitude(): Int {\n",
    "    val stack = ArrayDeque<MutableList<Literal>>()\n",
    "    forEach { node ->\n",
    "        when (node) {\n",
    "            LeftBracket -> stack.addFirst(mutableListOf())\n",
    "            is Literal -> stack.first().add(node)\n",
    "            RightBracket -> stack.removeFirst()\n",
    "                .let { (left, right) -> (Literal(3) * left + Literal(2) * right) }\n",
    "                .let { if (stack.isEmpty()) return it.value else stack.first().add(it) }\n",
    "            else -> Unit\n",
    "        }\n",
    "    }\n",
    "    return 0\n",
    "}\n",
    "\n",
    "input\n",
    "    .map { it.nodeIterator() }\n",
    "    .map { it.toLinkedList() }\n",
    "    .reduce { acc, nodes -> acc + nodes }\n",
    "    .magnitude()"
   ]
  },
  {
   "cell_type": "markdown",
   "id": "c948ddc4",
   "metadata": {},
   "source": [
    "### Notes\n",
    "\n",
    "So the problem got significantly easier after treating the input as a `LinkedList`. To `explode`, it was straightforward to figure out the left and right numbers to explode \"into\" since the `LinkedList` provides forwards and backwards traversal. Deletion and insertion similarly was easy as long as we kept the index. To `split` was achieved similarly. Calculating the magnitude required some thought, but we can utilize a stack to keep track of which numbers belong to which pair.\n",
    "\n",
    "Actually pretty happy with the `Iterator` implementation in the initial version since ending up with parsed / typed nodes was really helpful."
   ]
  },
  {
   "cell_type": "markdown",
   "metadata": {},
   "source": [
    "## Part 2\n",
    "\n",
    "What's the largest magnitude of any two snailfish numbers?"
   ]
  },
  {
   "cell_type": "code",
   "execution_count": 294,
   "metadata": {},
   "outputs": [
    {
     "data": {
      "text/plain": [
       "4536"
      ]
     },
     "execution_count": 294,
     "metadata": {},
     "output_type": "execute_result"
    }
   ],
   "source": [
    "input.maxOf { it1 ->\n",
    "    input.maxOf { it2 ->\n",
    "        if (it1 == it2) 0\n",
    "        else (it1.nodeIterator().toLinkedList() + it2.nodeIterator().toLinkedList()).magnitude()\n",
    "    }\n",
    "}"
   ]
  },
  {
   "cell_type": "markdown",
   "metadata": {},
   "source": [
    "### Notes\n",
    "\n",
    "We just need to add every number with every other number and find the max, if part 1 works correctly, then this is looping twice."
   ]
  }
 ],
 "metadata": {
  "kernelspec": {
   "display_name": "Kotlin",
   "language": "kotlin",
   "name": "kotlin"
  },
  "language_info": {
   "codemirror_mode": "text/x-kotlin",
   "file_extension": ".kt",
   "mimetype": "text/x-kotlin",
   "name": "kotlin",
   "nbconvert_exporter": "",
   "pygments_lexer": "kotlin",
   "version": "1.6.20-dev-6372"
  }
 },
 "nbformat": 4,
 "nbformat_minor": 5
}
