{
 "cells": [
  {
   "cell_type": "markdown",
   "source": [
    "# Advent of Code 2021 - Day 9"
   ],
   "metadata": {}
  },
  {
   "cell_type": "code",
   "execution_count": 29,
   "source": [
    "typealias Index = Pair<Int, Int>\r\n",
    "typealias HeightMap = List<List<Int>>"
   ],
   "outputs": [],
   "metadata": {}
  },
  {
   "cell_type": "code",
   "execution_count": 30,
   "source": [
    "import java.io.File\r\n",
    "import java.util.Scanner\r\n",
    "\r\n",
    "val heightMap: HeightMap = File(\"Day9.input.txt\")\r\n",
    "    .bufferedReader()\r\n",
    "    .readLines()\r\n",
    "    .map { line -> line.map { it.digitToInt() } }"
   ],
   "outputs": [],
   "metadata": {}
  },
  {
   "cell_type": "markdown",
   "source": [
    "## Part 1\r\n",
    "\r\n",
    "Find the low points in the `heightMap`. A low point is a location that is lower than any of its adjacent (up, down, left, right) locations. A low point's risk level is its height plus one. Calculate the sum risk levels of all low points."
   ],
   "metadata": {}
  },
  {
   "cell_type": "code",
   "execution_count": 31,
   "source": [
    "fun HeightMap.left(index: Index): Boolean = index.second - 1 < 0 || \r\n",
    "    this[index.first][index.second - 1] > this[index.first][index.second]\r\n",
    "\r\n",
    "fun HeightMap.right(index: Index): Boolean = index.second + 1 >= this[index.first].size || \r\n",
    "    this[index.first][index.second + 1] > this[index.first][index.second]\r\n",
    "\r\n",
    "fun HeightMap.up(index: Index): Boolean = index.first - 1 < 0 || \r\n",
    "    this[index.first - 1][index.second] > this[index.first][index.second]\r\n",
    "\r\n",
    "fun HeightMap.down(index: Index): Boolean = index.first + 1 >= this.size || \r\n",
    "    this[index.first + 1][index.second] > this[index.first][index.second]\r\n",
    "\r\n",
    "fun <A, B> List<List<A>>.fold2D(accumulator: B, fn: (Index, B, A) -> B) = foldIndexed(accumulator) { rowIndex, acc, row ->\r\n",
    "    row.foldIndexed(acc) { colIndex, innerAcc, value -> fn((rowIndex to colIndex), innerAcc, value) }\r\n",
    "}\r\n",
    "\r\n",
    "heightMap.fold2D(0) { index, acc, _ -> \r\n",
    "    if (heightMap.left(index) && heightMap.right(index) && heightMap.up(index) && heightMap.down(index)) \r\n",
    "        acc + heightMap[index.first][index.second] + 1\r\n",
    "    else acc\r\n",
    "}"
   ],
   "outputs": [
    {
     "output_type": "execute_result",
     "data": {
      "text/plain": [
       "585"
      ]
     },
     "metadata": {},
     "execution_count": 31
    }
   ],
   "metadata": {}
  },
  {
   "cell_type": "markdown",
   "source": [
    "### Notes\r\n",
    "\r\n",
    "Fairly straightforward since the rules for checking whether a location is a low point is not complex. Basically we iterate through each location and check whether the current location is lower than its adjacent locations, if it is, add its value plus one.\r\n",
    "\r\n",
    "A optimization could be made to skip points that have already been checked, since if an element is a low point, its adjacent elements can no longer be low points. The checks are really quick though since it's just very simple if statements."
   ],
   "metadata": {}
  },
  {
   "cell_type": "markdown",
   "source": [
    "## Part 2\r\n",
    "\r\n",
    "Find all the basins within the `heightMap`. A basin is a group of locations that eventually flow downwards to a single low point. Locations with height 9 do not count as being in a basin. The size of a basin is the number of locations within it. Find the three largest basins and multiply their sizes together."
   ],
   "metadata": {}
  },
  {
   "cell_type": "code",
   "execution_count": 32,
   "source": [
    "class BasinMap(val heightMap: HeightMap) {\r\n",
    "    val basins: List<Int>\r\n",
    "        get() = heightMap.fold2D(mutableListOf<Int>()) { index, acc, _ ->\r\n",
    "            if (!index.visited()) acc.add(index.spread())\r\n",
    "            acc\r\n",
    "        }\r\n",
    "\r\n",
    "    private val visited: MutableSet<Index> = mutableSetOf()\r\n",
    "        \r\n",
    "    private fun Index.spread(): Int {\r\n",
    "        visited.add(this)\r\n",
    "        return 1 + spreadTo { right() } + spreadTo { left() } + spreadTo { down() } + spreadTo { up() }\r\n",
    "    }\r\n",
    "\r\n",
    "    private fun Index.spreadTo(indexFn: Index.() -> Index): Int = indexFn().let { if (it.valid() && !it.visited()) it.spread() else 0 }\r\n",
    "\r\n",
    "    private fun Index.right(): Index = (first to second + 1)\r\n",
    "    private fun Index.left(): Index = (first to second - 1)\r\n",
    "    private fun Index.down(): Index = (first + 1 to second)\r\n",
    "    private fun Index.up(): Index = (first - 1 to second)\r\n",
    "    private fun Index.valid(): Boolean = second >= 0 && first >= 0 && first < heightMap.size && second < heightMap[first].size\r\n",
    "    private fun Index.visited(): Boolean = valid() && (visited.contains(this) || heightMap[first][second] == 9)\r\n",
    "}\r\n",
    "\r\n",
    "BasinMap(heightMap)\r\n",
    "    .basins\r\n",
    "    .sortedDescending()\r\n",
    "    .take(3)\r\n",
    "    .reduce { acc, it -> acc * it }"
   ],
   "outputs": [
    {
     "output_type": "execute_result",
     "data": {
      "text/plain": [
       "827904"
      ]
     },
     "metadata": {},
     "execution_count": 32
    }
   ],
   "metadata": {}
  },
  {
   "cell_type": "markdown",
   "source": [
    "### Notes\r\n",
    "\r\n",
    "This one relies on the idea that 9 can never be part of a basin, so it acts as a natural barrier between basins. So rather than checking increasing / decreasing, you can just \"spread out\" until you encounter a 9. So the general idea is to check each element if it's been \"visited\", if it hasn't, then spread out in every direction. Mark each visit along the way from that element until you reach a 9. \r\n",
    "\r\n",
    "An optimization could be made here to keep track of the top 3 largest basins as you go, so that way you don't have to sort at the end, but just returning all of the basins from the calculation is more \"flexible.\" You technically also don't need to sort and can grab the top 3 linearly, but sorting it was an \"out of the box\" solution."
   ],
   "metadata": {}
  }
 ],
 "metadata": {
  "kernelspec": {
   "display_name": "Kotlin",
   "language": "kotlin",
   "name": "python374jvsc74a57bd01005f71a2f2c9f7da6acb75e9bc0247674183f6cab85bd2a339bd069fc0cd207"
  },
  "language_info": {
   "codemirror_mode": "text/x-kotlin",
   "file_extension": ".kt",
   "mimetype": "text/x-kotlin",
   "name": "kotlin",
   "nbconvert_exporter": "",
   "pygments_lexer": "kotlin",
   "version": "1.6.0-dev-3567"
  }
 },
 "nbformat": 4,
 "nbformat_minor": 5
}