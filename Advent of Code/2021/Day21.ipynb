{
 "cells": [
  {
   "cell_type": "markdown",
   "id": "11ebeb0a",
   "metadata": {},
   "source": [
    "# Advent of Code 2021 - Day 21"
   ]
  },
  {
   "cell_type": "code",
   "execution_count": 17,
   "id": "369d6eae",
   "metadata": {},
   "outputs": [],
   "source": [
    "interface Dice {\n",
    "    val rolls: Int\n",
    "    fun roll(): Int\n",
    "}\n",
    "\n",
    "class DeterministicDice : Dice {\n",
    "    override var rolls: Int = 0\n",
    "        private set\n",
    "\n",
    "    override fun roll(): Int = ((rolls % 100) + 1).also { rolls++ }\n",
    "}\n",
    "\n",
    "data class Player(val position: Int, val score: Int = 0)\n",
    "\n",
    "val BOARD: IntRange = 1..10"
   ]
  },
  {
   "cell_type": "code",
   "execution_count": 18,
   "id": "768028b7",
   "metadata": {},
   "outputs": [],
   "source": [
    "import java.io.File\n",
    "\n",
    "val (player1: Player, player2: Player) = File(\"Day21.input.txt\")\n",
    "    .bufferedReader()\n",
    "    .readLines()\n",
    "    .map { Regex(\"\"\".+: (\\d+)\"\"\").find(it)!!.destructured }\n",
    "    .map { (pos) -> pos.toInt() }\n",
    "    .map { pos -> Player(position = pos) }"
   ]
  },
  {
   "cell_type": "markdown",
   "id": "e5aa4747",
   "metadata": {},
   "source": [
    "## Part 1\n",
    "\n",
    "Play a game between `player1` and `player2` with a `DeterministicDice`. Players alternate turns and the game ends immediately when either player's score reaches 1000. During a turn the player will `Dice:roll` three times. The result moves their current `Player::position` along the `BOARD` and the position they land on is incremented to their `Player::score`. What is the product of the number of `Dice::rolls` and the losing `Player::score`."
   ]
  },
  {
   "cell_type": "code",
   "execution_count": 19,
   "id": "9077b6b1",
   "metadata": {},
   "outputs": [
    {
     "data": {
      "text/plain": [
       "684495"
      ]
     },
     "execution_count": 19,
     "metadata": {},
     "output_type": "execute_result"
    }
   ],
   "source": [
    "fun Player.move(dice: Dice): Player {\n",
    "    val pos = ((position + dice.roll() + dice.roll() + dice.roll() - 1) % BOARD.endInclusive) + 1\n",
    "    return Player(\n",
    "        position = pos,\n",
    "        score = score + pos\n",
    "    )\n",
    "}\n",
    "\n",
    "fun Pair<Player, Player>.playGame(dice: Dice, score: Int): Pair<Player, Player> =\n",
    "    first.move(dice).let { if (it.score >= score) it to second else (second to it).playGame(dice, score) }\n",
    "\n",
    "fun Pair<Player, Player>.calculateScore(dice: Dice): Int = min(first.score, second.score) * dice.rolls\n",
    "\n",
    "DeterministicDice().let {\n",
    "    (player1 to player2)\n",
    "        .playGame(it, 1000)\n",
    "        .calculateScore(it)\n",
    "}"
   ]
  },
  {
   "cell_type": "markdown",
   "id": "07502e39",
   "metadata": {},
   "source": [
    "### Notes\n",
    "\n",
    "This one utilizes a lot of modulo to do the wrapping. To \"start\" at 1 rather than 0, we can use the formula `((n - 1) % MAX) + 1`. We can then break down the game between the `Player::move` and `Pair<Player, Player>::playGame` functions."
   ]
  },
  {
   "cell_type": "markdown",
   "id": "47d9d120",
   "metadata": {},
   "source": [
    "## Part 2\n",
    "\n",
    "Play the game with a `DiracDice`, which always returns 1, 2, and 3. The game branches and continues at every possibility on every `DiracDice::roll`. The game now ends when either `Player::score` reaches 21. Calculate the player who wins the most in every game branch. How many times did they win?"
   ]
  },
  {
   "cell_type": "code",
   "execution_count": 20,
   "id": "7b1505a2",
   "metadata": {},
   "outputs": [
    {
     "data": {
      "text/plain": [
       "Wins(player1=138289532619163, player2=152587196649184)"
      ]
     },
     "execution_count": 20,
     "metadata": {},
     "output_type": "execute_result"
    }
   ],
   "source": [
    "object DiracDice {\n",
    "    fun roll(): List<Int> = listOf(1,2,3)\n",
    "}\n",
    "\n",
    "fun Player.diracMove(): List<Player> = \n",
    "    DiracDice.roll().flatMap { first ->\n",
    "        DiracDice.roll().flatMap { second ->\n",
    "            DiracDice.roll().map { third ->\n",
    "                ((position + first + second + third - 1) % BOARD.endInclusive) + 1\n",
    "            }\n",
    "        }\n",
    "    }.let {\n",
    "        it.map {\n",
    "            Player(\n",
    "                position = it,\n",
    "                score = score + it\n",
    "            )\n",
    "        }\n",
    "    }\n",
    "\n",
    "data class Wins(val player1: Long, val player2: Long)\n",
    "operator fun Wins.plus(other: Wins): Wins = Wins(player1 + other.player1, player2 + other.player2)\n",
    "\n",
    "enum class Turn { First, Second }\n",
    "\n",
    "class Memoize(private val fn: (Player, Player, Turn) -> Wins): (Player, Player, Turn) -> Wins {\n",
    "    private val memos: MutableMap<Pair<Pair<Player, Player>, Turn>, Wins> = mutableMapOf()\n",
    "    override operator fun invoke(p1: Player, p2: Player, turn: Turn): Wins = \n",
    "        memos.getOrPut(((p1 to p2) to turn)) { fn(p1, p2, turn) }\n",
    "}\n",
    "\n",
    "val memoizedDiracGame = Memoize(::diracGame)\n",
    "\n",
    "fun diracGame(player1: Player, player2: Player, turn: Turn): Wins {\n",
    "    if (player1.score >= 21) return Wins(1,0)\n",
    "    if (player2.score >= 21) return Wins(0,1)\n",
    "\n",
    "    return when (turn) {\n",
    "        Turn.First -> player1.diracMove().fold(Wins(0,0)) { acc, p1 ->\n",
    "            acc + memoizedDiracGame(p1, player2, Turn.Second)\n",
    "        }\n",
    "        Turn.Second -> player2.diracMove().fold(Wins(0,0)) { acc, p2 ->\n",
    "            acc + memoizedDiracGame(player1, p2, Turn.First)\n",
    "        }\n",
    "    }\n",
    "}\n",
    "\n",
    "memoizedDiracGame(player1, player2, Turn.First)"
   ]
  },
  {
   "cell_type": "markdown",
   "id": "c6c49755",
   "metadata": {},
   "source": [
    "### Notes\n",
    "\n",
    "Didn't predict the part 2 at all, so the only thing useful from part 1 is the `Player` class. However, we could refactor part 1 to be solvable by part 2 by changing the contract of `Dice` to return a `List<Int>` on a `Dice::roll`. A `DeterministicDice` would just return a single element.\n",
    "\n",
    "To model the \"branches\", rather than returning a single `Player` state (the position and score after a move) we can return a `List<Player>` states to use as the point to continue the game from. To calculate the states is just the permutations of the sum of all 3 dice rolls returning 1, 2, and 3 each.\n",
    "\n",
    "To play the game efficiently, we need to utilize memoization. We can cache the result of how many wins a certain \"game state\" achieves so that if and when we encounter it again, we can quickly aggregate the wins rather than recalculating it. A game state can be quickly \"serialized\" into a key by identifying that the variables that affect the game's outcome are both players position and current score and whose turn it is."
   ]
  }
 ],
 "metadata": {
  "kernelspec": {
   "display_name": "Kotlin",
   "language": "kotlin",
   "name": "kotlin"
  },
  "language_info": {
   "codemirror_mode": "text/x-kotlin",
   "file_extension": ".kt",
   "mimetype": "text/x-kotlin",
   "name": "kotlin",
   "nbconvert_exporter": "",
   "pygments_lexer": "kotlin",
   "version": "1.6.20-dev-6372"
  }
 },
 "nbformat": 4,
 "nbformat_minor": 5
}
