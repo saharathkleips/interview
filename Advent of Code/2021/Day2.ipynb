{
 "cells": [
  {
   "cell_type": "markdown",
   "source": [
    "# Advent of Code 2021 - Day 2"
   ],
   "metadata": {}
  },
  {
   "cell_type": "code",
   "execution_count": 32,
   "source": [
    "enum class Direction(val id: String) {\r\n",
    "    FORWARD(\"forward\"),\r\n",
    "    DOWN(\"down\"),\r\n",
    "    UP(\"up\"),\r\n",
    "    ;\r\n",
    "\r\n",
    "    companion object {\r\n",
    "        private val idMap: Map<String, Direction> = Direction.values().associateBy(Direction::id)\r\n",
    "        fun fromId(id: String): Direction = idMap.getValue(id)\r\n",
    "    }\r\n",
    "}\r\n",
    "\r\n",
    "data class Command(val direction: Direction, val amount: Int)"
   ],
   "outputs": [],
   "metadata": {}
  },
  {
   "cell_type": "code",
   "execution_count": 33,
   "source": [
    "import java.io.File\r\n",
    "\r\n",
    "val regex = Regex(\"\"\"(\\w+) (\\d+)\"\"\")\r\n",
    "\r\n",
    "val commands: List<Command> = File(\"Day2.input.txt\")\r\n",
    "    .bufferedReader()\r\n",
    "    .readLines()\r\n",
    "    .map { regex.find(it)!!.destructured.toList() }\r\n",
    "    .map { (direction, amount) -> Command(direction = Direction.fromId(direction), amount = amount.toInt()) }"
   ],
   "outputs": [],
   "metadata": {}
  },
  {
   "cell_type": "markdown",
   "source": [
    "## Part 1\r\n",
    "\r\n",
    "Calculate the horizontal and vertical position after executing all of the `commands`. `FORWARD` and `DOWN` increases horizontal and vertical position respectively. `UP` decreases vertical position. Multiply the resulting position components for the answer."
   ],
   "metadata": {}
  },
  {
   "cell_type": "code",
   "execution_count": 34,
   "source": [
    "data class Position(val horizontal: Int, val vertical: Int)\r\n",
    "\r\n",
    "commands\r\n",
    "    .fold(Position(horizontal = 0, vertical = 0)) { position, command -> \r\n",
    "        when (command.direction) {\r\n",
    "            Direction.FORWARD -> position.copy(horizontal = position.horizontal + command.amount)\r\n",
    "            Direction.DOWN -> position.copy(vertical = position.vertical + command.amount)\r\n",
    "            Direction.UP -> position.copy(vertical = position.vertical - command.amount)\r\n",
    "        }\r\n",
    "    }\r\n",
    "    .let { it.horizontal * it.vertical }"
   ],
   "outputs": [
    {
     "output_type": "execute_result",
     "data": {
      "text/plain": [
       "1962940"
      ]
     },
     "metadata": {},
     "execution_count": 34
    }
   ],
   "metadata": {}
  },
  {
   "cell_type": "markdown",
   "source": [
    "### Notes\r\n",
    "\r\n",
    "No comments here, pretty straightforward. I think named arguments are pretty nice."
   ],
   "metadata": {}
  },
  {
   "cell_type": "markdown",
   "source": [
    "## Part 2\r\n",
    "\r\n",
    "Calculate the aim, horizontal, and vertical position after executing all of the `commands`. `DOWN` increases aim by the specified `amount`. `UP` decreases aim by the specified `amount`. `FORWARD` increases horizontal position by the specified `amount`, as well as increases vertical position by the current aim multiplied by the specified `amount`. Multiply the position components for the answer."
   ],
   "metadata": {}
  },
  {
   "cell_type": "code",
   "execution_count": 35,
   "source": [
    "data class AimedPosition(val aim: Int, val horizontal: Int, val vertical: Int)\r\n",
    "\r\n",
    "commands\r\n",
    "    .fold(AimedPosition(aim = 0, horizontal = 0, vertical = 0)) { position, command -> \r\n",
    "        when (command.direction) {\r\n",
    "            Direction.FORWARD -> position.copy(\r\n",
    "                horizontal = position.horizontal + command.amount, \r\n",
    "                vertical = position.vertical + (position.aim * command.amount),\r\n",
    "            )\r\n",
    "            Direction.DOWN -> position.copy(aim = position.aim + command.amount)\r\n",
    "            Direction.UP -> position.copy(aim = position.aim - command.amount)\r\n",
    "        }\r\n",
    "    }\r\n",
    "    .let { it.horizontal * it.vertical }"
   ],
   "outputs": [
    {
     "output_type": "execute_result",
     "data": {
      "text/plain": [
       "1813664422"
      ]
     },
     "metadata": {},
     "execution_count": 35
    }
   ],
   "metadata": {}
  },
  {
   "cell_type": "markdown",
   "source": [
    "### Notes\r\n",
    "\r\n",
    "Basically the same problem as part 1, just more parsing instructions."
   ],
   "metadata": {}
  }
 ],
 "metadata": {
  "kernelspec": {
   "display_name": "Kotlin",
   "language": "kotlin",
   "name": "python374jvsc74a57bd01005f71a2f2c9f7da6acb75e9bc0247674183f6cab85bd2a339bd069fc0cd207"
  },
  "language_info": {
   "codemirror_mode": "text/x-kotlin",
   "file_extension": ".kt",
   "mimetype": "text/x-kotlin",
   "name": "kotlin",
   "nbconvert_exporter": "",
   "pygments_lexer": "kotlin",
   "version": "1.6.0-dev-3567"
  }
 },
 "nbformat": 4,
 "nbformat_minor": 5
}