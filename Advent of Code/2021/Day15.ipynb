{
 "cells": [
  {
   "cell_type": "markdown",
   "metadata": {},
   "source": [
    "# Advent of Code 2021 - Day 15"
   ]
  },
  {
   "cell_type": "code",
   "execution_count": 447,
   "id": "66a624b5",
   "metadata": {},
   "outputs": [],
   "source": [
    "@JvmInline value class Chiton(val risk: Int)\n",
    "typealias Cave = List<List<Chiton>>\n",
    "typealias Index = Pair<Int, Int>\n",
    "typealias Path = List<Index>"
   ]
  },
  {
   "cell_type": "code",
   "execution_count": 448,
   "metadata": {},
   "outputs": [],
   "source": [
    "import java.io.File\n",
    "\n",
    "val cave: Cave = File(\"Day15.input.txt\")\n",
    "    .bufferedReader()\n",
    "    .readLines()\n",
    "    .map { line -> line.map(Char::digitToInt).map(::Chiton) }"
   ]
  },
  {
   "cell_type": "markdown",
   "metadata": {},
   "source": [
    "## Part 1\n",
    "\n",
    "Find the path from start to finish."
   ]
  },
  {
   "cell_type": "code",
   "execution_count": 449,
   "id": "9538c433",
   "metadata": {},
   "outputs": [
    {
     "name": "stdout",
     "output_type": "stream",
     "text": [
      "Part 1 - 423\n",
      "Part 2 - 2778\n"
     ]
    }
   ],
   "source": [
    "import java.util.PriorityQueue\n",
    "\n",
    "val Cave.height: Int\n",
    "    get() = cave.size\n",
    "val Cave.width: Int\n",
    "    get() = cave.first().size\n",
    "\n",
    "operator fun Chiton.plus(other: Chiton): Chiton = Chiton(risk + other.risk)\n",
    "operator fun Chiton.plus(value: Int) = Chiton(risk + value)\n",
    "\n",
    "fun Index.down(): Index = (first + 1) to second\n",
    "fun Index.up(): Index = (first - 1) to second\n",
    "fun Index.right(): Index = first to (second + 1)\n",
    "fun Index.left(): Index = first to (second - 1)\n",
    "\n",
    "fun Index.adjacents(graph: Graph): List<Index> = listOf(down(), up(), right(), left()).filter { \n",
    "    it.first >= 0 && it.second >= 0 && it.first < graph.height && it.second < graph.width\n",
    "}\n",
    "\n",
    "data class TotalChiton(val at: Index, val total: Chiton)\n",
    "fun interface Traveral {\n",
    "    fun traverse(graph: Graph, chiton: TotalChiton): List<TotalChiton>\n",
    "}\n",
    "\n",
    "class Graph(val cave: Cave, val scale: Int) {\n",
    "    val height: Int = cave.height * scale\n",
    "    val width: Int = cave.width * scale\n",
    "\n",
    "    val start: Index = 0 to 0\n",
    "    val end: Index = (width - 1) to (height - 1)\n",
    "\n",
    "    fun walk(traversal: Traveral): Int {\n",
    "        val processing = PriorityQueue<TotalChiton> { left, right -> left.total.risk - right.total.risk }.apply {\n",
    "            add(TotalChiton(start, Chiton(0)))\n",
    "        }\n",
    "        val visited = mutableSetOf<Index>()\n",
    "\n",
    "        while (processing.isNotEmpty()) {\n",
    "            val current = processing.poll()\n",
    "            \n",
    "            if (current.at == end) return current.total.risk\n",
    "            if (current.at !in visited) {\n",
    "                visited.add(current.at)\n",
    "                processing.addAll(traversal.traverse(this, current))\n",
    "            }\n",
    "        }\n",
    "        throw IllegalStateException()\n",
    "    }\n",
    "}\n",
    "\n",
    "Graph(cave, 1).walk { graph, prev ->\n",
    "    prev.at.adjacents(graph).map {\n",
    "        TotalChiton(it, prev.total + graph.cave[it.first][it.second])\n",
    "    }\n",
    "}.also { println(\"Part 1 - $it\")}\n",
    "\n",
    "Graph(cave, 5).walk { graph, prev ->\n",
    "    prev.at.adjacents(graph).map {\n",
    "        val dx = it.first / cave.width\n",
    "        val dy = it.second / cave.height\n",
    "        val index = (it.first % graph.cave.width) to (it.second % graph.cave.height)\n",
    "        val wrappedRisk = 1 + ((graph.cave[index.first][index.second].risk + dy + dx) - 1) % 9\n",
    "\n",
    "        TotalChiton(it, prev.total + wrappedRisk)\n",
    "    }\n",
    "}.let { println(\"Part 2 - $it\")}"
   ]
  },
  {
   "cell_type": "markdown",
   "metadata": {},
   "source": [
    "### Notes\n",
    "\n",
    "This was a miserable problem for me. Started out using the grid, using recursion, using a graph, iterative approach, different semantics, etc. etc. etc.\n",
    "\n",
    "This is \"just\" a pathfinding problem with weighted edges. There are many pathfinding solutions out there, this one tries to use Dijkstra's. The idea here is to spread out one cell at a time while keeping track of previous paths. The next path to spread out from is always the least total weighted path. You'll never have to move into a cell that had been visited by a previous path because there will always be a shorter path to get to that visited cell. This means a lot of backtracking in an unweighted graph, so it's important that this was weighted. In an unweighted / uniform graph, it would be better to use something like a depth-first search."
   ]
  },
  {
   "cell_type": "markdown",
   "metadata": {},
   "source": [
    "## Part 2\n",
    "\n",
    "The cave repeats with a predictable pattern."
   ]
  },
  {
   "cell_type": "markdown",
   "metadata": {},
   "source": [
    "### Notes\n",
    "\n",
    "Jupyter wouldn't let me put the code for part 2 in another cell, so it's above in part 1."
   ]
  }
 ],
 "metadata": {
  "kernelspec": {
   "display_name": "Kotlin",
   "language": "kotlin",
   "name": "kotlin"
  },
  "language_info": {
   "codemirror_mode": "text/x-kotlin",
   "file_extension": ".kt",
   "mimetype": "text/x-kotlin",
   "name": "kotlin",
   "nbconvert_exporter": "",
   "pygments_lexer": "kotlin",
   "version": "1.6.20-dev-6372"
  }
 },
 "nbformat": 4,
 "nbformat_minor": 5
}
