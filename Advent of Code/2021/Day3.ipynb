{
 "cells": [
  {
   "cell_type": "markdown",
   "source": [
    "# Advent of Code 2021 - Day 3"
   ],
   "metadata": {}
  },
  {
   "cell_type": "code",
   "execution_count": 1,
   "source": [
    "data class DiagnosticReport(val numbers: String, val chunk: Int)"
   ],
   "outputs": [],
   "metadata": {}
  },
  {
   "cell_type": "code",
   "execution_count": 2,
   "source": [
    "import java.io.File\r\n",
    "\r\n",
    "val regex = Regex(\"\"\"[^1,0]\"\"\")\r\n",
    "\r\n",
    "val report: DiagnosticReport = File(\"Day3.input.txt\")\r\n",
    "    .bufferedReader()\r\n",
    "    .readText()\r\n",
    "    .let { DiagnosticReport(numbers = regex.replace(it, \"\"), chunk = it.indexOf('\\n') - 1) }"
   ],
   "outputs": [],
   "metadata": {}
  },
  {
   "cell_type": "markdown",
   "source": [
    "## Part 1\r\n",
    "\r\n",
    "Calculate the power consumption from the `DiagnosticReport` by multiplying the calculated gamma by the calculated epsilon. Calculate the gamma by taking the bit that appears the most in its position split by `chunk` and converting it to decimal. Epsilon is calculated similarly, except it is the bit that appears the least."
   ],
   "metadata": {}
  },
  {
   "cell_type": "code",
   "execution_count": 3,
   "source": [
    "val DiagnosticReport.chunkedByPosition: List<String>\r\n",
    "    get() = (0 until chunk).map { position ->\r\n",
    "        numbers.foldIndexed(\"\") { index, acc, char ->\r\n",
    "            if (index % chunk == position) acc + char else acc\r\n",
    "        }\r\n",
    "    }\r\n",
    "\r\n",
    "fun List<String>.foldByCharGroup(fn: (String, Map<Char, List<Char>>) -> String): String =\r\n",
    "    map { string -> string.groupBy { it } }\r\n",
    "    .fold(\"\") { string, group -> fn(string, group) }\r\n",
    "\r\n",
    "val DiagnosticReport.gamma: Int\r\n",
    "    get() = chunkedByPosition.foldByCharGroup { gamma, group -> \r\n",
    "        gamma + group.maxByOrNull { it.value.size }!!.key\r\n",
    "    }\r\n",
    "    .toInt(2)\r\n",
    "\r\n",
    "val DiagnosticReport.epsilon: Int\r\n",
    "    get() = chunkedByPosition.foldByCharGroup { epsilon, group -> \r\n",
    "        epsilon + group.minByOrNull { it.value.size }!!.key\r\n",
    "    }\r\n",
    "    .toInt(2)\r\n",
    "\r\n",
    "val DiagnosticReport.powerConsumption: Int \r\n",
    "    get() = gamma * epsilon\r\n",
    "\r\n",
    "report.powerConsumption"
   ],
   "outputs": [
    {
     "output_type": "execute_result",
     "data": {
      "text/plain": [
       "1997414"
      ]
     },
     "metadata": {},
     "execution_count": 3
    }
   ],
   "metadata": {}
  },
  {
   "cell_type": "markdown",
   "source": [
    "### Notes\r\n",
    "\r\n",
    "I think there's a ton of ways to solve this problem. For instance notice that `epsilon` is just the bitwise inverse of `gamma`. However, Kotlin's built in bitwise inverse (`Int::inv`) returns the two's compliment. I'm pretty sure there's also a really clever way to solve this problem, but 🤷. Also my `report` input was definitely influenced by the problem statement, it would probably be more flexible as a list of strings (or integers)."
   ],
   "metadata": {}
  },
  {
   "cell_type": "markdown",
   "source": [
    "## Part 2\r\n",
    "\r\n",
    "Calculate the life support rating from the `DiagnosticReport` by multiplying the calculated oxygen generator rating and the CO2 scrubber rating. The oxygen generator rating is calculated by checking every position for the bit that appears the most and then only keeping entries that contain that number in that position. This is repeated until there is only one number left. CO2 scrubber rating is calculated similarly, except you keep the least appearing bit."
   ],
   "metadata": {}
  },
  {
   "cell_type": "code",
   "execution_count": 4,
   "source": [
    "val DiagnosticReport.numbersList: List<String>\r\n",
    "    get() = report.numbers.chunked(report.chunk)\r\n",
    "\r\n",
    "val DiagnosticReport.matrix: List<List<Int>>\r\n",
    "    get() = numbersList.map { string -> string.map { it.digitToInt(2) }}\r\n",
    "\r\n",
    "fun List<List<Int>>.countColumn(column: Int): Map<Int, Int> = fold(mapOf()) { acc, row ->\r\n",
    "    val bit = row[column]\r\n",
    "    acc + (bit to (acc[bit]?.plus(1) ?: 1))\r\n",
    "}\r\n",
    "\r\n",
    "fun List<List<Int>>.calculateRating(keepCondition: (Map<Int, Int>) -> Int): Int =\r\n",
    "    (0 until this[0].size).fold(this) { acc, index ->\r\n",
    "        if (acc.size == 1) acc\r\n",
    "        else acc.countColumn(index)\r\n",
    "            .let { keepCondition(it) }\r\n",
    "            .let { keep -> acc.filter { it[index] == keep } }\r\n",
    "    }[0]\r\n",
    "    .joinToString(\"\")\r\n",
    "    .toInt(2)\r\n",
    "\r\n",
    "fun Int?.gte(other: Int?): Boolean {\r\n",
    "    return if (this == null && other == null) true\r\n",
    "    else if (this != null && other == null) true\r\n",
    "    else if (this == null && other != null) false\r\n",
    "    else {\r\n",
    "        this!! >= other!!\r\n",
    "    }\r\n",
    "}\r\n",
    "\r\n",
    "val DiagnosticReport.oxygenGeneratorRating: Int\r\n",
    "    get() = matrix.calculateRating { if (it[1].gte(it[0])) 1 else 0 }\r\n",
    "\r\n",
    "val DiagnosticReport.co2ScrubberRating: Int\r\n",
    "    get() = matrix.calculateRating { if (it[1].gte(it[0])) 0 else 1 }\r\n",
    "\r\n",
    "val DiagnosticReport.lifeSupportRating: Int\r\n",
    "    get() = oxygenGeneratorRating * co2ScrubberRating\r\n",
    "\r\n",
    "report.lifeSupportRating"
   ],
   "outputs": [
    {
     "output_type": "execute_result",
     "data": {
      "text/plain": [
       "1032597"
      ]
     },
     "metadata": {},
     "execution_count": 4
    }
   ],
   "metadata": {}
  },
  {
   "cell_type": "markdown",
   "source": [
    "### Notes\r\n",
    "\r\n",
    "This problem was really really really long to parse, and at some point I just got tired. I think in retrospect the `matrix` I created for part 2 could have simplified the solution in part 1 a lot. Also it turns out that there's not really a good way to compare nullable integers, but I guess it makes sense when you consider the ways you can handle the null scenarios.\r\n",
    "\r\n",
    "Overall, not really happy with this day."
   ],
   "metadata": {}
  }
 ],
 "metadata": {
  "kernelspec": {
   "display_name": "Kotlin",
   "language": "kotlin",
   "name": "python374jvsc74a57bd01005f71a2f2c9f7da6acb75e9bc0247674183f6cab85bd2a339bd069fc0cd207"
  },
  "language_info": {
   "codemirror_mode": "text/x-kotlin",
   "file_extension": ".kt",
   "mimetype": "text/x-kotlin",
   "name": "kotlin",
   "nbconvert_exporter": "",
   "pygments_lexer": "kotlin",
   "version": "1.6.0-dev-3567"
  }
 },
 "nbformat": 4,
 "nbformat_minor": 5
}