{
 "cells": [
  {
   "cell_type": "markdown",
   "id": "095e94c8",
   "metadata": {},
   "source": [
    "# Advent of Code 2021 - Day 22"
   ]
  },
  {
   "cell_type": "code",
   "execution_count": 127,
   "id": "2e11171f",
   "metadata": {},
   "outputs": [],
   "source": [
    "data class Cube(val x: Int, val y: Int, val z: Int)\n",
    "\n",
    "sealed class CuboidSet(set: Set<Cube>) : Set<Cube> by set {\n",
    "    constructor(width: IntRange, height: IntRange, depth: IntRange) : this(\n",
    "        width.fold(mutableSetOf<Cube>()) { outer, x ->\n",
    "            height.fold(outer) { inner , y ->\n",
    "                depth.fold(inner) { acc, z ->\n",
    "                    acc.apply { add(Cube(x, y, z)) }\n",
    "                }\n",
    "            }\n",
    "        }\n",
    "    )\n",
    "\n",
    "    class On : CuboidSet {\n",
    "        constructor(set: Set<Cube>) : super(set)\n",
    "        constructor(width: IntRange, height: IntRange, depth: IntRange) : super(width, height, depth)\n",
    "    }\n",
    "\n",
    "    class Off : CuboidSet {\n",
    "        constructor(set: Set<Cube>) : super(set)\n",
    "        constructor(width: IntRange, height: IntRange, depth: IntRange) : super(width, height, depth)\n",
    "    }\n",
    "}"
   ]
  },
  {
   "cell_type": "code",
   "execution_count": 128,
   "id": "56192de7",
   "metadata": {},
   "outputs": [],
   "source": [
    "import java.io.File\n",
    "\n",
    "operator fun IntRange.contains(other: IntRange): Boolean = (other.start in this) && (other.endInclusive in this)\n",
    "\n",
    "val regex = Regex(\"\"\"(on|off) x=(-?\\d+)..(-?\\d+),y=(-?\\d+)..(-?\\d+),z=(-?\\d+)..(-?\\d+)\"\"\")\n",
    "\n",
    "val INIT_RANGE: IntRange = (-50..50)\n",
    "\n",
    "val (initialization: List<CuboidSet>, _: Unit) = File(\"Day22.input.txt\")\n",
    "    .bufferedReader()\n",
    "    .readLines()\n",
    "    .map { regex.find(it)!!.destructured }\n",
    "    .map { (on, x1, x2, y1, y2, z1, z2) ->\n",
    "        on to listOf(x1.toInt()..x2.toInt(), y1.toInt()..y2.toInt(), z1.toInt()..z2.toInt())\n",
    "    }\n",
    "    .partition { (_, dimension) ->\n",
    "        dimension[0] in INIT_RANGE && dimension[1] in INIT_RANGE && dimension[2] in INIT_RANGE \n",
    "    }\n",
    "    .let { (initCuboids, _) ->\n",
    "        initCuboids.map { (on, dimension) ->\n",
    "            if (on == \"on\") CuboidSet.On(dimension[0], dimension[1], dimension[2]) \n",
    "            else CuboidSet.Off(dimension[0], dimension[1], dimension[2])\n",
    "        } to Unit\n",
    "    }"
   ]
  },
  {
   "cell_type": "markdown",
   "id": "125e7411",
   "metadata": {},
   "source": [
    "## Part 1\n",
    "\n",
    "Given an `initialization` list of `CuboidSets`, find the number of `Cube`s that are on."
   ]
  },
  {
   "cell_type": "code",
   "execution_count": 129,
   "id": "1218dd79",
   "metadata": {},
   "outputs": [
    {
     "data": {
      "text/plain": [
       "591365"
      ]
     },
     "execution_count": 129,
     "metadata": {},
     "output_type": "execute_result"
    }
   ],
   "source": [
    "fun List<CuboidSet>.onCubes(): Int = reduce { acc, cuboid ->\n",
    "    when (cuboid) {\n",
    "        is CuboidSet.On -> CuboidSet.On(acc union cuboid)\n",
    "        is CuboidSet.Off -> CuboidSet.Off(acc subtract cuboid)\n",
    "    }\n",
    "}.size\n",
    "\n",
    "initialization.onCubes()"
   ]
  },
  {
   "cell_type": "markdown",
   "id": "ba51eef6",
   "metadata": {},
   "source": [
    "### Notes\n",
    "\n",
    "So I feared this would be the \"brute force\" way to do it, and after seeing part 2, it definitely is. At least for part 1 though, the idea is to `union` all of the cuboids that are on and to `subtract` the cuboids that are off. This works pretty well for (relatively) small sets, but when the sample input says that 2758514936282235 cubes are on in `bigInitialization`, things don't look so good for this algorithm. However, we might be able to utilize the same \"idea\" for part 2. Part 1 is super clean though 🤷‍♂️."
   ]
  },
  {
   "cell_type": "markdown",
   "id": "5eb2afa5",
   "metadata": {},
   "source": [
    "## Part 2\n",
    "\n",
    "Part 1 but take all the input cuboids into account."
   ]
  },
  {
   "cell_type": "code",
   "execution_count": 130,
   "id": "88632f38",
   "metadata": {},
   "outputs": [],
   "source": [
    "sealed class Cuboid(val width: LongRange, val height: LongRange, val depth: LongRange) {\n",
    "    operator fun component1() = width; operator fun component2() = height; operator fun component3() = depth;\n",
    "    class On(width: LongRange, height: LongRange, depth: LongRange) : Cuboid(width, height, depth)\n",
    "    class Off(width: LongRange, height: LongRange, depth: LongRange) : Cuboid(width, height, depth)\n",
    "}\n",
    "\n",
    "fun <T : Cuboid> T.constructor(width: LongRange, height: LongRange, depth: LongRange): T = when (this as Cuboid) {\n",
    "    is Cuboid.On -> Cuboid.On(width, height, depth) as T\n",
    "    is Cuboid.Off -> Cuboid.Off(width, height, depth) as T\n",
    "}"
   ]
  },
  {
   "cell_type": "code",
   "execution_count": 131,
   "id": "29e56c30",
   "metadata": {},
   "outputs": [],
   "source": [
    "val cuboids: List<Cuboid> = File(\"Day22.input.txt\")\n",
    "    .bufferedReader()\n",
    "    .readLines()\n",
    "    .map { regex.find(it)!!.destructured }\n",
    "    .map { (on, x1, x2, y1, y2, z1, z2) ->\n",
    "        on to listOf(x1.toLong()..x2.toLong(), y1.toLong()..y2.toLong(), z1.toLong()..z2.toLong())\n",
    "    }\n",
    "    .map { (on, dimension) ->\n",
    "        if (on == \"on\") Cuboid.On(dimension[0], dimension[1], dimension[2]) \n",
    "        else Cuboid.Off(dimension[0], dimension[1], dimension[2])\n",
    "    }"
   ]
  },
  {
   "cell_type": "code",
   "execution_count": 132,
   "id": "d7dca21a",
   "metadata": {},
   "outputs": [
    {
     "data": {
      "text/plain": [
       "1211172281877240"
      ]
     },
     "execution_count": 132,
     "metadata": {},
     "output_type": "execute_result"
    }
   ],
   "source": [
    "// this: [], other: <>\n",
    "infix fun LongRange.intersect(other: LongRange): LongRange? =\n",
    "    // [<  >]   ||   <  [  ]  >   ||   <  [  >]   ||   [<  ]  >\n",
    "    if (start >= other.start && endInclusive <= other.endInclusive)\n",
    "        this\n",
    "    // [  <  >  ]   ||   [  <  >]   ||   [<  >  ]\n",
    "    else if (start <= other.start && endInclusive >= other.endInclusive)\n",
    "        other\n",
    "    // <  [  ]  >   ||   <  [>  ]\n",
    "    else if (start > other.start && endInclusive > other.endInclusive && start <= other.endInclusive)\n",
    "        start..other.endInclusive\n",
    "    // [  <  ]  >   ||   [  <]  >\n",
    "    else if (start < other.start && endInclusive < other.endInclusive && endInclusive >= other.start)\n",
    "        other.start..endInclusive\n",
    "    // [  ]  <  >   ||   <  > [  ]\n",
    "    else null\n",
    "\n",
    "infix fun LongRange.subtract(other: LongRange): List<LongRange> = (this intersect other)?.let {\n",
    "    buildList {\n",
    "        if (start < it.start) add(start..(it.start - 1))\n",
    "        if (endInclusive > it.endInclusive) add((it.endInclusive + 1)..endInclusive)\n",
    "    }\n",
    "} ?: listOf(this)\n",
    "\n",
    "infix fun <T : Cuboid> T.intersect(other: Cuboid): T? = (width intersect other.width)?.let { w ->\n",
    "    (height intersect other.height)?.let { h ->\n",
    "        (depth intersect other.depth)?.let { d ->\n",
    "            constructor(w, h, d)\n",
    "        }\n",
    "    }\n",
    "}\n",
    "\n",
    "infix fun <T : Cuboid> T.subtract(other: Cuboid): List<T> = (this intersect other)?.let { (w, h, d) ->\n",
    "    buildList {\n",
    "        (width subtract w).map { constructor(it, height, depth) }.onEach(this::add)\n",
    "        (height subtract h).map { constructor(w, it, depth) }.onEach(this::add)\n",
    "        (depth subtract d).map { constructor(w, h, it) }.onEach(this::add)\n",
    "    }\n",
    "} ?: listOf(this)\n",
    "\n",
    "fun List<Cuboid>.reboot(): List<Cuboid.On> = fold(mutableListOf<Cuboid.On>()) { acc, cuboid ->\n",
    "    fun off(): MutableList<Cuboid.On> = acc.flatMap { it subtract cuboid }.toMutableList()\n",
    "    when (cuboid) {\n",
    "        is Cuboid.On -> off().apply { add(cuboid) }\n",
    "        is Cuboid.Off -> off()\n",
    "    }\n",
    "}\n",
    "\n",
    "fun LongRange.length() = endInclusive - start + 1\n",
    "\n",
    "fun Cuboid.volume(): Long = width.length() * height.length() * depth.length()\n",
    "\n",
    "cuboids.reboot().sumOf { it.volume() }"
   ]
  },
  {
   "cell_type": "markdown",
   "id": "246e7009",
   "metadata": {},
   "source": [
    "### Notes\n",
    "\n",
    "This problem definitely took a bit but needed to be continuously broken down for me to make sense of it. I first tried to think of what it means to intersect a square and recognized that I could describe the intersection as some combination of the 4 intersecting sides. With this in mind, I then realized that that we can then consider what the intersection on a line looked like. This lead us to drawing and writing out `LongRange::intersect`.\n",
    "\n",
    "Learned that taking the `intersect` of two `...Range` produces a `LinkedHashSet` of all the elements (`IntRange.intersect(IntRange) -> Set`), rather than another range, so unfortunately we have to write our own. The same applies for `LongRange::subtract`.\n",
    "\n",
    "We'll need to find out if any two `Cuboid`s intersect so we can properly turn cubes off. Here we can just check if all of their lines will intersect and the resulting line segments will form a new intersection cuboid. To subtract one cuboid from another, we can take that intersection previously computed and iterate through each dimension (easier to see in 2D).\n",
    "\n",
    "After that the last \"gotcha\" is that when adding cuboids to the \"all on\" list, we can have overlaps. So we first have to `Cuboid::subtract` all the `Cuboid.On`s to make sure the new one we're adding does not overlap.\n",
    "\n",
    "Lastly, once we've made sure none of the cuboids overlap, the number of \"on\"s is just the volume of each cube.\n",
    "\n",
    "Overall, pretty happy with how clean the solution turned out despite it taking awhile for the problem to click."
   ]
  }
 ],
 "metadata": {
  "kernelspec": {
   "display_name": "Kotlin",
   "language": "kotlin",
   "name": "kotlin"
  },
  "language_info": {
   "codemirror_mode": "text/x-kotlin",
   "file_extension": ".kt",
   "mimetype": "text/x-kotlin",
   "name": "kotlin",
   "nbconvert_exporter": "",
   "pygments_lexer": "kotlin",
   "version": "1.6.20-dev-6372"
  }
 },
 "nbformat": 4,
 "nbformat_minor": 5
}
