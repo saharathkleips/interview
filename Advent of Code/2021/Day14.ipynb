{
 "cells": [
  {
   "cell_type": "markdown",
   "id": "59be9db1",
   "metadata": {},
   "source": [
    "# Advent of Code 2021 - Day 14"
   ]
  },
  {
   "cell_type": "code",
   "execution_count": 275,
   "id": "d78f9672",
   "metadata": {},
   "outputs": [],
   "source": [
    "data class Input(val polymer: String, val rules: Map<String, String>)"
   ]
  },
  {
   "cell_type": "code",
   "execution_count": 276,
   "id": "60c0cecd",
   "metadata": {},
   "outputs": [],
   "source": [
    "import java.io.File\n",
    "\n",
    "val input: Input = File(\"Day14.input.txt\")\n",
    "    .bufferedReader()\n",
    "    .readLines()\n",
    "    .let { lines ->\n",
    "        val insertionPairRegex = Regex(\"\"\"(\\w{2}) -> (\\w)\"\"\")\n",
    "        Input(\n",
    "            polymer = lines[0],\n",
    "            rules = lines.drop(2)\n",
    "                .map { insertionPairRegex.find(it)!!.destructured }\n",
    "                .associate { (pair, insert) -> pair to insert }\n",
    "        )\n",
    "    }"
   ]
  },
  {
   "cell_type": "markdown",
   "id": "7ee13729",
   "metadata": {},
   "source": [
    "## Part 1\n",
    "\n",
    "Given an `Input::polymer` insert the character defined by `Input::rules`' value in between each occurrence of `Input::rules`' keys. Each insertion happens simultaneously. For instance, given the polymer \"NNCB\" and the rules: NN -> C, NC -> B, CB -> H, the final polymer would be \"NCNBCHB\". Find the difference between the maximum occurrence of each character with the minimum after 10 iterations of insertions."
   ]
  },
  {
   "cell_type": "code",
   "execution_count": 277,
   "id": "e60ae8bc",
   "metadata": {},
   "outputs": [
    {
     "data": {
      "text/plain": [
       "3697"
      ]
     },
     "execution_count": 277,
     "metadata": {},
     "output_type": "execute_result"
    }
   ],
   "source": [
    "fun String.insert(rules: Map<String, String>): String =\n",
    "    windowed(2)\n",
    "    .map { \"${it[0]}${rules.getOrDefault(it, \"\")}${it[1]}\" }\n",
    "    .let { segments ->\n",
    "        segments.dropLast(1).map { it.dropLast(1) } + segments.last()\n",
    "    }\n",
    "    .joinToString(\"\")\n",
    "\n",
    "tailrec fun String.expand(rules: Map<String, String>, times: Int): String =\n",
    "    if (times == 0) this else this.insert(rules).expand(rules, times - 1)\n",
    "\n",
    "fun String.minMaxDifference(): Int = \n",
    "    groupingBy { it }\n",
    "    .eachCount()\n",
    "    .let { it.maxByOrNull { it.value }!!.value - it.minByOrNull { it.value }!!.value }\n",
    "\n",
    "input.polymer.expand(input.rules, 10)\n",
    "    .minMaxDifference()"
   ]
  },
  {
   "cell_type": "markdown",
   "id": "828ea23f",
   "metadata": {},
   "source": [
    "### Notes\n",
    "\n",
    "This is the \"brute force\" approach which follows the implied solution of the problem statement, which is to maintain the entire string through each iteration. After all iterations, we can just count the number of each character for the answer."
   ]
  },
  {
   "cell_type": "markdown",
   "id": "3fa24747",
   "metadata": {},
   "source": [
    "## Part 2\n",
    "\n",
    "Same as part 1, but with 40 iterations."
   ]
  },
  {
   "cell_type": "code",
   "execution_count": 278,
   "id": "7d803f45",
   "metadata": {},
   "outputs": [
    {
     "data": {
      "text/plain": [
       "4371307836157"
      ]
     },
     "execution_count": 278,
     "metadata": {},
     "output_type": "execute_result"
    }
   ],
   "source": [
    "fun <T> MutableMap<T, Long>.increment(key: T, value: Long = 1) {\n",
    "    when (val count = get(key)) {\n",
    "        null -> this[key] = value\n",
    "        else -> this[key] = count + value\n",
    "    }\n",
    "}\n",
    "\n",
    "fun Map<String, Long>.insert(rules: Map<String, String>): Map<String, Long> =\n",
    "    entries.fold(mutableMapOf()) { acc, (pair, count) ->\n",
    "        acc.apply {\n",
    "            rules[pair]?.let {\n",
    "                increment(\"${pair[0]}$it\", count)\n",
    "                increment(\"$it${pair[1]}\", count)\n",
    "            }\n",
    "        }\n",
    "    }\n",
    "\n",
    "fun String.explode(rules: Map<String, String>, times: Int): Map<String, Long> {\n",
    "    tailrec fun Map<String, Long>.decrement(t: Int): Map<String, Long> = \n",
    "        if (t == 0) this@decrement else this@decrement.insert(rules).decrement(t - 1)\n",
    "    \n",
    "    return this@explode.windowed(2).fold(mutableMapOf<String, Long>()) { acc, pair ->\n",
    "        acc.apply { increment(pair) }\n",
    "    }.decrement(times)\n",
    "}\n",
    "\n",
    "fun Map<String, Long>.minMaxDifference(): Long = \n",
    "    entries.fold(mutableMapOf<Char, Long>()) { acc, (pair, count) ->\n",
    "        acc.apply { increment(pair[1], count) }\n",
    "    }\n",
    "    .let { map -> map.maxByOrNull { it.value }!!.value - map.minByOrNull { it.value }!!.value }\n",
    "\n",
    "input.polymer.explode(input.rules, 40).minMaxDifference()"
   ]
  },
  {
   "cell_type": "markdown",
   "id": "a1f9e969",
   "metadata": {},
   "source": [
    "### Notes\n",
    "\n",
    "Maintaining the entire string for 40 iterations is way too long, so a new solution had to be written (which also solves for part 1). The key here is to notice that we don't care about the entire string, but rather, just the pairs within them and how many times those pairs show up in the string. So from iteration to iteration, we can just pass in the counts of each pair and generate new pairs. This is the first part of the problem.\n",
    "\n",
    "Now with the counts of pairs, we have to get the number of times each character would show up as if we had the entire string. The key thing to notice here is that, if we knew the order, to build the string we have to connect each pair end-to-end with a matching pair: AB <-> BC. This means that we can just count the occurrences of the last character of each pair to find our answer."
   ]
  }
 ],
 "metadata": {
  "kernelspec": {
   "display_name": "Kotlin",
   "language": "kotlin",
   "name": "kotlin"
  },
  "language_info": {
   "codemirror_mode": "text/x-kotlin",
   "file_extension": ".kt",
   "mimetype": "text/x-kotlin",
   "name": "kotlin",
   "nbconvert_exporter": "",
   "pygments_lexer": "kotlin",
   "version": "1.6.20-dev-6372"
  }
 },
 "nbformat": 4,
 "nbformat_minor": 5
}
