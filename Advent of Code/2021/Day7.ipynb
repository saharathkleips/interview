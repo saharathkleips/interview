{
 "cells": [
  {
   "cell_type": "markdown",
   "source": [
    "# Advent of Code 2021 - Day 7"
   ],
   "metadata": {}
  },
  {
   "cell_type": "code",
   "execution_count": 6,
   "source": [
    "import java.io.File\r\n",
    "import java.util.Scanner\r\n",
    "\r\n",
    "val regex = Regex(\"\"\"(\\d+)\"\"\")\r\n",
    "\r\n",
    "val crabs: List<Int> = Scanner(File(\"Day7.input.txt\"))\r\n",
    "    .apply { useDelimiter(\",\") }\r\n",
    "    .use { scanner ->\r\n",
    "        generateSequence { if(scanner.hasNext()) scanner.next() else null }\r\n",
    "            .map(String::toInt)\r\n",
    "            .toList()\r\n",
    "    }"
   ],
   "outputs": [],
   "metadata": {}
  },
  {
   "cell_type": "markdown",
   "source": [
    "## Part 1\r\n",
    "\r\n",
    "Given a list of `crabs`' positions find the index between all of them that results in the least movement overall. How many positions in total did all crabs have to move to align themselves?"
   ],
   "metadata": {}
  },
  {
   "cell_type": "code",
   "execution_count": 7,
   "source": [
    "(crabs.minOrNull()!!..crabs.maxOrNull()!!)\r\n",
    "    .map { index -> crabs.sumOf { abs(it - index) } }\r\n",
    "    .minOrNull()"
   ],
   "outputs": [
    {
     "output_type": "execute_result",
     "data": {
      "text/plain": [
       "343441"
      ]
     },
     "metadata": {},
     "execution_count": 7
    }
   ],
   "metadata": {}
  },
  {
   "cell_type": "markdown",
   "source": [
    "### Notes\r\n",
    "\r\n",
    "This is a pretty brute force approach since at each possible position we just calculate the cost in moving everyone to that position. O(n^2) is not great, but the code for this one is really short!"
   ],
   "metadata": {}
  },
  {
   "cell_type": "markdown",
   "source": [
    "## Part 2\r\n",
    "\r\n",
    "Same as the first, except moving a crab is no longer a constant 1. Each position increases the step costs linearly: 1 step costs 1, 2 steps cost 2, etc. So moving 1 -> 5 costs (1 + 2 + 3 + 4 = 10)."
   ],
   "metadata": {}
  },
  {
   "cell_type": "code",
   "execution_count": 8,
   "source": [
    "(crabs.minOrNull()!!..crabs.maxOrNull()!!)\r\n",
    "    .map { index -> crabs.sumOf { abs(it - index).let { it * (it + 1) / 2 } } }\r\n",
    "    .minOrNull()"
   ],
   "outputs": [
    {
     "output_type": "execute_result",
     "data": {
      "text/plain": [
       "98925151"
      ]
     },
     "metadata": {},
     "execution_count": 8
    }
   ],
   "metadata": {}
  },
  {
   "cell_type": "markdown",
   "source": [
    "### Notes\r\n",
    "\r\n",
    "It's the same algorithm, but now we need the cost to be linearly increasing. This formula for this sum is pretty well known: `X * (X + 1) / 2`. `X` is the difference from A -> B."
   ],
   "metadata": {}
  },
  {
   "cell_type": "markdown",
   "source": [
    "### Bonus\r\n",
    "\r\n",
    "Generalized solution so you can provide your own cost function."
   ],
   "metadata": {}
  },
  {
   "cell_type": "code",
   "execution_count": 9,
   "source": [
    "fun List<Int>.alignCost(costFn: (Int, Int) -> Int): Int = (this.minOrNull()!!..this.maxOrNull()!!)\r\n",
    "    .map { index -> this.sumOf { costFn(it, index) } }\r\n",
    "    .minOrNull()!!\r\n",
    "\r\n",
    "fun constantCost(a: Int, b: Int): Int = abs(a - b)\r\n",
    "fun linearCost(a: Int, b: Int): Int = abs(a - b).let { it * (it + 1) / 2 }\r\n",
    "\r\n",
    "println(\"Part 1 - ${crabs.alignCost(::constantCost)}\")\r\n",
    "println(\"Part 2 - ${crabs.alignCost(::linearCost)}\")"
   ],
   "outputs": [
    {
     "output_type": "stream",
     "name": "stdout",
     "text": [
      "Part 1 - 343441\n",
      "Part 2 - 98925151\n"
     ]
    }
   ],
   "metadata": {}
  }
 ],
 "metadata": {
  "kernelspec": {
   "display_name": "Kotlin",
   "language": "kotlin",
   "name": "python374jvsc74a57bd01005f71a2f2c9f7da6acb75e9bc0247674183f6cab85bd2a339bd069fc0cd207"
  },
  "language_info": {
   "codemirror_mode": "text/x-kotlin",
   "file_extension": ".kt",
   "mimetype": "text/x-kotlin",
   "name": "kotlin",
   "nbconvert_exporter": "",
   "pygments_lexer": "kotlin",
   "version": "1.6.0-dev-3567"
  }
 },
 "nbformat": 4,
 "nbformat_minor": 5
}