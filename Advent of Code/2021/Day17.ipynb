{
 "cells": [
  {
   "cell_type": "markdown",
   "metadata": {},
   "source": [
    "# Advent of Code 2021 - Day 17"
   ]
  },
  {
   "cell_type": "code",
   "execution_count": 300,
   "id": "11e646d0",
   "metadata": {},
   "outputs": [],
   "source": [
    "data class Target(val horizontal: IntRange, val vertical: IntRange)\n",
    "\n",
    "data class OrderedPair(val x: Int, val y: Int)\n",
    "data class Instant(val point: OrderedPair, val velocity: OrderedPair) {\n",
    "    constructor(point: Pair<Int, Int>, velocity: Pair<Int, Int>) : \n",
    "        this(OrderedPair(point.first, point.second), OrderedPair(velocity.first, velocity.second))\n",
    "}"
   ]
  },
  {
   "cell_type": "code",
   "execution_count": 301,
   "metadata": {},
   "outputs": [],
   "source": [
    "import java.io.File\n",
    "\n",
    "val regex = Regex(\"\"\"x=(-?\\d+)..(-?\\d+), y=(-?\\d+)..(-?\\d+)\"\"\")\n",
    "\n",
    "val targets: List<Target> = File(\"Day17.input.txt\")\n",
    "    .bufferedReader()\n",
    "    .lineSequence()\n",
    "    .map(regex::find)\n",
    "    .map { it!!.destructured.toList() }\n",
    "    .map { it.map(String::toInt) }\n",
    "    .map { (x1,x2,y1,y2) -> Target(horizontal = x1..x2, vertical = y1..y2) }\n",
    "    .toList()"
   ]
  },
  {
   "cell_type": "markdown",
   "metadata": {},
   "source": [
    "## Part 1\n",
    "\n",
    "Find the highest `Instant::point` of any starting `Instant::velocity` from a starting point of 0,0 that hits the `target`."
   ]
  },
  {
   "cell_type": "code",
   "execution_count": 302,
   "metadata": {},
   "outputs": [
    {
     "data": {
      "text/plain": [
       "13041"
      ]
     },
     "execution_count": 302,
     "metadata": {},
     "output_type": "execute_result"
    }
   ],
   "source": [
    "fun Instant.next(drag: OrderedPair = OrderedPair(1,1)) = Instant(\n",
    "    point = OrderedPair((point.x + velocity.x), (point.y + velocity.y)),\n",
    "    velocity = OrderedPair((if (velocity.x > 0) velocity.x - drag.x \n",
    "        else if (velocity.x < 0) velocity.x + drag.x\n",
    "        else 0), \n",
    "        (velocity.y - drag.y))\n",
    ")\n",
    "\n",
    "fun Instant.towards(target: Target, drag: OrderedPair = OrderedPair(1,1)): Boolean? {\n",
    "    if (point.x in target.horizontal && point.y in target.vertical) return null\n",
    "\n",
    "    val horizAhead = point.x < target.horizontal.start && velocity.x > 0\n",
    "    val horizBehind = point.x > target.horizontal.endInclusive && velocity.x < 0\n",
    "    val vertBelow = point.y < target.vertical.start && velocity.y > 0\n",
    "    val vertAbove = point.y > target.vertical.endInclusive && (velocity.y < 0 || drag.y > 0)\n",
    "\n",
    "    return (horizAhead || horizBehind) || (vertAbove || vertBelow)\n",
    "}\n",
    "\n",
    "fun Instant.hits(target: Target, drag: OrderedPair = OrderedPair(1,1), collector: (Instant) -> Unit = {}): Int? {\n",
    "    var instant = this\n",
    "    var towards = towards(target, drag)\n",
    "    var steps = 0\n",
    "    while (towards == true) {\n",
    "        instant = instant.next(drag)\n",
    "        towards = instant.towards(target, drag)\n",
    "        collector(instant)\n",
    "        steps++\n",
    "    }\n",
    "\n",
    "    return if (towards == null) steps else null\n",
    "}\n",
    "\n",
    "fun OrderedPair.xVelocityHits(target: Target): List<Int> =\n",
    "    (x..target.horizontal.endInclusive).fold(mutableListOf<Int>()) { acc, velocity ->\n",
    "        Instant(x to target.vertical.start, velocity to 0).hits(target, drag = OrderedPair(1, 0))\n",
    "            ?.let { acc.add(velocity) }\n",
    "        acc\n",
    "    }\n",
    "\n",
    "fun OrderedPair.hits(target: Target): List<Instant> {\n",
    "    return xVelocityHits(target).fold(mutableListOf<Instant>()) { acc, xVelocity ->\n",
    "        (target.vertical.start..-(target.vertical.start)).forEach { yVelocity -> // lol lazy\n",
    "            Instant(x to y, xVelocity to yVelocity).let { instant ->\n",
    "                instant.hits(target)?.let { acc.add(instant) } \n",
    "            }\n",
    "        }\n",
    "        acc\n",
    "    }\n",
    "}\n",
    "\n",
    "fun Instant.maxHeight(target: Target): Int? {\n",
    "    var maxHeight = point.y\n",
    "    return hits(target) { maxHeight = maxOf(it.point.y, maxHeight) }\n",
    "        ?.let { maxHeight } \n",
    "}\n",
    "\n",
    "OrderedPair(0, 0).hits(targets[0]).mapNotNull { it.maxHeight(targets[0]) }.maxOrNull()"
   ]
  },
  {
   "cell_type": "markdown",
   "metadata": {},
   "source": [
    "### Notes\n",
    "\n",
    "Not sure if this is the best way, but tried to figure out every valid velocity that hits the target by calculating all valid x velocities, all valid y velocities and taking their product. Once we have each valid starting velocity, we can compare the max height they each reach and take the largest value out of all of them.\n",
    "\n",
    "To calculate the possible x values I checked each x velocity from the start to the target hit the target's x coordinates.\n",
    "To calculate the possible y values I checked each y velocity between the target's y starting coordinates and its inverse."
   ]
  },
  {
   "cell_type": "markdown",
   "metadata": {},
   "source": [
    "## Part 2\n",
    "\n",
    "How many distinct initial `Instant::velocity` values hit the `target`?"
   ]
  },
  {
   "cell_type": "code",
   "execution_count": 303,
   "metadata": {},
   "outputs": [
    {
     "data": {
      "text/plain": [
       "1031"
      ]
     },
     "execution_count": 303,
     "metadata": {},
     "output_type": "execute_result"
    }
   ],
   "source": [
    "OrderedPair(0,0).hits(targets[0]).size"
   ]
  },
  {
   "cell_type": "markdown",
   "metadata": {},
   "source": [
    "### Notes\n",
    "\n",
    "I was fortunate enough that the work in part 1 already told me this value."
   ]
  }
 ],
 "metadata": {
  "kernelspec": {
   "display_name": "Kotlin",
   "language": "kotlin",
   "name": "kotlin"
  },
  "language_info": {
   "codemirror_mode": "text/x-kotlin",
   "file_extension": ".kt",
   "mimetype": "text/x-kotlin",
   "name": "kotlin",
   "nbconvert_exporter": "",
   "pygments_lexer": "kotlin",
   "version": "1.6.20-dev-6372"
  }
 },
 "nbformat": 4,
 "nbformat_minor": 5
}
