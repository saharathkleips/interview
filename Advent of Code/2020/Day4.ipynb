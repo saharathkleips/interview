{
 "cells": [
  {
   "cell_type": "markdown",
   "source": [
    "# Advent of Code 2020 - Day 4"
   ],
   "metadata": {}
  },
  {
   "cell_type": "code",
   "execution_count": 179,
   "source": [
    "import kotlin.properties.ReadOnlyProperty\r\n",
    "import kotlin.reflect.KProperty\r\n",
    "\r\n",
    "class Passport(\r\n",
    "    private val map: Map<String, Any?>\r\n",
    ") {\r\n",
    "    val birthYear: String by key(\"byr\")\r\n",
    "    val issueYear: String by key(\"iyr\")\r\n",
    "    val expirationYear: String by key(\"eyr\")\r\n",
    "    val height: String by key(\"hgt\")\r\n",
    "    val hairColor: String by key(\"hcl\")\r\n",
    "    val eyeColor: String by key(\"ecl\")\r\n",
    "    val passportId: String by key(\"pid\")\r\n",
    "    val countryId: String? by key(\"cid\")\r\n",
    "\r\n",
    "    private fun <T, V> T.key(key: String): ReadOnlyProperty<T, V> =\r\n",
    "        object : ReadOnlyProperty<T, V> {\r\n",
    "            override fun getValue(thisRef: T, property: KProperty<*>): V = map[key] as V\r\n",
    "        }\r\n",
    "}\r\n",
    "\r\n"
   ],
   "outputs": [],
   "metadata": {}
  },
  {
   "cell_type": "code",
   "execution_count": 180,
   "source": [
    "import java.io.File\r\n",
    "import java.util.Scanner\r\n",
    "\r\n",
    "val regex = Regex(\"(\\\\S+):(\\\\S+)\")\r\n",
    "\r\n",
    "val passports: List<Passport> = Scanner(File(\"Day4.input.txt\"))\r\n",
    "    .apply { useDelimiter(\"${System.lineSeparator()}${System.lineSeparator()}\") }\r\n",
    "    .use { scanner ->\r\n",
    "        generateSequence { if(scanner.hasNext()) scanner.next() else null }\r\n",
    "            .map { \r\n",
    "                regex.findAll(it)\r\n",
    "                    .associate { it.groupValues[1] to it.groupValues[2] }\r\n",
    "                    .let(::Passport)\r\n",
    "             }\r\n",
    "             .toList()\r\n",
    "    }"
   ],
   "outputs": [],
   "metadata": {}
  },
  {
   "cell_type": "markdown",
   "source": [
    "### Notes\r\n",
    "\r\n",
    "Line separators are OS specific. Turns out that on Windows the separator is `\\r\\n`. We should use `System.lineSeparator()` to avoid any system-specific issues.\r\n",
    "\r\n",
    "`BufferedReader` can't really target a character easily, so we should use `Scanner` as it accepts a delimiter. We can use `generateSequence` to make the `Scanner` API more functional."
   ],
   "metadata": {}
  },
  {
   "cell_type": "markdown",
   "source": [
    "## Part 1\r\n",
    "\r\n",
    "Count the number of valid passports. A passport is valid when all of the required fields are populated (everything except for `countryId`, which is optional.) "
   ],
   "metadata": {}
  },
  {
   "cell_type": "code",
   "execution_count": 181,
   "source": [
    "fun Passport.validate(): Result<Passport> = runCatching {\r\n",
    "    checkNotNull(birthYear)\r\n",
    "    checkNotNull(issueYear)\r\n",
    "    checkNotNull(expirationYear)\r\n",
    "    checkNotNull(height)\r\n",
    "    checkNotNull(hairColor)\r\n",
    "    checkNotNull(eyeColor)\r\n",
    "    checkNotNull(passportId)\r\n",
    "    this\r\n",
    "}\r\n",
    "\r\n",
    "passports.count { it.validate().isSuccess }"
   ],
   "outputs": [
    {
     "output_type": "execute_result",
     "data": {
      "text/plain": [
       "213"
      ]
     },
     "metadata": {},
     "execution_count": 181
    }
   ],
   "metadata": {}
  },
  {
   "cell_type": "markdown",
   "source": [
    "### Notes\r\n",
    "\r\n",
    "This problem is pretty straightforward and most of the work is done during parsing - but there are so many ways to design this solution. I would probably validate the `Passport` within an `init` block in production, but for this problem I wanted to separate the \"data processing\" part with the \"challenge\" part. We could also consider a more traditional \"mapper\" (e.g. `this.x = that.y`) and validate during this process.\r\n",
    "\r\n",
    "Using a delegate could potentially introduce an unexpected null-pointer exception if `validate` wasn't called (and why this function might not want to be separate from the class), but has the added benefit of being able to check for `undefined` vs `null` by inspecting the underlying `Map`."
   ],
   "metadata": {}
  },
  {
   "cell_type": "markdown",
   "source": [
    "## Part 2\r\n",
    "\r\n",
    "Perform data validation with the following rules:\r\n",
    "- Birth Year - four digits; at least 1920 and at most 2002.\r\n",
    "- Issue Year - four digits; at least 2010 and at most 2020.\r\n",
    "- Expiration Year - four digits; at least 2020 and at most 2030.\r\n",
    "- Height - a number followed by either cm or in:\r\n",
    "  - If cm, the number must be at least 150 and at most 193.\r\n",
    "  - If in, the number must be at least 59 and at most 76.\r\n",
    "- Hair Color - a # followed by exactly six characters 0-9 or a-f.\r\n",
    "- Eye Color - exactly one of: amb blu brn gry grn hzl oth.\r\n",
    "- Passport ID - a nine-digit number, including leading zeroes.\r\n",
    "- Country ID - ignored, missing or not.\r\n",
    "\r\n",
    "Count all the passports that are valid."
   ],
   "metadata": {}
  },
  {
   "cell_type": "code",
   "execution_count": 182,
   "source": [
    "fun Passport.validateBirthYear(range: IntRange = 1920..2002): Result<Passport> = runCatching {\r\n",
    "    checkNotNull(birthYear)\r\n",
    "    check(birthYear.toInt() in range)\r\n",
    "    this\r\n",
    "}\r\n",
    "\r\n",
    "fun Passport.validateIssueYear(range: IntRange = 2010..2020): Result<Passport> = runCatching {\r\n",
    "    checkNotNull(issueYear)\r\n",
    "    check(issueYear.toInt() in range)\r\n",
    "    this\r\n",
    "}\r\n",
    "\r\n",
    "fun Passport.validateExpirationYear(range: IntRange = 2020..2030): Result<Passport> = runCatching {\r\n",
    "    checkNotNull(expirationYear)\r\n",
    "    check(expirationYear.toInt() in range)\r\n",
    "    this\r\n",
    "}\r\n",
    "\r\n",
    "fun Passport.validateHeight(metricRange: IntRange = 150..193, imperialRange: IntRange = 59..76): Result<Passport> = runCatching {\r\n",
    "    checkNotNull(height)\r\n",
    "    check(\r\n",
    "        if (height.endsWith(\"cm\")) height.removeSuffix(\"cm\").toInt() in metricRange \r\n",
    "        else if (height.endsWith(\"in\")) height.removeSuffix(\"in\").toInt() in imperialRange\r\n",
    "        else false\r\n",
    "    )\r\n",
    "    this \r\n",
    "}\r\n",
    "\r\n",
    "fun Passport.validateHairColor(regex: Regex = Regex(\"#([0-9a-fA-F]{3}){2}\")): Result<Passport> = runCatching {\r\n",
    "    checkNotNull(hairColor)\r\n",
    "    check(regex matches hairColor)\r\n",
    "    this\r\n",
    "}\r\n",
    "\r\n",
    "fun Passport.validateEyeColor(regex: Regex = Regex(\"amb|blu|brn|gry|grn|hzl|oth\")): Result<Passport> = runCatching {\r\n",
    "    checkNotNull(eyeColor)\r\n",
    "    check(regex matches eyeColor)\r\n",
    "    this\r\n",
    "}\r\n",
    "\r\n",
    "fun Passport.validatePassportId(regex: Regex = Regex(\"\\\\d{9}\")): Result<Passport> = runCatching {\r\n",
    "    checkNotNull(passportId)\r\n",
    "    check(regex matches passportId)\r\n",
    "    this\r\n",
    "}\r\n",
    "\r\n",
    "fun Passport.validateCountryId(): Result<Passport> = Result.success(this)\r\n",
    "\r\n",
    "fun Passport.strictValidate(): Result<Passport> = runCatching {\r\n",
    "    check(validateBirthYear().isSuccess)\r\n",
    "    check(validateIssueYear().isSuccess)\r\n",
    "    check(validateExpirationYear().isSuccess)\r\n",
    "    check(validateHeight().isSuccess)\r\n",
    "    check(validateHairColor().isSuccess)\r\n",
    "    check(validateEyeColor().isSuccess)\r\n",
    "    check(validatePassportId().isSuccess)\r\n",
    "    check(validateCountryId().isSuccess)\r\n",
    "    this\r\n",
    "}\r\n",
    "\r\n",
    "passports.count { it.strictValidate().isSuccess }"
   ],
   "outputs": [
    {
     "output_type": "execute_result",
     "data": {
      "text/plain": [
       "147"
      ]
     },
     "metadata": {},
     "execution_count": 182
    }
   ],
   "metadata": {}
  },
  {
   "cell_type": "markdown",
   "source": [
    "### Notes\r\n",
    "\r\n",
    "This one was just really tedious and seems to just test my ability to regex (which is poor) and again, should probably be performed a single time during object creation.\r\n",
    "\r\n",
    "Some things to consider is that certain fields could probably be an `inline class` for type-safety, like `hairColor` which could probably be something like `HexColor`. Something like `height` could be `sealed` so that it can denote whether it is metric or imperial. `eyeColor` could even be an `enum`, but using an enum comes with its own concerns.\r\n",
    "\r\n",
    "I suspect that all of these fields could be validated via regex and if I wanted to \"code golf\" more, I could perhaps define the relationships as a `Pair` of properties to their validator:"
   ],
   "metadata": {}
  },
  {
   "cell_type": "code",
   "execution_count": 183,
   "source": [
    "val validators = listOf(\r\n",
    "    Passport::hairColor to Regex(\"#([0-9a-fA-F]{3}){2}\"),\r\n",
    "    Passport::eyeColor to Regex(\"amb|blu|brn|gry|grn|hzl|oth\"),\r\n",
    "    Passport::passportId to Regex(\"\\\\d{9}\"),\r\n",
    ")\r\n",
    "\r\n",
    "passports.count { passport ->\r\n",
    "    validators.all { it.first(passport) != null && it.second matches it.first(passport) }\r\n",
    "}"
   ],
   "outputs": [
    {
     "output_type": "execute_result",
     "data": {
      "text/plain": [
       "177"
      ]
     },
     "metadata": {},
     "execution_count": 183
    }
   ],
   "metadata": {}
  }
 ],
 "metadata": {
  "kernelspec": {
   "display_name": "Kotlin",
   "language": "kotlin",
   "name": "python374jvsc74a57bd01005f71a2f2c9f7da6acb75e9bc0247674183f6cab85bd2a339bd069fc0cd207"
  },
  "language_info": {
   "codemirror_mode": "text/x-kotlin",
   "file_extension": ".kt",
   "mimetype": "text/x-kotlin",
   "name": "kotlin",
   "nbconvert_exporter": "",
   "pygments_lexer": "kotlin",
   "version": "1.6.0-dev-3567"
  }
 },
 "nbformat": 4,
 "nbformat_minor": 5
}