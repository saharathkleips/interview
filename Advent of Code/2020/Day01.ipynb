{
 "cells": [
  {
   "cell_type": "markdown",
   "source": [
    "# Advent of Code 2020 - Day 1"
   ],
   "metadata": {}
  },
  {
   "cell_type": "code",
   "execution_count": 16,
   "source": [
    "val input = listOf(\r\n",
    "    1688,1463,1461,1842,1441,1838,1583,1891,1876,1551,\r\n",
    "    1506,2005,1989,1417,1784,1975,1428,1485,1597,1871,\r\n",
    "    105,788,1971,1892,1854,1466,1584,1565,1400,1640,\r\n",
    "    1780,1774,360,1421,1368,1771,1666,1707,1627,1449,\r\n",
    "    1677,1504,1721,1994,1959,1862,1768,1986,1904,1382,\r\n",
    "    1969,1852,1917,1966,1742,1371,1405,1995,1906,1694,\r\n",
    "    1735,1422,1719,1978,1641,1761,1567,1974,1495,1973,\r\n",
    "    1958,1599,1770,1600,1465,1865,1479,1687,1390,1802,\r\n",
    "    2008,645,1435,1589,1949,1909,1526,1667,1831,1864,\r\n",
    "    1713,1718,1232,1868,1884,1825,1999,1590,1759,1391,\r\n",
    "    1757,323,1612,1637,1727,1783,1643,1442,1452,675,\r\n",
    "    1812,1604,1518,1894,1933,1801,1914,912,1576,1961,\r\n",
    "    1970,1446,1985,1988,1563,1826,1409,1503,1539,1832,\r\n",
    "    1698,1990,1689,1532,765,1546,1384,1519,1615,1556,\r\n",
    "    1754,1983,1394,1763,1823,1788,1407,1946,1751,1837,\r\n",
    "    1680,1929,1814,1948,1919,1953,55,1731,1516,1895,\r\n",
    "    1795,1890,1881,1799,1536,1396,1942,1798,1767,1745,\r\n",
    "    1883,2004,1550,1916,1650,1749,1991,1789,1740,1490,\r\n",
    "    1873,1003,1699,1669,1781,2000,1728,1877,1733,1588,\r\n",
    "    1168,1828,1848,1963,1928,1920,1493,1968,1564,1572,\r\n",
    ")"
   ],
   "outputs": [],
   "metadata": {}
  },
  {
   "cell_type": "markdown",
   "source": [
    "## Part 1\r\n",
    "\r\n",
    "Find two entries that sum to 2020 and multiply those two numbers together."
   ],
   "metadata": {}
  },
  {
   "cell_type": "code",
   "execution_count": 17,
   "source": [
    "input\r\n",
    "    .associateBy { 2020 - it }\r\n",
    "    .let { associations ->\r\n",
    "        input\r\n",
    "            .mapNotNull { if (associations[it] != null) associations[it]!! to it else null }\r\n",
    "            .first()\r\n",
    "            .let { it.first * it.second }\r\n",
    "    }"
   ],
   "outputs": [
    {
     "output_type": "execute_result",
     "data": {
      "text/plain": [
       "970816"
      ]
     },
     "metadata": {},
     "execution_count": 17
    }
   ],
   "metadata": {}
  },
  {
   "cell_type": "markdown",
   "source": [
    "### Notes\r\n",
    "\r\n",
    "Pretty straight forward, question is `x + y = 2020`. So we can build a map of all inputs and their numbers that add up to 2020 (`y = 2020 - x`). Once we have the associations (`{ y: x, y1: x1, ... }`) we can iterate through the inputs and see if any of the inputs exist in the associations. If it does, this means we have two numbers within the input that add up to 2020. We can just multiply these two numbers together.\r\n",
    "\r\n",
    "Small optimization can be made to return early if desired.\r\n",
    "\r\n",
    "Time complexity would be an iteration of `associateBy` at `O(n)`, followed by an iteration of `mapNotNull` at `O(n)` for total time complexity `O(n)` or linear-time."
   ],
   "metadata": {}
  },
  {
   "cell_type": "markdown",
   "source": [
    "## Part 2\r\n",
    "\r\n",
    "Find three entries that sum to 2020 and multiply those three numbers together."
   ],
   "metadata": {}
  },
  {
   "cell_type": "code",
   "execution_count": 23,
   "source": [
    "fun List<Int>.findPairOfSum(sum: Int): Pair<Int, Int>? {\r\n",
    "    val associations = associateBy { sum - it }\r\n",
    "    return firstNotNullOfOrNull { if (associations[it] != null) associations[it]!! to it else null }\r\n",
    "}\r\n",
    "\r\n",
    "input.associateWith { input.findPairOfSum(2020 - it) }\r\n",
    "    .filter { it.value != null }\r\n",
    "    .firstNotNullOf { it.key to it.value!!.first to it.value!!.second }\r\n",
    "    .let { it.first.first * it.first.second * it.second }"
   ],
   "outputs": [
    {
     "output_type": "execute_result",
     "data": {
      "text/plain": [
       "96047280"
      ]
     },
     "metadata": {},
     "execution_count": 23
    }
   ],
   "metadata": {}
  },
  {
   "cell_type": "markdown",
   "source": [
    "### Notes\r\n",
    "\r\n",
    "Question was a bit tricky even though it just added an extra dimension to the problem: `x + y + z = 2020`. It wasn't until I made the connection that if you make the problem `y + z = 2020 - x` then the problem just becomes part one, except that the right-hand side is variable. e.g. `y + z = a` where `a` is `2020` in the first problem.\r\n",
    "\r\n",
    "So, we need to find two values (`y`, `z`) that add up to `2020 - x`. The helper function `findPairOfSum` is just a generalized solution to part 1 (we can actually use it to solve part 1 by passing `sum = 2020`). So using the generalized solution, we can build a map (`{ x: (y,z), x1: (y1, z1), ... }`) and filter out any associations that do not have pairs. Any that remain are solutions to the problem.\r\n",
    "\r\n",
    "Time complexity of `findPairOfSum` is `O(n)` so an iteration of `associateWith` would be `O(n^2)`. `filter` and `firstNotNullOf` are both `O(n)` for a total time complexity of `O(n^2)`."
   ],
   "metadata": {}
  }
 ],
 "metadata": {
  "kernelspec": {
   "display_name": "Kotlin",
   "language": "kotlin",
   "name": "python374jvsc74a57bd01005f71a2f2c9f7da6acb75e9bc0247674183f6cab85bd2a339bd069fc0cd207"
  },
  "language_info": {
   "codemirror_mode": "text/x-kotlin",
   "file_extension": ".kt",
   "mimetype": "text/x-kotlin",
   "name": "kotlin",
   "nbconvert_exporter": "",
   "pygments_lexer": "kotlin",
   "version": "1.6.0-dev-3567"
  }
 },
 "nbformat": 4,
 "nbformat_minor": 5
}