{
 "cells": [
  {
   "cell_type": "markdown",
   "source": [
    "# Advent of Code 2020 - Day 7"
   ],
   "metadata": {}
  },
  {
   "cell_type": "code",
   "execution_count": 101,
   "source": [
    "@JvmInline\r\n",
    "value class Bag(val name: String)\r\n",
    "data class Node(val bag: Bag, val edges: MutableList<Edge> = mutableListOf())\r\n",
    "data class Edge(val amount: Int, val node: Node)\r\n",
    "\r\n",
    "class Graph {\r\n",
    "    private val _nodes: MutableMap<Bag, Node> = mutableMapOf()\r\n",
    "    val nodes: Map<Bag, Node> = _nodes\r\n",
    "\r\n",
    "    fun put(bag: Bag, contains: List<Pair<Int, Bag>>): Node = \r\n",
    "        _nodes\r\n",
    "            .getOrPut(bag) { Node(bag = bag) }\r\n",
    "            .also {\r\n",
    "                it.edges.addAll(\r\n",
    "                    contains.map { \r\n",
    "                        Edge(\r\n",
    "                            amount = it.first,\r\n",
    "                            node = _nodes.getOrPut(it.second) { Node(it.second) }\r\n",
    "                        )\r\n",
    "                    }\r\n",
    "                )\r\n",
    "            }\r\n",
    "}"
   ],
   "outputs": [],
   "metadata": {}
  },
  {
   "cell_type": "code",
   "execution_count": 102,
   "source": [
    "import java.io.File\r\n",
    "\r\n",
    "val graph = Graph()\r\n",
    "\r\n",
    "val rules = File(\"Day7.input.txt\")\r\n",
    "    .bufferedReader()\r\n",
    "    .readLines()\r\n",
    "    .map { line -> Regex(\"\"\"(^\\w+ \\w+|\\d \\w+ \\w+)\"\"\").findAll(line).flatMap { it.destructured.toList() }.toList() }\r\n",
    "    .map { rules: List<String> ->\r\n",
    "        graph.put(\r\n",
    "            bag = Bag(rules[0]),\r\n",
    "            contains = rules.drop(1).map {\r\n",
    "                val (amount, bag) = Regex(\"\"\"(\\d+) (\\w+ \\w+)\"\"\").find(it)!!.destructured\r\n",
    "                amount.toInt() to Bag(bag)\r\n",
    "            }\r\n",
    "        )\r\n",
    "    }"
   ],
   "outputs": [],
   "metadata": {}
  },
  {
   "cell_type": "markdown",
   "source": [
    "### Notes\r\n",
    "\r\n",
    "The regex here is kind of clever, once you realize that the input format is either two words, or a digit and two words, parsing doesn't become too difficult. The input data is pretty gross though.\r\n",
    "\r\n",
    "Recognized that the relationships were a graph, but not super happy with the graph API. It works, so rather than fiddling with it too much it'll just stay like this for now."
   ],
   "metadata": {}
  },
  {
   "cell_type": "markdown",
   "source": [
    "## Part 1\r\n",
    "\r\n",
    "How many bags will _eventually_ contain a `shiny gold` bag?"
   ],
   "metadata": {}
  },
  {
   "cell_type": "code",
   "execution_count": 103,
   "source": [
    "fun Node.contains(target: Bag): Boolean = bag == target || edges.any { it.node.contains(target) }\r\n",
    "\r\n",
    "Bag(\"shiny gold\").let { target: Bag ->\r\n",
    "    graph.nodes.values\r\n",
    "        .filter { it.bag != target }\r\n",
    "        .count { it.contains(target) }\r\n",
    "}"
   ],
   "outputs": [
    {
     "output_type": "execute_result",
     "data": {
      "text/plain": [
       "205"
      ]
     },
     "metadata": {},
     "execution_count": 103
    }
   ],
   "metadata": {}
  },
  {
   "cell_type": "markdown",
   "source": [
    "### Notes\r\n",
    "\r\n",
    "This could be solved pretty straightforwardly with either a BFS or a DFS. In my case, I implemented it as a DFS since I felt like `any` made logical sense with `contains`. The hardest part here was probably building the graph."
   ],
   "metadata": {}
  },
  {
   "cell_type": "markdown",
   "source": [
    "## Part 2\r\n",
    "\r\n",
    "How many bags are required inside of a `shiny gold` bag?"
   ],
   "metadata": {}
  },
  {
   "cell_type": "code",
   "execution_count": 104,
   "source": [
    "fun Node.countBags(): Int = edges.sumOf { it.amount + it.amount * it.node.countBags() }\r\n",
    "\r\n",
    "graph.nodes[Bag(\"shiny gold\")]?.countBags()"
   ],
   "outputs": [
    {
     "output_type": "execute_result",
     "data": {
      "text/plain": [
       "80902"
      ]
     },
     "metadata": {},
     "execution_count": 104
    }
   ],
   "metadata": {}
  },
  {
   "cell_type": "markdown",
   "source": [
    "### Notes\r\n",
    "\r\n",
    "Another situation of if the graph is setup properly, then everything else is easy. Just needed to traverse all the nodes and sum/multiply them up. This could probably be improved by making it `tailrec`."
   ],
   "metadata": {}
  }
 ],
 "metadata": {
  "kernelspec": {
   "display_name": "Kotlin",
   "language": "kotlin",
   "name": "python374jvsc74a57bd01005f71a2f2c9f7da6acb75e9bc0247674183f6cab85bd2a339bd069fc0cd207"
  },
  "language_info": {
   "codemirror_mode": "text/x-kotlin",
   "file_extension": ".kt",
   "mimetype": "text/x-kotlin",
   "name": "kotlin",
   "nbconvert_exporter": "",
   "pygments_lexer": "kotlin",
   "version": "1.6.0-dev-3567"
  }
 },
 "nbformat": 4,
 "nbformat_minor": 5
}