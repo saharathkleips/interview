{
 "cells": [
  {
   "cell_type": "markdown",
   "source": [
    "# Advent of Code 2020 - Day 10"
   ],
   "metadata": {}
  },
  {
   "cell_type": "code",
   "execution_count": 33,
   "source": [
    "import java.io.File\r\n",
    "\r\n",
    "val adapters: List<Int> = File(\"Day10.input.txt\")\r\n",
    "    .bufferedReader()\r\n",
    "    .readLines()\r\n",
    "    .map(String::toInt)"
   ],
   "outputs": [],
   "metadata": {}
  },
  {
   "cell_type": "markdown",
   "source": [
    "## Part 1\r\n",
    "\r\n",
    "Find a chain that uses all of the `adapters` to connect the outlet and the device. Each adapter is listed with rating and connect to a source 1-3 jolts lower than the rating. The device is always 3 higher than the highest adapter. What is the number of 1-jolt differences multiplied by the number of 3-jolt differences?"
   ],
   "metadata": {}
  },
  {
   "cell_type": "code",
   "execution_count": 34,
   "source": [
    "(adapters + 0 + (adapters.maxOrNull()!! + 3))\r\n",
    "    .sorted()\r\n",
    "    .windowed(size = 2)\r\n",
    "    .groupingBy { (lhs, rhs) -> rhs - lhs }\r\n",
    "    .eachCount()\r\n",
    "    .let { it[1]!! * it[3]!! }"
   ],
   "outputs": [
    {
     "output_type": "execute_result",
     "data": {
      "text/plain": [
       "1890"
      ]
     },
     "metadata": {},
     "execution_count": 34
    }
   ],
   "metadata": {}
  },
  {
   "cell_type": "markdown",
   "source": [
    "### Notes\r\n",
    "\r\n",
    "This one was really straightforward thanks to some handy Kotlin functions. The input guarantees to us that all adapters need to connect, so we can just sort the list. Next we just have to count the differences between each adapter, which we can achieve by windowing each adapter and then counting the 3 and 1 differences."
   ],
   "metadata": {}
  },
  {
   "cell_type": "markdown",
   "source": [
    "## Part 2\r\n",
    "\r\n",
    "With the previous rules from part 1 still applying, find every arrangement of adapters that connect the outlet to the device. Count the total number of distinct ways to configure the outlets."
   ],
   "metadata": {}
  },
  {
   "cell_type": "code",
   "execution_count": 35,
   "source": [
    "@JvmInline\r\n",
    "value class Adapter(val range: IntRange)\r\n",
    "\r\n",
    "fun Adapter.overlaps(other: Adapter): Boolean = \r\n",
    "    (range.start <= other.range.start &&\r\n",
    "    range.start <= other.range.endInclusive && \r\n",
    "    range.endInclusive >= other.range.start)\r\n",
    "\r\n",
    "fun Adapter.connections(adapters: List<Adapter>): List<Adapter> = adapters.filter { overlaps(it) }\r\n",
    "\r\n",
    "fun countConfigs(from: Adapter, to: List<Adapter>): Long {\r\n",
    "    val connections = from.connections(to)\r\n",
    "    if (connections.size == 0) return 1L\r\n",
    "\r\n",
    "    return connections.sumOf { adapter -> memoized(adapter, to - adapter) }\r\n",
    "}\r\n",
    "\r\n",
    "val memos: MutableMap<Adapter, Long> = mutableMapOf()\r\n",
    "\r\n",
    "fun ((Adapter, List<Adapter>) -> Long).memoize(): ((Adapter, List<Adapter>) -> Long) = \r\n",
    "    { adapter, adapters -> memos.getOrPut(adapter) { this(adapter, adapters) } }\r\n",
    "\r\n",
    "val memoized = ::countConfigs.memoize()\r\n",
    "\r\n",
    "(adapters + (adapters.maxOrNull()!! + 3))\r\n",
    "    .map { Adapter((it-3)..it) }\r\n",
    "    .sortedBy { it.range.endInclusive }\r\n",
    "    .let {\r\n",
    "        memoized(Adapter(-3..0), it)\r\n",
    "    }"
   ],
   "outputs": [
    {
     "output_type": "execute_result",
     "data": {
      "text/plain": [
       "49607173328384"
      ]
     },
     "metadata": {},
     "execution_count": 35
    }
   ],
   "metadata": {}
  },
  {
   "cell_type": "markdown",
   "source": [
    "### Notes\r\n",
    "\r\n",
    "This idea can be modeled as a depth-first search. At each adapter find the list of valid connections and then find all of their valid connections and then count the routes that lead to the end. Basically every valid connection is a \"branch\" and only the ones that connect to the end are counted. However, the input is really large, so calculating each route will take a really long time. We can \"memoize\" the call by storing the result of each adapter that was visited. If a subsequent visit to that adapter occurs, rather than calculating the configurations again, we can just return what was calculated previously. We know the configuration is unique because the adapter was not previously stored."
   ],
   "metadata": {}
  }
 ],
 "metadata": {
  "kernelspec": {
   "display_name": "Kotlin",
   "language": "kotlin",
   "name": "python374jvsc74a57bd01005f71a2f2c9f7da6acb75e9bc0247674183f6cab85bd2a339bd069fc0cd207"
  },
  "language_info": {
   "codemirror_mode": "text/x-kotlin",
   "file_extension": ".kt",
   "mimetype": "text/x-kotlin",
   "name": "kotlin",
   "nbconvert_exporter": "",
   "pygments_lexer": "kotlin",
   "version": "1.6.0-dev-3567"
  }
 },
 "nbformat": 4,
 "nbformat_minor": 5
}