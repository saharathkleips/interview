{
 "cells": [
  {
   "cell_type": "markdown",
   "source": [
    "# Advent of Code 2020 - Day 8"
   ],
   "metadata": {}
  },
  {
   "cell_type": "code",
   "execution_count": 82,
   "source": [
    "enum class Operation(val id: String) {\r\n",
    "    ACCUMULATOR(\"acc\"),\r\n",
    "    JUMP(\"jmp\"),\r\n",
    "    NO_OPERATION(\"nop\"),\r\n",
    "    ;\r\n",
    "\r\n",
    "    companion object {\r\n",
    "        private val idMap: Map<String, Operation> = Operation.values().associateBy(Operation::id)\r\n",
    "        fun fromId(id: String): Operation = idMap.getValue(id)\r\n",
    "    }\r\n",
    "}\r\n",
    "\r\n",
    "data class Instruction(val operation: Operation, val argument: Int)"
   ],
   "outputs": [],
   "metadata": {}
  },
  {
   "cell_type": "code",
   "execution_count": 83,
   "source": [
    "import java.io.File\r\n",
    "\r\n",
    "val instructions: List<Instruction> = File(\"Day8.input.txt\")\r\n",
    "    .bufferedReader()\r\n",
    "    .readLines()\r\n",
    "    .map { line -> line.split(\" \") }\r\n",
    "    .map { (op, arg) -> Instruction(operation = Operation.fromId(op), argument = arg.toInt()) }"
   ],
   "outputs": [],
   "metadata": {}
  },
  {
   "cell_type": "markdown",
   "source": [
    "## Part 1\r\n",
    "\r\n",
    "Execute the `instructions` with the following `operation` rules:\r\n",
    "- `ACCUMULATOR` increases or decreases a global accumulator value by the given `argument`. The instruction immediately after it is then executed.\r\n",
    "- `JUMP` will \"jump\" to a new instruction relative to its current position where the `argument` is an offset.\r\n",
    "- `NO_OPERATION` does nothing and the instruction immediately after it is run.\r\n",
    "\r\n",
    "Find the value in the accumulator before a second instruction is executed a second time."
   ],
   "metadata": {}
  },
  {
   "cell_type": "code",
   "execution_count": 84,
   "source": [
    "fun Int.execute(instruction: Instruction, accumulator: Int): Pair<Int, Int> =\r\n",
    "    when (instruction.operation) {\r\n",
    "        Operation.ACCUMULATOR -> (this + 1) to (accumulator + instruction.argument)\r\n",
    "        Operation.JUMP -> (this + instruction.argument) to accumulator\r\n",
    "        Operation.NO_OPERATION -> (this + 1) to accumulator\r\n",
    "    }\r\n",
    "\r\n",
    "fun List<Instruction>.execute(): Int {\r\n",
    "    var index = 0\r\n",
    "    var accumulator = 0\r\n",
    "    val instructionsExecuted: MutableMap<Int, Instruction> = mutableMapOf()\r\n",
    "\r\n",
    "    while(!instructionsExecuted.containsKey(index)) {\r\n",
    "        instructionsExecuted[index] = instructions[index]\r\n",
    "        index.execute(instructions[index], accumulator).let {\r\n",
    "            index = it.first\r\n",
    "            accumulator = it.second\r\n",
    "        }\r\n",
    "    }\r\n",
    "\r\n",
    "    return accumulator\r\n",
    "}\r\n",
    "\r\n",
    "instructions.execute()"
   ],
   "outputs": [
    {
     "output_type": "execute_result",
     "data": {
      "text/plain": [
       "1766"
      ]
     },
     "metadata": {},
     "execution_count": 84
    }
   ],
   "metadata": {}
  },
  {
   "cell_type": "markdown",
   "source": [
    "### Notes\r\n",
    "\r\n",
    "Another follow the steps problem. I think writing this part as perhaps a `tailrec fun` could have been interesting. I don't really like that `Int::execute` returns a `Pair<Int, Int>` and I think the code for `List<Instructions>::execute` could be a bit better as well."
   ],
   "metadata": {}
  },
  {
   "cell_type": "markdown",
   "source": [
    "## Part 2\r\n",
    "\r\n",
    "Fix the program so that it terminates without an infinite loop by changing exactly one `JUMP` to `NO_OPERATION` or vice versa. Find the value in the accumulator after it terminates."
   ],
   "metadata": {}
  },
  {
   "cell_type": "code",
   "execution_count": 85,
   "source": [
    "data class Console(\r\n",
    "    val index: Int = 0,\r\n",
    "    val accumulator: Int = 0,\r\n",
    "    val executed: Map<Int, Instruction> = mapOf(),\r\n",
    ")\r\n",
    "\r\n",
    "fun Console.execute(instruction: Instruction): Console? =\r\n",
    "    if (executed.containsKey(index)) null\r\n",
    "    else index.execute(instruction, accumulator).let { (newIndex, newAccumulator) ->\r\n",
    "        Console(index = newIndex, accumulator = newAccumulator, executed = executed + (index to instruction))\r\n",
    "    }\r\n",
    "\r\n",
    "tailrec fun List<Instruction>.exec(console: Console = Console()): Console =\r\n",
    "    console.execute(this[console.index])\r\n",
    "        .let { if (it != null) exec(it) else console }\r\n",
    "\r\n",
    "println(\"Bonus Part 1 - ${instructions.exec().accumulator}\")\r\n",
    "\r\n",
    "tailrec fun List<Instruction>.execOrNull(console: Console = Console()): Console? =\r\n",
    "    if (console.index < size) console.execute(this[console.index]) .let { if (it != null) execOrNull(it) else it }\r\n",
    "    else console\r\n",
    "\r\n",
    "fun fix(instruction: Instruction): Instruction =\r\n",
    "    when (instruction.operation) {\r\n",
    "        Operation.JUMP -> instruction.copy(operation = Operation.NO_OPERATION)\r\n",
    "        Operation.NO_OPERATION -> instruction.copy(operation = Operation.JUMP)\r\n",
    "        else -> instruction\r\n",
    "    }\r\n",
    "\r\n",
    "fun List<Instruction>.terminate(): Console? {\r\n",
    "    instructions.forEachIndexed { index, _ ->\r\n",
    "            instructions.toMutableList().apply { this[index] = fix(this[index]) }\r\n",
    "                .execOrNull()\r\n",
    "                .let { if (it != null) return it }\r\n",
    "    }\r\n",
    "    return null\r\n",
    "}\r\n",
    "\r\n",
    "instructions.terminate()?.accumulator"
   ],
   "outputs": [
    {
     "output_type": "stream",
     "name": "stdout",
     "text": [
      "Bonus Part 1 - 1766\n"
     ]
    },
    {
     "output_type": "execute_result",
     "data": {
      "text/plain": [
       "1639"
      ]
     },
     "metadata": {},
     "execution_count": 85
    }
   ],
   "metadata": {}
  },
  {
   "cell_type": "markdown",
   "source": [
    "### Notes\r\n",
    "\r\n",
    "Ended up with a better implementation for part one I think. Spent a bit of time wondering why I had an `IndexOutOfBoundsException` and then realized that my `execOrNull` function hand't accounted for the scenario where it actually worked, since previously the problem statement relied on the fact it would never finish. Should definitely keep this in mind.\r\n",
    "\r\n",
    "I'm also not quite happy with the implementation for `List<Instruction>::terminate`. Couldn't find a nice way to `firstNotNull` with index and a way to easily replace an element in a `List`. Both should probably be a generic utility extension?\r\n",
    "\r\n",
    "The idea here is to break down the problem by just working against a single \"state\" of the `Console`. "
   ],
   "metadata": {}
  }
 ],
 "metadata": {
  "kernelspec": {
   "display_name": "Kotlin",
   "language": "kotlin",
   "name": "python374jvsc74a57bd01005f71a2f2c9f7da6acb75e9bc0247674183f6cab85bd2a339bd069fc0cd207"
  },
  "language_info": {
   "codemirror_mode": "text/x-kotlin",
   "file_extension": ".kt",
   "mimetype": "text/x-kotlin",
   "name": "kotlin",
   "nbconvert_exporter": "",
   "pygments_lexer": "kotlin",
   "version": "1.6.0-dev-3567"
  }
 },
 "nbformat": 4,
 "nbformat_minor": 5
}