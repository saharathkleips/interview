{
 "cells": [
  {
   "cell_type": "markdown",
   "source": [
    "# Advent of Code 2020 - Day 6"
   ],
   "metadata": {}
  },
  {
   "cell_type": "code",
   "execution_count": 52,
   "source": [
    "data class CustomsForm(val declarations: Set<Char>)\r\n",
    "\r\n",
    "typealias Group = List<CustomsForm>"
   ],
   "outputs": [],
   "metadata": {}
  },
  {
   "cell_type": "code",
   "execution_count": 53,
   "source": [
    "import java.io.File\r\n",
    "import java.util.Scanner\r\n",
    "\r\n",
    "val groups: List<Group> = Scanner(File(\"Day6.input.txt\"))\r\n",
    "    .apply { useDelimiter(\"${System.lineSeparator()}${System.lineSeparator()}\") }\r\n",
    "    .use { scanner ->\r\n",
    "        generateSequence { if(scanner.hasNext()) scanner.next() else null }\r\n",
    "            .map(CharSequence::lines)\r\n",
    "            .map { it.map { it.toSet() }.map(::CustomsForm) }\r\n",
    "            .toList()\r\n",
    "    }"
   ],
   "outputs": [],
   "metadata": {}
  },
  {
   "cell_type": "markdown",
   "source": [
    "## Part 1\r\n",
    "\r\n",
    "Each `CustomsForm` holds a set of their `declarations`. Find out how many different `declarations` each `Group` has. Sum up all of the groups' for the answer."
   ],
   "metadata": {}
  },
  {
   "cell_type": "code",
   "execution_count": 54,
   "source": [
    "fun Group.uniqueDeclarations(): Set<Char> = fold(setOf<Char>()) { acc, it -> acc + it.declarations }\r\n",
    "\r\n",
    "groups\r\n",
    "    .map { it.uniqueDeclarations() }\r\n",
    "    .sumOf { it.size }"
   ],
   "outputs": [
    {
     "output_type": "execute_result",
     "data": {
      "text/plain": [
       "6809"
      ]
     },
     "metadata": {},
     "execution_count": 54
    }
   ],
   "metadata": {}
  },
  {
   "cell_type": "markdown",
   "source": [
    "### Notes\r\n",
    "\r\n",
    "The problem boils down to figuring out the unique items over a bunch of collections. We can just put every item in every collection into a `Set` to get what is unique across all of them."
   ],
   "metadata": {}
  },
  {
   "cell_type": "markdown",
   "source": [
    "## Part 2\r\n",
    "\r\n",
    "Find the `declarations` contained in every `Group`'s `CustomsForm`."
   ],
   "metadata": {}
  },
  {
   "cell_type": "code",
   "execution_count": 55,
   "source": [
    "fun Group.intersectDeclarations(): Set<Char> = drop(1).fold(get(0).declarations) { acc, it -> acc.intersect(it.declarations) }\r\n",
    "\r\n",
    "groups\r\n",
    "    .map { it.intersectDeclarations() }\r\n",
    "    .sumBy { it.size }"
   ],
   "outputs": [
    {
     "output_type": "execute_result",
     "data": {
      "text/plain": [
       "3394"
      ]
     },
     "metadata": {},
     "execution_count": 55
    }
   ],
   "metadata": {}
  },
  {
   "cell_type": "markdown",
   "source": [
    "### Notes\r\n",
    "\r\n",
    "This one was just relied on knowing how to intersect sets.\r\n",
    "\r\n",
    "Also, there's not really a nice way to `fold` but start at index one... I guess an option could be to fold with an initial value of all the characters."
   ],
   "metadata": {}
  }
 ],
 "metadata": {
  "kernelspec": {
   "display_name": "Kotlin",
   "language": "kotlin",
   "name": "python374jvsc74a57bd01005f71a2f2c9f7da6acb75e9bc0247674183f6cab85bd2a339bd069fc0cd207"
  },
  "language_info": {
   "codemirror_mode": "text/x-kotlin",
   "file_extension": ".kt",
   "mimetype": "text/x-kotlin",
   "name": "kotlin",
   "nbconvert_exporter": "",
   "pygments_lexer": "kotlin",
   "version": "1.6.0-dev-3567"
  }
 },
 "nbformat": 4,
 "nbformat_minor": 5
}