{
 "cells": [
  {
   "cell_type": "markdown",
   "source": [
    "# Advent of Code 2020 - Day 2"
   ],
   "metadata": {}
  },
  {
   "cell_type": "code",
   "execution_count": 7,
   "source": [
    "data class Input(val password: String, val policy: Policy)\r\n",
    "\r\n",
    "data class Policy(val range: IntRange, val string: String)"
   ],
   "outputs": [],
   "metadata": {}
  },
  {
   "cell_type": "code",
   "execution_count": 8,
   "source": [
    "import java.io.File\r\n",
    "val regex = Regex(\"\"\"(\\d*)-(\\d*) (\\w): (\\w*)\"\"\")\r\n",
    "\r\n",
    "val inputs: List<Input> = File(\"Day2.input.txt\")\r\n",
    "    .bufferedReader()\r\n",
    "    .readLines()\r\n",
    "    .map {\r\n",
    "        regex\r\n",
    "            .find(it)!!\r\n",
    "            .destructured\r\n",
    "            .let {(min, max, string, password) -> \r\n",
    "                Input(password = password, policy = Policy(range = min.toInt()..max.toInt(), string = string))\r\n",
    "            }\r\n",
    "    }"
   ],
   "outputs": [],
   "metadata": {}
  },
  {
   "cell_type": "markdown",
   "source": [
    "## Part 1\r\n",
    "\r\n",
    "Find out how many passwords are valid according to their polices. A policy defines a `range` number of times a `string` can occur within the password. i.e. `Policy(range = 1..4, string = \"a\")` means the `password` must contain `a` at least `1` time and at most `4` times."
   ],
   "metadata": {}
  },
  {
   "cell_type": "code",
   "execution_count": 9,
   "source": [
    "inputs\r\n",
    "    .count { input ->\r\n",
    "        input.password.windowed(size = input.policy.string.length, partialWindows = true)\r\n",
    "            .count { it == input.policy.string } in input.policy.range\r\n",
    "    }"
   ],
   "outputs": [
    {
     "output_type": "execute_result",
     "data": {
      "text/plain": [
       "414"
      ]
     },
     "metadata": {},
     "execution_count": 9
    }
   ],
   "metadata": {}
  },
  {
   "cell_type": "markdown",
   "source": [
    "### Notes\r\n",
    "\r\n",
    "The idea is to break each password into \"windows\" of the size of the respective policy `string` and then simply count the number of times each window matches the respective policy `string`. If the count is between the min and max, it is a valid password.\r\n",
    "\r\n",
    "Time complexity of `map` is `O(n)`, then the inner `windowed` and `fold` operations are `O(m)`, lastly the remaining `count` is `O(n)`. So the total time complexity is `O(n*m)`. This would be multi-linear, but I believe `m` is effectively a constant in this case, which would make it `O(n)` or linear-time.\r\n",
    "\r\n",
    "Post-completion note: The solution to this problem could be simplified but I tried to predict the layering question by supporting variable length policy `string`... But I will keep the original implementation because I think it's more interesting. See simplified solution below:"
   ],
   "metadata": {}
  },
  {
   "cell_type": "code",
   "execution_count": 10,
   "source": [
    "inputs.count { input -> input.password.count { it == input.policy.string[0] } in input.policy.range }"
   ],
   "outputs": [
    {
     "output_type": "execute_result",
     "data": {
      "text/plain": [
       "414"
      ]
     },
     "metadata": {},
     "execution_count": 10
    }
   ],
   "metadata": {}
  },
  {
   "cell_type": "markdown",
   "source": [
    "## Part 2\r\n",
    "\r\n",
    "Find out how many passwords are valid according to their policies. A policy defines a `range` which describes the position in the `password` that must contain the policy `string`. The password is valid when either LHS `range` or RHS `range` contains the policy `string`, but not both. i.e. `Policy(range = 1..4, string = \"a\")` means the `password` must contain `a` in either the zeroth or third index.\r\n",
    "\r\n",
    "Note: I would normally rename `range` to something more appropriate, but I am lazy, so I will reuse my `inputs`. I would also make `string` a `Char` since we ended up not needing a multi-length string."
   ],
   "metadata": {}
  },
  {
   "cell_type": "code",
   "execution_count": 11,
   "source": [
    "inputs.count { \r\n",
    "    (it.policy.range.first - 1 >= 0 && it.password[it.policy.range.first - 1] == it.policy.string[0]) xor \r\n",
    "        (it.policy.range.last - 1 >= 0 && it.password[it.policy.range.last - 1] == it.policy.string[0]) \r\n",
    "}"
   ],
   "outputs": [
    {
     "output_type": "execute_result",
     "data": {
      "text/plain": [
       "413"
      ]
     },
     "metadata": {},
     "execution_count": 11
    }
   ],
   "metadata": {}
  },
  {
   "cell_type": "markdown",
   "source": [
    "### Notes\r\n",
    "\r\n",
    "Problem is basically a \"how does your language write XOR\". In Kotlin Booleans have an infix operator `xor`."
   ],
   "metadata": {}
  }
 ],
 "metadata": {
  "kernelspec": {
   "display_name": "Kotlin",
   "language": "kotlin",
   "name": "python374jvsc74a57bd01005f71a2f2c9f7da6acb75e9bc0247674183f6cab85bd2a339bd069fc0cd207"
  },
  "language_info": {
   "codemirror_mode": "text/x-kotlin",
   "file_extension": ".kt",
   "mimetype": "text/x-kotlin",
   "name": "kotlin",
   "nbconvert_exporter": "",
   "pygments_lexer": "kotlin",
   "version": "1.6.0-dev-3567"
  }
 },
 "nbformat": 4,
 "nbformat_minor": 5
}