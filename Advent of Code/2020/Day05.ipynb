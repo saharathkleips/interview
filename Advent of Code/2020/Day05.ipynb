{
 "cells": [
  {
   "cell_type": "markdown",
   "source": [
    "# Advent of Code 2020 - Day 5"
   ],
   "metadata": {}
  },
  {
   "cell_type": "code",
   "execution_count": 188,
   "source": [
    "interface Partition {\r\n",
    "    val id: Char\r\n",
    "    val half: Half\r\n",
    "\r\n",
    "    enum class Half {\r\n",
    "        UPPER,\r\n",
    "        LOWER,\r\n",
    "    }\r\n",
    "}\r\n",
    "\r\n",
    "enum class RowPartition(override val id: Char, override val half: Partition.Half) : Partition {\r\n",
    "    FRONT('F', Partition.Half.UPPER),\r\n",
    "    BACK('B', Partition.Half.LOWER),\r\n",
    "    ;\r\n",
    "    companion object {\r\n",
    "        private val idMap: Map<Char, RowPartition> = RowPartition.values().associateBy(RowPartition::id)\r\n",
    "        fun fromChar(char: Char): RowPartition = idMap.getValue(char)\r\n",
    "    }\r\n",
    "}\r\n",
    "\r\n",
    "enum class ColumnPartition(override val id: Char, override val half: Partition.Half) : Partition {\r\n",
    "    LEFT('L', Partition.Half.UPPER),\r\n",
    "    RIGHT('R', Partition.Half.LOWER),\r\n",
    "    ;\r\n",
    "    companion object {\r\n",
    "        private val idMap: Map<Char, ColumnPartition> = ColumnPartition.values().associateBy(ColumnPartition::id)\r\n",
    "        fun fromChar(char: Char): ColumnPartition = idMap.getValue(char)\r\n",
    "    }\r\n",
    "}\r\n",
    "\r\n",
    "data class Seat(val rowPartitions: List<RowPartition>, val columnPartitions: List<ColumnPartition>)"
   ],
   "outputs": [],
   "metadata": {}
  },
  {
   "cell_type": "code",
   "execution_count": 189,
   "source": [
    "import java.io.File\r\n",
    "\r\n",
    "val seats: List<Seat> = File(\"Day5.input.txt\")\r\n",
    "    .bufferedReader()\r\n",
    "    .readLines()\r\n",
    "    .map { line -> line.slice(0..6) to line.slice(7..9) }\r\n",
    "    .map { (row, col) -> Seat(row.map(RowPartition::fromChar), col.map(ColumnPartition::fromChar)) }"
   ],
   "outputs": [],
   "metadata": {}
  },
  {
   "cell_type": "markdown",
   "source": [
    "## Part 1\r\n",
    "\r\n",
    "Use binary space partitioning to find each `Seat`'s unique ID. A `FRONT` partition means that the seat is in the `UPPER` half of the plane and `BACK` is in the `LOWER` half. Likewise, `LEFT` is in the `UPPER` half and `RIGHT` is in the `LOWER` half. Each `Partition` subsequently breaks up the plane into further halves until a single seat is left over.\r\n",
    "\r\n",
    "The plane has 128 rows and 8 columns. To find a `Seat`'s unique ID, multiply its row by 8 and add the value to its column."
   ],
   "metadata": {}
  },
  {
   "cell_type": "code",
   "execution_count": 190,
   "source": [
    "infix fun Int.pow(exponent: Int): Int = toDouble().pow(exponent).toInt()\r\n",
    "\r\n",
    "fun List<Partition>.id(): Int =\r\n",
    "    fold(0..(2 pow count())) { range, partition ->\r\n",
    "        when (partition.half) {\r\n",
    "            Partition.Half.UPPER -> (range.start)..((range.start + range.endInclusive) / 2)\r\n",
    "            Partition.Half.LOWER -> ((range.start + range.endInclusive) / 2)..(range.endInclusive)\r\n",
    "        }\r\n",
    "    }\r\n",
    "    .start\r\n",
    "\r\n",
    "seats\r\n",
    "    .map { it.rowPartitions.id() * 8 + it.columnPartitions.id() }\r\n",
    "    .maxOrNull()"
   ],
   "outputs": [
    {
     "output_type": "execute_result",
     "data": {
      "text/plain": [
       "885"
      ]
     },
     "metadata": {},
     "execution_count": 190
    }
   ],
   "metadata": {}
  },
  {
   "cell_type": "code",
   "execution_count": 191,
   "source": [
    "fun List<Partition>.cleverId(): Int =\r\n",
    "    joinToString(\"\") {\r\n",
    "        when (it.half) {\r\n",
    "            Partition.Half.UPPER -> \"0\"\r\n",
    "            Partition.Half.LOWER -> \"1\"\r\n",
    "        }\r\n",
    "     }\r\n",
    "     .toInt(2)\r\n",
    "\r\n",
    "val Seat.id: Int\r\n",
    "     get() = rowPartitions.cleverId() * 8 + columnPartitions.cleverId()\r\n",
    "\r\n",
    "seats\r\n",
    "    .map { it.id }\r\n",
    "    .maxOrNull()"
   ],
   "outputs": [
    {
     "output_type": "execute_result",
     "data": {
      "text/plain": [
       "885"
      ]
     },
     "metadata": {},
     "execution_count": 191
    }
   ],
   "metadata": {}
  },
  {
   "cell_type": "markdown",
   "source": [
    "### Notes\r\n",
    "\r\n",
    "A binary search problem, but after finishing the problem I wanted to see if there was a more clever way to do it with bit-shifting. The \"a-ha\" moment came after realizing `UPPER` and `LOWER` just represented a bit and simply treating the string as a binary would give you the ID. Felt pretty good about this one.\r\n",
    "\r\n",
    "`String.toInt` takes in a radix which makes parsing a binary's string presentation easy."
   ],
   "metadata": {}
  },
  {
   "cell_type": "markdown",
   "source": [
    "## Part 2\r\n",
    "\r\n",
    "Find the missing seat. The seats at the very front and very back do not exist."
   ],
   "metadata": {}
  },
  {
   "cell_type": "code",
   "execution_count": 192,
   "source": [
    "fun Iterable<Int>.xorAll() = reduce { acc, value -> value xor acc }\r\n",
    "\r\n",
    "seats\r\n",
    "    .map { it.id }\r\n",
    "    .let { \r\n",
    "        val min = it.minOrNull()!!\r\n",
    "        val max = it.maxOrNull()!!\r\n",
    "        it.xorAll() xor (min..max).xorAll()\r\n",
    "     }"
   ],
   "outputs": [
    {
     "output_type": "execute_result",
     "data": {
      "text/plain": [
       "623"
      ]
     },
     "metadata": {},
     "execution_count": 192
    }
   ],
   "metadata": {}
  },
  {
   "cell_type": "markdown",
   "source": [
    "### Notes\r\n",
    "\r\n",
    "I knew that this one was an XOR problem and I basically needed a bitmask but got tripped up in a couple of places.\r\n",
    "\r\n",
    "Firstly, the problem was a bit unclear (should ask for clarification!), I thought it meant the first and last seat did not exist (two seats in total). Rather, _seats_ in the front and back were missing - so it was just a subsection in the middle.\r\n",
    "\r\n",
    "Secondly, I got tripped up on what I was XORing. Clearly I needed to XOR my input, but that was not enough. To find the missing seat, you also need to XOR the contiguous range your seat is in. That way when you XOR both of them together, the missing seat is distinguished.\r\n",
    "\r\n",
    "The \"simpler\" (or rather, without bitwise) would be to just sort the values and iterate over them to see if the N+1 element was missing."
   ],
   "metadata": {}
  }
 ],
 "metadata": {
  "kernelspec": {
   "display_name": "Kotlin",
   "language": "kotlin",
   "name": "python374jvsc74a57bd01005f71a2f2c9f7da6acb75e9bc0247674183f6cab85bd2a339bd069fc0cd207"
  },
  "language_info": {
   "codemirror_mode": "text/x-kotlin",
   "file_extension": ".kt",
   "mimetype": "text/x-kotlin",
   "name": "kotlin",
   "nbconvert_exporter": "",
   "pygments_lexer": "kotlin",
   "version": "1.6.0-dev-3567"
  }
 },
 "nbformat": 4,
 "nbformat_minor": 5
}