{
 "cells": [
  {
   "cell_type": "markdown",
   "source": [
    "# Advent of Code 2020 - Day 9"
   ],
   "metadata": {}
  },
  {
   "cell_type": "code",
   "execution_count": 1,
   "source": [
    "import java.io.File\r\n",
    "\r\n",
    "fun <T> numbers(fn: (Sequence<Int>) -> T) = File(\"Day9.input.txt\")\r\n",
    "    .bufferedReader()\r\n",
    "    .useLines { fn(it.map(String::toInt)) }"
   ],
   "outputs": [],
   "metadata": {}
  },
  {
   "cell_type": "markdown",
   "source": [
    "## Part 1\r\n",
    "\r\n",
    "Given a sequence of `numbers`, the number immediately after 25 numbers must be the sum of any two previous 25 numbers. Find the number that is not the sum of any of its previous 25 numbers."
   ],
   "metadata": {}
  },
  {
   "cell_type": "code",
   "execution_count": 2,
   "source": [
    "fun List<Int>.validate(): Boolean {\r\n",
    "    val target = last()\r\n",
    "    val preamble = this - target\r\n",
    "\r\n",
    "    return preamble.any { (preamble - it).contains(target - it) }\r\n",
    "}\r\n",
    "\r\n",
    "fun Sequence<Int>.xmas(preamble: Int): Int? =\r\n",
    "    windowed(size = preamble + 1, step = 1)\r\n",
    "        .forEach { if (!it.validate()) return it.last() }\r\n",
    "        .let { null }\r\n",
    "\r\n",
    "numbers { it.xmas(25) }"
   ],
   "outputs": [
    {
     "output_type": "execute_result",
     "data": {
      "text/plain": [
       "90433990"
      ]
     },
     "metadata": {},
     "execution_count": 2
    }
   ],
   "metadata": {}
  },
  {
   "cell_type": "markdown",
   "source": [
    "### Notes\r\n",
    "\r\n",
    "The idea is to window the list of numbers and check if the last number is the sum of any two numbers in the list. We learned from an earlier day that we can just subtract the \"target\" number by any number in the list and see if its remainder is also in the list.\r\n",
    "\r\n",
    "This solution was interesting since I decided to use `Sequence`s, something that I don't normally use."
   ],
   "metadata": {}
  },
  {
   "cell_type": "markdown",
   "source": [
    "## Part 2\r\n",
    "\r\n",
    "Find a contiguous sequence of at least two numbers which sum up to the invalid number found from part 1. Take the small and largest number in this contiguous sequence and sum them together for the answer."
   ],
   "metadata": {}
  },
  {
   "cell_type": "code",
   "execution_count": 3,
   "source": [
    "fun Sequence<Int>.sumTo(target: Int): List<Int>? {\r\n",
    "    var sum = 0\r\n",
    "    val nums: List<Int> = takeWhile { num -> if (sum < target) true.also { sum += num } else false }.toList()\r\n",
    "    return if (sum == target) nums else null\r\n",
    "}\r\n",
    "\r\n",
    "numbers { it.xmas(25)!! }\r\n",
    "    .let { target ->\r\n",
    "        var sum: List<Int>? = null\r\n",
    "        var index = 0\r\n",
    "        while (sum == null) {\r\n",
    "            sum = numbers { it.drop(index).sumTo(target) }\r\n",
    "            index += 1\r\n",
    "        }\r\n",
    "        sum.maxOrNull()!! + sum.minOrNull()!!\r\n",
    "    }"
   ],
   "outputs": [
    {
     "output_type": "execute_result",
     "data": {
      "text/plain": [
       "11691646"
      ]
     },
     "metadata": {},
     "execution_count": 3
    }
   ],
   "metadata": {}
  },
  {
   "cell_type": "markdown",
   "source": [
    "### Notes\r\n",
    "\r\n",
    "This one was interesting since it is similar to the first problem, but with a variable length window. It was also interesting for me due to deciding to use a `Sequence` as my input. I don't work with sequences a lot, so I'm not sure if some of the patterns here have a better alternative."
   ],
   "metadata": {}
  }
 ],
 "metadata": {
  "kernelspec": {
   "display_name": "Kotlin",
   "language": "kotlin",
   "name": "python374jvsc74a57bd01005f71a2f2c9f7da6acb75e9bc0247674183f6cab85bd2a339bd069fc0cd207"
  },
  "language_info": {
   "codemirror_mode": "text/x-kotlin",
   "file_extension": ".kt",
   "mimetype": "text/x-kotlin",
   "name": "kotlin",
   "nbconvert_exporter": "",
   "pygments_lexer": "kotlin",
   "version": "1.6.0-dev-3567"
  }
 },
 "nbformat": 4,
 "nbformat_minor": 5
}