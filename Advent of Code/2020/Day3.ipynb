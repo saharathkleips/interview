{
 "cells": [
  {
   "cell_type": "markdown",
   "source": [
    "# Advent of Code 2020 - Day 3"
   ],
   "metadata": {}
  },
  {
   "cell_type": "code",
   "execution_count": 39,
   "source": [
    "enum class Terrain(val id: Char) {\r\n",
    "    OPEN('.'),\r\n",
    "    TREE('#'),\r\n",
    "    ;\r\n",
    "\r\n",
    "    companion object {\r\n",
    "        private val idMap: Map<Char, Terrain> = Terrain.values().associateBy { it.id }\r\n",
    "        fun fromChar(char: Char): Terrain = idMap[char]!!\r\n",
    "    }\r\n",
    "}"
   ],
   "outputs": [],
   "metadata": {}
  },
  {
   "cell_type": "code",
   "execution_count": 40,
   "source": [
    "import java.io.File\r\n",
    "\r\n",
    "typealias Topology = List<List<Terrain>>\r\n",
    "\r\n",
    "val topology: Topology = File(\"Day3.input.txt\")\r\n",
    "    .bufferedReader()\r\n",
    "    .readLines()\r\n",
    "    .map { line ->line.map(Terrain::fromChar) }"
   ],
   "outputs": [],
   "metadata": {}
  },
  {
   "cell_type": "markdown",
   "source": [
    "## Part 1\r\n",
    "\r\n",
    "Count all the trees you encounter on a slope of right 3, down 1 where your starting position is on top-left. For the following `Topology`, the number of encountered trees is 1. Note that, for reasons, the topology repeats forever to the right.\r\n",
    "```\r\n",
    "..##...\r\n",
    "#...#..\r\n",
    ".#....#\r\n",
    "```"
   ],
   "metadata": {}
  },
  {
   "cell_type": "code",
   "execution_count": 41,
   "source": [
    "operator fun Pair<Int, Int>.plus(other: Pair<Int, Int>): Pair<Int, Int> = first + other.first to second + other.second\r\n",
    "\r\n",
    "// First is Col/Down, Second is Row/Right\r\n",
    "tailrec fun Topology.countTreesOnPath(position: Pair<Int, Int>, distance: Pair<Int, Int>, count: Int = 0): Int {\r\n",
    "    val (col, row) = (position + distance).let { it.first to it.second % get(col).size }\r\n",
    "    return if (col < size)\r\n",
    "        when (get(col)[row]) {\r\n",
    "            Terrain.TREE -> countTreesOnPath(col to row, distance, count + 1)\r\n",
    "            else -> countTreesOnPath(col to row, distance, count)\r\n",
    "        }\r\n",
    "    else count\r\n",
    "}\r\n",
    "\r\n",
    "topology.countTreesOnPath(0 to 0, 1 to 3)"
   ],
   "outputs": [
    {
     "output_type": "execute_result",
     "data": {
      "text/plain": [
       "278"
      ]
     },
     "metadata": {},
     "execution_count": 41
    }
   ],
   "metadata": {}
  },
  {
   "cell_type": "markdown",
   "source": [
    "### Notes\r\n",
    "\r\n",
    "The key part here is identifying that the topology repeats itself to the right which should immediately suggest the use of a modulus operator. Simply keep taking the modulus to find your X coordinate and step normally to get your Y coordinate.\r\n",
    "\r\n",
    "Note that `tailrec` optimizes the recursive solution to an iterative solution so there isn't really a downside to using a recursive solution.\r\n",
    "\r\n",
    "The time-complexity is `O(n)` where N is the size topology in the Y direction."
   ],
   "metadata": {}
  },
  {
   "cell_type": "markdown",
   "source": [
    "## Part 2\r\n",
    "\r\n",
    "Do the same thing but with the following slopes and multiply their counts together:\r\n",
    "- right 1, down 1\r\n",
    "- right 3, down 1\r\n",
    "- right 5, down 1\r\n",
    "- right 7, down 1\r\n",
    "- right 1, down 2"
   ],
   "metadata": {}
  },
  {
   "cell_type": "code",
   "execution_count": 42,
   "source": [
    "listOf(\r\n",
    "    1 to 1,\r\n",
    "    3 to 1,\r\n",
    "    5 to 1,\r\n",
    "    7 to 1,\r\n",
    "    1 to 2,\r\n",
    ")\r\n",
    "    .map { (right, down) -> topology.countTreesOnPath(0 to 0, down to right) }\r\n",
    "    .fold(1L) { acc, count -> acc * count }"
   ],
   "outputs": [
    {
     "output_type": "execute_result",
     "data": {
      "text/plain": [
       "9709761600"
      ]
     },
     "metadata": {},
     "execution_count": 42
    }
   ],
   "metadata": {}
  },
  {
   "cell_type": "markdown",
   "source": [
    "### Notes\r\n",
    "\r\n",
    "Same problem, but you just have to do it a bunch of times. There was a small hiccup in that the final answer was larger than the size of an `Int` (`2_147_483_648`), so I needed to use a `Long`."
   ],
   "metadata": {}
  }
 ],
 "metadata": {
  "kernelspec": {
   "display_name": "Kotlin",
   "language": "kotlin",
   "name": "python374jvsc74a57bd01005f71a2f2c9f7da6acb75e9bc0247674183f6cab85bd2a339bd069fc0cd207"
  },
  "language_info": {
   "codemirror_mode": "text/x-kotlin",
   "file_extension": ".kt",
   "mimetype": "text/x-kotlin",
   "name": "kotlin",
   "nbconvert_exporter": "",
   "pygments_lexer": "kotlin",
   "version": "1.6.0-dev-3567"
  }
 },
 "nbformat": 4,
 "nbformat_minor": 5
}