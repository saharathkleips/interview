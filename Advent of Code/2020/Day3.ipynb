{
 "cells": [
  {
   "cell_type": "markdown",
   "source": [
    "# Advent of Code 2020 - Day 3"
   ],
   "metadata": {}
  },
  {
   "cell_type": "code",
   "execution_count": 21,
   "source": [
    "enum class Terrain(val id: Char) {\r\n",
    "    OPEN('.'),\r\n",
    "    TREE('#'),\r\n",
    "    ;\r\n",
    "\r\n",
    "    companion object {\r\n",
    "        private val idMap: Map<Char, Terrain> = Terrain.values().associateBy { it.id }\r\n",
    "        fun fromChar(char: Char): Terrain = idMap[char]!!\r\n",
    "    }\r\n",
    "}"
   ],
   "outputs": [],
   "metadata": {}
  },
  {
   "cell_type": "code",
   "execution_count": 22,
   "source": [
    "import java.io.File\r\n",
    "\r\n",
    "typealias Topology = List<List<Terrain>>\r\n",
    "\r\n",
    "val topology: Topology = File(\"Day3.input.txt\")\r\n",
    "    .bufferedReader()\r\n",
    "    .readLines()\r\n",
    "    .map { line ->line.map(Terrain::fromChar) }"
   ],
   "outputs": [],
   "metadata": {}
  },
  {
   "cell_type": "markdown",
   "source": [
    "## Part 1\r\n",
    "\r\n",
    "Count all the trees you encounter on a slope of right 3, down 1 where your starting position is on top-left. For the following `Topology`, the number of encountered trees is 1.\r\n",
    "```\r\n",
    "..##...\r\n",
    "#...#..\r\n",
    ".#....#\r\n",
    "```"
   ],
   "metadata": {}
  },
  {
   "cell_type": "code",
   "execution_count": 23,
   "source": [
    "fun <T> List<List<T>>.duplicateColumns(byNum: Int) = map { row -> List(byNum) { row }.flatten() }\r\n",
    "fun <T> List<List<T>>.dropChunk(row: Int, col: Int): List<List<T>> = drop(row).map { it.drop(col) }\r\n",
    "\r\n",
    "tailrec fun Topology.countTreesOnPath(row: Int, col: Int, count: Int = 0): Int =\r\n",
    "    if (row < size && col < get(row).size) \r\n",
    "        when (get(row)[col]) {\r\n",
    "            Terrain.TREE -> dropChunk(row, col).countTreesOnPath(row, col, count + 1)\r\n",
    "            else -> dropChunk(row, col).countTreesOnPath(row, col, count)\r\n",
    "        }\r\n",
    "    else count\r\n",
    "    \r\n",
    "\r\n",
    "val down = 1; val right = 3\r\n",
    "\r\n",
    "topology\r\n",
    "    .duplicateColumns(topology.size / down)\r\n",
    "    .countTreesOnPath(1,3)"
   ],
   "outputs": [
    {
     "output_type": "execute_result",
     "data": {
      "text/plain": [
       "278"
      ]
     },
     "metadata": {},
     "execution_count": 23
    }
   ],
   "metadata": {}
  },
  {
   "cell_type": "markdown",
   "source": [
    "### Notes\r\n",
    "\r\n",
    "Pretty happy with this one since it was kind of fun. Idea was to only think about the subsection that was immediately relevant. e.g. The boundary marked by the path. If you solved for that small subsection, you could just call the same function that solved it and ignore the path already completed. So it made sense to me to go for a recursive solution. Note that `tailrec` optimizes the recursive solution to an iterative solution so there isn't really a downside to using a recursive solution.\r\n",
    "\r\n",
    "Breaking down the time-complexity (I think):\r\n",
    "- `duplicateColumns`: `O(n*m)`\r\n",
    "- `dropChunk`: `O(n*m)`\r\n",
    "- `countTreesOnPath`: `O(n*m)`\r\n",
    "\r\n",
    "So, ultimately an `O(n*m)` as it scales linearly with the size of the 2D array."
   ],
   "metadata": {}
  }
 ],
 "metadata": {
  "kernelspec": {
   "display_name": "Kotlin",
   "language": "kotlin",
   "name": "python374jvsc74a57bd01005f71a2f2c9f7da6acb75e9bc0247674183f6cab85bd2a339bd069fc0cd207"
  },
  "language_info": {
   "codemirror_mode": "text/x-kotlin",
   "file_extension": ".kt",
   "mimetype": "text/x-kotlin",
   "name": "kotlin",
   "nbconvert_exporter": "",
   "pygments_lexer": "kotlin",
   "version": "1.6.0-dev-3567"
  }
 },
 "nbformat": 4,
 "nbformat_minor": 5
}