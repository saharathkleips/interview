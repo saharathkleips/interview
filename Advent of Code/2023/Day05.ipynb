{
 "cells": [
  {
   "cell_type": "markdown",
   "source": [
    "# Advent of Code 2023 - Day 5"
   ],
   "metadata": {
    "collapsed": false
   }
  },
  {
   "cell_type": "code",
   "execution_count": 129,
   "outputs": [],
   "source": [
    "import java.io.File\n",
    "import java.util.Scanner\n",
    "\n",
    "data class Range(\n",
    "    val source: Long,\n",
    "    val destination: Long,\n",
    "    val length: Long,\n",
    ")\n",
    "\n",
    "data class Mapping(\n",
    "    val source: String,\n",
    "    val destination: String,\n",
    "    val ranges: List<Range>,\n",
    ")\n",
    "\n",
    "val SOURCE_TO_DESTINATION_REGEX = \"\"\"(.+)-to-(.+)\\s\"\"\".toRegex()\n",
    "val DIGIT_REGEX = \"\"\"(\\d+)\"\"\".toRegex()\n",
    "\n",
    "val (seeds, almanac) = Scanner(File(\"Day05.input.txt\"))\n",
    "    .apply { useDelimiter(\"\\n\\n\") }\n",
    "    .use { scanner ->\n",
    "        generateSequence { if (scanner.hasNext()) scanner.next() else null }\n",
    "            .mapIndexed { index, maps ->\n",
    "                if (index == 0) {\n",
    "                    DIGIT_REGEX.findAll(maps).map(MatchResult::value).map(String::toLong).toList()\n",
    "                }\n",
    "                else {\n",
    "                    maps.split(\":\\n\").let { (category, conversions) ->\n",
    "                        val (source, destination) = SOURCE_TO_DESTINATION_REGEX.find(category)!!.destructured\n",
    "                        Mapping(\n",
    "                            source = source,\n",
    "                            destination = destination,\n",
    "                            ranges = conversions.split(\"\\n\")\n",
    "                                .map { \n",
    "                                    DIGIT_REGEX.findAll(it).map(MatchResult::value).toList().let { (destNum, sourceNum, length) ->\n",
    "                                        Range(\n",
    "                                            source = sourceNum.toLong(),\n",
    "                                            destination = destNum.toLong(),\n",
    "                                            length = length.toLong(),\n",
    "                                        )\n",
    "                                    }\n",
    "                                }\n",
    "                        )\n",
    "                    }\n",
    "                }\n",
    "            }\n",
    "            .toList()\n",
    "            .let { it.first() as List<Long> to it.drop(1) as List<Mapping> }\n",
    "    }\n",
    "    "
   ],
   "metadata": {
    "collapsed": false,
    "ExecuteTime": {
     "end_time": "2023-12-07T03:42:52.020014Z",
     "start_time": "2023-12-07T03:42:51.692934Z"
    }
   }
  },
  {
   "cell_type": "markdown",
   "source": [
    "### Notes\n",
    "\n",
    "TODO: Clean up\n",
    "(I'm never coming back to this.)"
   ],
   "metadata": {
    "collapsed": false
   }
  },
  {
   "cell_type": "markdown",
   "source": [
    "## Part 1\n",
    "\n",
    "This one is really long, read the original problem."
   ],
   "metadata": {
    "collapsed": false
   }
  },
  {
   "cell_type": "code",
   "execution_count": 130,
   "outputs": [
    {
     "data": {
      "text/plain": "662197086"
     },
     "execution_count": 130,
     "metadata": {},
     "output_type": "execute_result"
    }
   ],
   "source": [
    "operator fun Range.get(value: Long): Long? =\n",
    "    takeIf { value in source..<(source + length) }?.let { destination - source + value }\n",
    "\n",
    "operator fun Mapping.get(source: Long): Long = ranges.firstNotNullOfOrNull { it[source] } ?: source\n",
    "\n",
    "fun List<Mapping>.map(value: Long): Long = fold(value) { acc, mapping -> mapping[acc] }\n",
    "\n",
    "seeds.minOf { almanac.map(it) }"
   ],
   "metadata": {
    "collapsed": false,
    "ExecuteTime": {
     "end_time": "2023-12-07T03:42:52.115099Z",
     "start_time": "2023-12-07T03:42:52.019082Z"
    }
   }
  },
  {
   "cell_type": "markdown",
   "source": [
    "### Notes\n",
    "\n",
    "Breaking down the problem into more digestible components made this a lot easier. First figure out how to map a single range, and then a single mapping, and then a list of mappings."
   ],
   "metadata": {
    "collapsed": false
   }
  },
  {
   "cell_type": "markdown",
   "source": [
    "## Part 2\n",
    "\n",
    "Read original problem."
   ],
   "metadata": {
    "collapsed": false
   }
  },
  {
   "cell_type": "code",
   "execution_count": 131,
   "outputs": [
    {
     "data": {
      "text/plain": "52510809"
     },
     "execution_count": 131,
     "metadata": {},
     "output_type": "execute_result"
    }
   ],
   "source": [
    "seeds.chunked(2).map { (start, length) -> start..<(start + length) }\n",
    "    .minOf {\n",
    "        it.minOf { almanac.map(it) }\n",
    "    }"
   ],
   "metadata": {
    "collapsed": false,
    "ExecuteTime": {
     "end_time": "2023-12-07T03:57:30.781817Z",
     "start_time": "2023-12-07T03:42:52.114248Z"
    }
   }
  },
  {
   "cell_type": "markdown",
   "source": [
    "### Notes\n",
    "\n",
    "I just ran this for about 10 minutes or so and it worked 🙈 Some other ways I considered:\n",
    "- Figure out how to \"flatten\" the mappings by determining how a range of mappings map to each other. i.e. Applying a source range should generate new ranges, if you \"map the mappings\" then you don't need to \"drill down\" for each number.\n",
    "- Since we're looking for the lowest number, we can go \"in reverse\". Assume 0 is the answer and map the number backwards, if it's in the original set then that's your answer. If not, increment by 1 until you find it. You could probably binary search the lowest value too?"
   ],
   "metadata": {
    "collapsed": false
   }
  }
 ],
 "metadata": {
  "kernelspec": {
   "display_name": "Kotlin",
   "language": "kotlin",
   "name": "kotlin"
  },
  "language_info": {
   "name": "kotlin",
   "version": "1.9.0",
   "mimetype": "text/x-kotlin",
   "file_extension": ".kt",
   "pygments_lexer": "kotlin",
   "codemirror_mode": "text/x-kotlin",
   "nbconvert_exporter": ""
  }
 },
 "nbformat": 4,
 "nbformat_minor": 0
}
