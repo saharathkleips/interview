{
 "cells": [
  {
   "cell_type": "markdown",
   "source": [
    "# Advent of Code 2023 - Day 3"
   ],
   "metadata": {
    "collapsed": false
   }
  },
  {
   "cell_type": "code",
   "execution_count": 110,
   "outputs": [],
   "source": [
    "import java.io.File\n",
    "\n",
    "data class Boundary(\n",
    "    val columns: IntRange,\n",
    "    val rows: IntRange,\n",
    ")\n",
    "\n",
    "sealed interface Part<T> {\n",
    "    val value: T\n",
    "    val boundary: Boundary\n",
    "}\n",
    "\n",
    "data class NumberPart(override val value: Int, override val boundary: Boundary) : Part<Int>\n",
    "data class SymbolPart(override val value: Char, override val boundary: Boundary) : Part<Char>\n",
    "\n",
    "val NUMBER_REGEX = \"\"\"(\\d+)\"\"\".toRegex()\n",
    "val SYMBOL_REGEX = \"\"\"([^\\d.])\"\"\".toRegex()\n",
    "\n",
    "val schematic: Set<Part<*>> = File(\"Day03.input.txt\")\n",
    "    .bufferedReader()\n",
    "    .lineSequence()\n",
    "    .flatMapIndexed { column, line ->\n",
    "        SYMBOL_REGEX.findAll(line).map {\n",
    "            SymbolPart(\n",
    "                value = it.value[0],\n",
    "                boundary = Boundary(\n",
    "                    rows = it.range,\n",
    "                    columns = column..column\n",
    "                )\n",
    "            )\n",
    "        } + NUMBER_REGEX.findAll(line).map {\n",
    "            NumberPart(\n",
    "                value = it.value.toInt(),\n",
    "                boundary = Boundary(\n",
    "                    rows = it.range,\n",
    "                    columns = column..column\n",
    "                )\n",
    "            )\n",
    "        }\n",
    "    }\n",
    "    .toSet()"
   ],
   "metadata": {
    "collapsed": false,
    "ExecuteTime": {
     "end_time": "2023-12-05T03:12:04.185860Z",
     "start_time": "2023-12-05T03:12:04.053994Z"
    }
   }
  },
  {
   "cell_type": "markdown",
   "source": [
    "## Part 1\n",
    "\n",
    "Sum up all `NumberPart`s that are adjacent, including diagonally, to a `SymbolPart`."
   ],
   "metadata": {
    "collapsed": false
   }
  },
  {
   "cell_type": "code",
   "execution_count": 111,
   "outputs": [
    {
     "data": {
      "text/plain": "539637"
     },
     "execution_count": 111,
     "metadata": {},
     "output_type": "execute_result"
    }
   ],
   "source": [
    "infix fun Boundary.intersect(other: Boundary): Boolean =\n",
    "    (rows intersect other.rows).isNotEmpty() && (columns intersect other.columns).isNotEmpty()\n",
    "\n",
    "fun Boundary.pad(columns: Int = 0, rows: Int = 0): Boundary = Boundary(\n",
    "    columns = (this.columns.start - columns)..(this.columns.endInclusive + columns),\n",
    "    rows = (this.rows.start - rows)..(this.rows.endInclusive + rows),\n",
    ")\n",
    "\n",
    "schematic\n",
    "    .filterIsInstance<NumberPart>()\n",
    "    .filter { numberPart ->\n",
    "        schematic.filterIsInstance<SymbolPart>()\n",
    "            .any { numberPart.boundary.pad(1, 1) intersect it.boundary }\n",
    "    }\n",
    "    .sumOf(NumberPart::value)"
   ],
   "metadata": {
    "collapsed": false,
    "ExecuteTime": {
     "end_time": "2023-12-05T03:12:04.660767Z",
     "start_time": "2023-12-05T03:12:04.185476Z"
    }
   }
  },
  {
   "cell_type": "markdown",
   "source": [
    "### Notes\n",
    "\n",
    "Thinking about this problem as a collision problem I think makes this a lot easier. All you have to do is check whether two boundaries overlap."
   ],
   "metadata": {
    "collapsed": false
   }
  },
  {
   "cell_type": "markdown",
   "source": [
    "## Part 2\n",
    "\n",
    "A gear is any `SymbolPart` whose value is `\"*\"` and is adjacent to exactly two `NumberPart`s. Multiply the two `NumberPart`s to obtain the gear ratio and find the sum of all gear ratios."
   ],
   "metadata": {
    "collapsed": false
   }
  },
  {
   "cell_type": "code",
   "execution_count": 112,
   "outputs": [
    {
     "data": {
      "text/plain": "82818007"
     },
     "execution_count": 112,
     "metadata": {},
     "output_type": "execute_result"
    }
   ],
   "source": [
    "fun SymbolPart.isGear(): Boolean = value == '*'\n",
    "\n",
    "schematic\n",
    "    .filterIsInstance<SymbolPart>()\n",
    "    .filter { it.isGear() }\n",
    "    .mapNotNull { gear ->\n",
    "        schematic.filterIsInstance<NumberPart>()\n",
    "            .filter { gear.boundary.pad(1, 1) intersect it.boundary }\n",
    "            .takeIf { it.size == 2 }\n",
    "            ?.let { it[0].value * it[1].value }\n",
    "    }\n",
    "    .sum()"
   ],
   "metadata": {
    "collapsed": false,
    "ExecuteTime": {
     "end_time": "2023-12-05T03:12:04.968362Z",
     "start_time": "2023-12-05T03:12:04.659507Z"
    }
   }
  },
  {
   "cell_type": "markdown",
   "source": [
    "### Notes\n",
    "\n",
    "Logic is just slightly different, but the concept of treating it as a collision remains the same."
   ],
   "metadata": {
    "collapsed": false
   }
  }
 ],
 "metadata": {
  "kernelspec": {
   "display_name": "Kotlin",
   "language": "kotlin",
   "name": "kotlin"
  },
  "language_info": {
   "name": "kotlin",
   "version": "1.9.0",
   "mimetype": "text/x-kotlin",
   "file_extension": ".kt",
   "pygments_lexer": "kotlin",
   "codemirror_mode": "text/x-kotlin",
   "nbconvert_exporter": ""
  }
 },
 "nbformat": 4,
 "nbformat_minor": 0
}
