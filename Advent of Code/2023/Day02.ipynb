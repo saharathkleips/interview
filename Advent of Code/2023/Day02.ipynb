{
 "cells": [
  {
   "cell_type": "markdown",
   "source": [
    "# Advent of Code 2023 - Day 2"
   ],
   "metadata": {
    "collapsed": false
   }
  },
  {
   "cell_type": "code",
   "execution_count": 137,
   "outputs": [],
   "source": [
    "import java.io.File\n",
    "\n",
    "data class Game(\n",
    "    val id: Int,\n",
    "    val rounds: List<Round>,\n",
    ")\n",
    "\n",
    "class Round(map: Map<String, Int>) {\n",
    "    private val defaultMap = map.withDefault { 0 }\n",
    "    val red: Int by defaultMap\n",
    "    val green: Int by defaultMap\n",
    "    val blue: Int by defaultMap\n",
    "}\n",
    "\n",
    "val idRegex: Regex = \"\"\"Game (\\d+)\"\"\".toRegex()\n",
    "val colorRegex: Regex = \"\"\"(\\d+) (\\w+)\"\"\".toRegex()\n",
    "\n",
    "val games: List<Game> = File(\"Day02.input.txt\")\n",
    "    .bufferedReader()\n",
    "    .lineSequence()\n",
    "    .map { line ->\n",
    "        val (id, rounds) = line.split(\":\")\n",
    "        Game(\n",
    "            id = idRegex.find(id)!!.destructured.component1().toInt(),\n",
    "            rounds = rounds.split(\";\").flatMap { roundLine ->\n",
    "                roundLine.split(\",\")\n",
    "                    .map { colorLine ->\n",
    "                        colorRegex.findAll(colorLine)\n",
    "                            .map { it.destructured }\n",
    "                            .associate { (number, color) -> color to number.toInt() }\n",
    "                    }\n",
    "                    .map(::Round)\n",
    "            }\n",
    "        )\n",
    "    }\n",
    "    .toList()\n",
    "    \n",
    "data class Bag(val red: Int, val green: Int, val blue: Int)\n",
    "val part1Bag = Bag(red = 12, green = 13, blue = 14)"
   ],
   "metadata": {
    "collapsed": false,
    "ExecuteTime": {
     "end_time": "2023-12-04T00:39:14.995308Z",
     "start_time": "2023-12-04T00:39:14.741901Z"
    }
   }
  },
  {
   "cell_type": "markdown",
   "source": [
    "## Part 1\n",
    "\n",
    "Determine whether a given `Game` is impossible by checking if any of its `Round`s has more cubes (`red`, `green`, and `blue`) than what is in the `Bag`. Sum the `Game::id` of all possible games to get the answer."
   ],
   "metadata": {
    "collapsed": false
   }
  },
  {
   "cell_type": "code",
   "execution_count": 138,
   "outputs": [
    {
     "data": {
      "text/plain": "2237"
     },
     "execution_count": 138,
     "metadata": {},
     "output_type": "execute_result"
    }
   ],
   "source": [
    "fun Round.isPossible(bag: Bag): Boolean = red <= bag.red && green <= bag.green && blue <= bag.blue\n",
    "fun Game.isPossible(bag: Bag): Boolean = rounds.all { it.isPossible(bag) }\n",
    "\n",
    "games.filter { it.isPossible(part1Bag) }.sumOf(Game::id)\n"
   ],
   "metadata": {
    "collapsed": false,
    "ExecuteTime": {
     "end_time": "2023-12-04T00:39:15.205112Z",
     "start_time": "2023-12-04T00:39:14.994834Z"
    }
   }
  },
  {
   "cell_type": "markdown",
   "source": [
    "### Notes\n",
    "\n",
    "The most challenging section of this part was probably during input parsing. Once the structures are in place, determining which games are possible is pretty straight forward."
   ],
   "metadata": {
    "collapsed": false
   }
  },
  {
   "cell_type": "markdown",
   "source": [
    "## Part 2\n",
    "\n",
    "The power of a set of cubes is equal to the number of `red`, `green`, and `blue` cubes multiplied together. Determine each `Game`'s minimum number of cubes that would need to be in the bag to make each `Game` possible and sum their powers together."
   ],
   "metadata": {
    "collapsed": false
   }
  },
  {
   "cell_type": "code",
   "execution_count": 139,
   "outputs": [
    {
     "data": {
      "text/plain": "66681"
     },
     "execution_count": 139,
     "metadata": {},
     "output_type": "execute_result"
    }
   ],
   "source": [
    "import kotlin.reflect.KProperty1\n",
    "\n",
    "fun Bag.power(): Int = red * green * blue\n",
    "\n",
    "fun List<Round>.minOf(property: KProperty1<Round, Int>) = maxOf { property(it) }\n",
    "\n",
    "fun Game.minBag(): Bag = Bag(\n",
    "    red = rounds.minOf(Round::red),\n",
    "    green = rounds.minOf(Round::green),\n",
    "    blue = rounds.minOf(Round::blue),\n",
    ")\n",
    "\n",
    "games.map { it.minBag() }.sumOf { it.power() }"
   ],
   "metadata": {
    "collapsed": false,
    "ExecuteTime": {
     "end_time": "2023-12-04T00:39:15.305340Z",
     "start_time": "2023-12-04T00:39:15.204463Z"
    }
   }
  },
  {
   "cell_type": "markdown",
   "source": [
    "### Notes\n",
    "\n",
    "Again, I think this part was straight forward due to the setup in the input parsing. I think the relationship between a `Round` and a `Bag` could probably be better, maybe a parent interface `Cubes`, so that way we could protect against any refactors that might assign `Bag::red` to something other than `Round::red`.\n",
    "\n",
    "Input parsing could definitely be cleaned up since, in hindsight, was the meat of the problem, so probably should have required more care. But, it's day 2, and I'm feeling a bit lazy."
   ],
   "metadata": {
    "collapsed": false
   }
  }
 ],
 "metadata": {
  "kernelspec": {
   "display_name": "Kotlin",
   "language": "kotlin",
   "name": "kotlin"
  },
  "language_info": {
   "name": "kotlin",
   "version": "1.9.0",
   "mimetype": "text/x-kotlin",
   "file_extension": ".kt",
   "pygments_lexer": "kotlin",
   "codemirror_mode": "text/x-kotlin",
   "nbconvert_exporter": ""
  }
 },
 "nbformat": 4,
 "nbformat_minor": 0
}
