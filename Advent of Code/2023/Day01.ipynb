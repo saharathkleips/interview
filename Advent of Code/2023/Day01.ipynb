{
 "cells": [
  {
   "cell_type": "markdown",
   "source": [
    "# Advent of Code 2023 - Day 1"
   ],
   "metadata": {
    "collapsed": false
   }
  },
  {
   "cell_type": "code",
   "execution_count": 77,
   "outputs": [],
   "source": [
    "import java.io.File\n",
    "\n",
    "val instructions: List<String> = File(\"Day01.input.txt\")\n",
    "    .bufferedReader()\n",
    "    .readLines()"
   ],
   "metadata": {
    "collapsed": false,
    "ExecuteTime": {
     "end_time": "2023-12-01T22:21:09.335407Z",
     "start_time": "2023-12-01T22:21:09.261604Z"
    }
   }
  },
  {
   "cell_type": "markdown",
   "source": [
    "## Part 1\n",
    "\n",
    "Find the calibration value determined by concatenating the first and last number in each `instructions` string and sum them."
   ],
   "metadata": {
    "collapsed": false
   }
  },
  {
   "cell_type": "code",
   "execution_count": 78,
   "outputs": [
    {
     "data": {
      "text/plain": "53194"
     },
     "execution_count": 78,
     "metadata": {},
     "output_type": "execute_result"
    }
   ],
   "source": [
    "fun String.digitizedCalibrationNumber(): Int =\n",
    "    \"${first(Char::isDigit)}${last(Char::isDigit)}\".toInt()\n",
    "    \n",
    "instructions.sumOf { it.digitizedCalibrationNumber() }"
   ],
   "metadata": {
    "collapsed": false,
    "ExecuteTime": {
     "end_time": "2023-12-01T22:21:09.454055Z",
     "start_time": "2023-12-01T22:21:09.301614Z"
    }
   }
  },
  {
   "cell_type": "markdown",
   "source": [
    "### Notes\n",
    "\n",
    "The Kotlin standard library makes this pretty trivial 🙌."
   ],
   "metadata": {
    "collapsed": false
   }
  },
  {
   "cell_type": "markdown",
   "source": [
    "## Part 2\n",
    "\n",
    "Similar to part 1, except numbers can also be spelled out."
   ],
   "metadata": {
    "collapsed": false
   }
  },
  {
   "cell_type": "code",
   "execution_count": 79,
   "outputs": [
    {
     "data": {
      "text/plain": "54249"
     },
     "execution_count": 79,
     "metadata": {},
     "output_type": "execute_result"
    }
   ],
   "source": [
    "fun String.spelledCalibrationNumber(): Int {\n",
    "    val replacements = mapOf(\n",
    "        \"one\" to 1, \"1\" to 1,\n",
    "        \"two\" to 2, \"2\" to 2,\n",
    "        \"three\" to 3, \"3\" to 3,\n",
    "        \"four\" to 4, \"4\" to 4,\n",
    "        \"five\" to 5, \"5\" to 5,\n",
    "        \"six\" to 6, \"6\" to 6,\n",
    "        \"seven\" to 7, \"7\" to 7,\n",
    "        \"eight\" to 8, \"8\" to 8,\n",
    "        \"nine\" to 9, \"9\" to 9,\n",
    "    )\n",
    "    \n",
    "    return findAnyOf(replacements.keys)!!.let { (_, firstKey) ->\n",
    "        findLastAnyOf(replacements.keys)!!.let { (_, lastKey) ->\n",
    "            \"${replacements[firstKey]}${replacements[lastKey]}\"\n",
    "        }\n",
    "    }.toInt()\n",
    "}\n",
    "\n",
    "instructions.sumOf { it.spelledCalibrationNumber() }"
   ],
   "metadata": {
    "collapsed": false,
    "ExecuteTime": {
     "end_time": "2023-12-01T22:21:09.670690Z",
     "start_time": "2023-12-01T22:21:09.448208Z"
    }
   }
  },
  {
   "cell_type": "markdown",
   "source": [
    "### Notes\n",
    "\n",
    "The tricky part here is that letters can overlap e.g. \"eightwo\" which should give you \"8\" instead of \"2\". Originally I had thought to find and replace the strings with their digits to leverage the function written in part 1, but `findAnyOf` finds the first occurrence of the given strings, so the standard library shines through again 🙌."
   ],
   "metadata": {
    "collapsed": false
   }
  }
 ],
 "metadata": {
  "kernelspec": {
   "display_name": "Kotlin",
   "language": "kotlin",
   "name": "kotlin"
  },
  "language_info": {
   "name": "kotlin",
   "version": "1.9.0",
   "mimetype": "text/x-kotlin",
   "file_extension": ".kt",
   "pygments_lexer": "kotlin",
   "codemirror_mode": "text/x-kotlin",
   "nbconvert_exporter": ""
  }
 },
 "nbformat": 4,
 "nbformat_minor": 0
}
