{
 "cells": [
  {
   "cell_type": "markdown",
   "source": [
    "# Advent of Code 2023 - Day 4"
   ],
   "metadata": {
    "collapsed": false
   }
  },
  {
   "cell_type": "code",
   "execution_count": 58,
   "outputs": [],
   "source": [
    "import java.io.File\n",
    "\n",
    "data class ScratchCard(\n",
    "    val winningNumbers: Set<Int>,\n",
    "    val scratchedNumbers: Set<Int>,\n",
    ")\n",
    "\n",
    "val DIGITS_REGEX = \"\"\"(\\d+)\"\"\".toRegex()\n",
    "\n",
    "val scratchCards: List<ScratchCard> = File(\"Day04.input.txt\")\n",
    "    .bufferedReader()\n",
    "    .lineSequence()\n",
    "    .map { it.substringAfter(\":\", \"\") }\n",
    "    .map { it.split(\"|\") }\n",
    "    .map { (left, right) ->\n",
    "        ScratchCard(\n",
    "            winningNumbers = DIGITS_REGEX.findAll(left).map(MatchResult::value).map(String::toInt).toSet(),\n",
    "            scratchedNumbers = DIGITS_REGEX.findAll(right).map(MatchResult::value).map(String::toInt).toSet()\n",
    "        )\n",
    "    }\n",
    "    .toList()"
   ],
   "metadata": {
    "collapsed": false,
    "ExecuteTime": {
     "end_time": "2023-12-05T04:11:19.204976Z",
     "start_time": "2023-12-05T04:11:18.908995Z"
    }
   }
  },
  {
   "cell_type": "markdown",
   "source": [
    "## Part 1\n",
    "\n",
    "A `ScratchCard`'s point value is determined by the number of `ScratchCard::scratchedNumbers` that are within `ScratchCard::winningNumbers`. The first match makes a `ScratchCard` 1 point and each match after the first doubles the point value of the card. Sum all of the `ScratchCard`'s point values."
   ],
   "metadata": {
    "collapsed": false
   }
  },
  {
   "cell_type": "code",
   "execution_count": 59,
   "outputs": [
    {
     "data": {
      "text/plain": "18619"
     },
     "execution_count": 59,
     "metadata": {},
     "output_type": "execute_result"
    }
   ],
   "source": [
    "fun ScratchCard.numbersWon(): Set<Int> = scratchedNumbers intersect winningNumbers\n",
    "fun ScratchCard.pointValue(): Int = numbersWon().let { 2f.pow(it.size - 1) }.toInt()\n",
    "\n",
    "scratchCards\n",
    "    .sumOf { it.pointValue() }"
   ],
   "metadata": {
    "collapsed": false,
    "ExecuteTime": {
     "end_time": "2023-12-05T04:11:19.280819Z",
     "start_time": "2023-12-05T04:11:19.204825Z"
    }
   }
  },
  {
   "cell_type": "markdown",
   "source": [
    "### Notes\n",
    "\n",
    "Kotlin's `Set::intersect` makes this pretty easy."
   ],
   "metadata": {
    "collapsed": false
   }
  },
  {
   "cell_type": "markdown",
   "source": [
    "## Part 2\n",
    "\n",
    "A `ScratchCard::scratchedNumbers` that are within `ScratchCard::winningNumbers` will now win more `ScratchCard`s equal to the number of matching numbers. The `ScratchCard`s won are equal to scratch cards below the one that won. Copies of `ScratchCard`s are then scored as normal and will win a copy of the same cards the original won. How many total `ScratchCard`s, original and copied, are won?"
   ],
   "metadata": {
    "collapsed": false
   }
  },
  {
   "cell_type": "code",
   "execution_count": 60,
   "outputs": [
    {
     "data": {
      "text/plain": "8063216"
     },
     "execution_count": 60,
     "metadata": {},
     "output_type": "execute_result"
    }
   ],
   "source": [
    "fun totalWonOf(cards: List<ScratchCard>): Int = MutableList(cards.size) { 1 }.apply {\n",
    "    cards.forEachIndexed { index, card ->\n",
    "        ((index + 1)..(index + card.numbersWon().size)).forEach { nextIndex ->\n",
    "            this[nextIndex] += this[index]\n",
    "        }\n",
    "    }\n",
    "}.sum()\n",
    "\n",
    "totalWonOf(scratchCards)"
   ],
   "metadata": {
    "collapsed": false,
    "ExecuteTime": {
     "end_time": "2023-12-05T04:11:19.381244Z",
     "start_time": "2023-12-05T04:11:19.281011Z"
    }
   }
  },
  {
   "cell_type": "markdown",
   "source": [
    "### Notes\n",
    "\n",
    "Thought about implementing this as a `tailrec` function, since the whole \"winning more cards\" idea seemed to lend itself to recursion, but ended up writing more iteratively by initializing a list of 1s since it ended up being easier.\n",
    "\n",
    "Side note: The summary for this problem is convoluted, read the original instructions if confused."
   ],
   "metadata": {
    "collapsed": false
   }
  }
 ],
 "metadata": {
  "kernelspec": {
   "display_name": "Kotlin",
   "language": "kotlin",
   "name": "kotlin"
  },
  "language_info": {
   "name": "kotlin",
   "version": "1.9.0",
   "mimetype": "text/x-kotlin",
   "file_extension": ".kt",
   "pygments_lexer": "kotlin",
   "codemirror_mode": "text/x-kotlin",
   "nbconvert_exporter": ""
  }
 },
 "nbformat": 4,
 "nbformat_minor": 0
}
